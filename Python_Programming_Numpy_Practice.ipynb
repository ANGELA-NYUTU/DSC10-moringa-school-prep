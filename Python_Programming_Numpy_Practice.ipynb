{
  "nbformat": 4,
  "nbformat_minor": 0,
  "metadata": {
    "colab": {
      "name": "Python Programming - Numpy Practice",
      "provenance": [],
      "collapsed_sections": [],
      "toc_visible": true,
      "include_colab_link": true
    },
    "kernelspec": {
      "name": "python3",
      "display_name": "Python 3"
    }
  },
  "cells": [
    {
      "cell_type": "markdown",
      "metadata": {
        "id": "view-in-github",
        "colab_type": "text"
      },
      "source": [
        "<a href=\"https://colab.research.google.com/github/ANGELA-NYUTU/DSC10-moringa-school-prep/blob/main/Python_Programming_Numpy_Practice.ipynb\" target=\"_parent\"><img src=\"https://colab.research.google.com/assets/colab-badge.svg\" alt=\"Open In Colab\"/></a>"
      ]
    },
    {
      "cell_type": "markdown",
      "metadata": {
        "id": "lLLVoxQQDrNO"
      },
      "source": [
        "<font color=\"green\">*To start working on this notebook, or any other notebook that we will use in the Moringa Data Science Course, we will need to save our own copy of it. We can do this by clicking File > Save a Copy in Drive. We will then be able to make edits to our own copy of this notebook.*</font>"
      ]
    },
    {
      "cell_type": "markdown",
      "metadata": {
        "id": "-7J_lE4-YPLq"
      },
      "source": [
        "### <font color=\"green\">1.1 Challenge: Importing our Library</font>"
      ]
    },
    {
      "cell_type": "code",
      "metadata": {
        "id": "9l8Juvt-bRgz"
      },
      "source": [
        "# Let's import numpy\n",
        "#\n",
        "import numpy as np"
      ],
      "execution_count": null,
      "outputs": []
    },
    {
      "cell_type": "markdown",
      "metadata": {
        "id": "cnaEkfAtY5n1"
      },
      "source": [
        "### <font color=\"green\">1.2 Challenge: Creating an Array</font>"
      ]
    },
    {
      "cell_type": "code",
      "metadata": {
        "id": "43Q-yy08bG0B",
        "colab": {
          "base_uri": "https://localhost:8080/"
        },
        "outputId": "9d4d294d-c74e-4204-ae65-33fe8f448481"
      },
      "source": [
        "# Challenge 1 \n",
        "# Create an array of five zeros\n",
        "#\n",
        "x = np.zeros(5)\n",
        "print(x)"
      ],
      "execution_count": null,
      "outputs": [
        {
          "output_type": "stream",
          "text": [
            "[0. 0. 0. 0. 0.]\n"
          ],
          "name": "stdout"
        }
      ]
    },
    {
      "cell_type": "code",
      "metadata": {
        "id": "Y-ZMS064b8Ck",
        "colab": {
          "base_uri": "https://localhost:8080/"
        },
        "outputId": "0fb46bb7-6628-44dd-c4ac-6c6406ff035b"
      },
      "source": [
        "# Challenge 2\n",
        "# Create an array of six ones \n",
        "#\n",
        "y = np.ones(6)\n",
        "print(y)"
      ],
      "execution_count": null,
      "outputs": [
        {
          "output_type": "stream",
          "text": [
            "[1. 1. 1. 1. 1. 1.]\n"
          ],
          "name": "stdout"
        }
      ]
    },
    {
      "cell_type": "code",
      "metadata": {
        "id": "FOaIYiBGb74H",
        "colab": {
          "base_uri": "https://localhost:8080/"
        },
        "outputId": "f8d56053-03b6-441f-8cd1-74d9fde2f196"
      },
      "source": [
        "# Challenge 3\n",
        "# Create an array of the integers from 10 to 50\n",
        "#\n",
        "num = np.arange(10, 50)\n",
        "print(num)"
      ],
      "execution_count": null,
      "outputs": [
        {
          "output_type": "stream",
          "text": [
            "[10 11 12 13 14 15 16 17 18 19 20 21 22 23 24 25 26 27 28 29 30 31 32 33\n",
            " 34 35 36 37 38 39 40 41 42 43 44 45 46 47 48 49]\n"
          ],
          "name": "stdout"
        }
      ]
    },
    {
      "cell_type": "code",
      "metadata": {
        "id": "FmmY6xLSb7t8"
      },
      "source": [
        "# Challenge 4\n",
        "# Create an array of odd integers from 20 to 60\n",
        "#\n",
        "odd_num = np.arange(20,60,)"
      ],
      "execution_count": null,
      "outputs": []
    },
    {
      "cell_type": "code",
      "metadata": {
        "id": "ht0VpxEXb7kG",
        "colab": {
          "base_uri": "https://localhost:8080/"
        },
        "outputId": "85ca7a84-7c1f-4f17-a260-a52bea474a8f"
      },
      "source": [
        "# Challenge 5\n",
        "# Create an array of 25 random numbers \n",
        "#\n",
        "z = np.random.rand(25)\n",
        "print(z)"
      ],
      "execution_count": null,
      "outputs": [
        {
          "output_type": "stream",
          "text": [
            "[0.80663743 0.83700944 0.44887171 0.8728453  0.69076673 0.24765037\n",
            " 0.12842284 0.00735525 0.35787093 0.65872723 0.90225053 0.7568019\n",
            " 0.08396309 0.96159078 0.86858796 0.33306591 0.88117671 0.34446469\n",
            " 0.89151003 0.5466514  0.76531525 0.28268404 0.11016816 0.41941995\n",
            " 0.68700963]\n"
          ],
          "name": "stdout"
        }
      ]
    },
    {
      "cell_type": "markdown",
      "metadata": {
        "id": "ICXG_crZZAw8"
      },
      "source": [
        "### <font color=\"green\">1.3 Working with Matrices</font>"
      ]
    },
    {
      "cell_type": "code",
      "metadata": {
        "id": "CnM3qTE1b7YF",
        "colab": {
          "base_uri": "https://localhost:8080/"
        },
        "outputId": "92fe0ee9-9ff3-41e4-9c91-f75eac6820ae"
      },
      "source": [
        "# Challenge 6\n",
        "# Write code to replicate the expected matrix output \n",
        "# of the cell shown below\n",
        "# \n",
        "matrix_a =np.arange(1, 21).reshape(5, 4)\n",
        "print(matrix_a)"
      ],
      "execution_count": null,
      "outputs": [
        {
          "output_type": "stream",
          "text": [
            "[[ 1  2  3  4]\n",
            " [ 5  6  7  8]\n",
            " [ 9 10 11 12]\n",
            " [13 14 15 16]\n",
            " [17 18 19 20]]\n"
          ],
          "name": "stdout"
        }
      ]
    },
    {
      "cell_type": "code",
      "metadata": {
        "id": "K5-uPXdEfgjU",
        "colab": {
          "base_uri": "https://localhost:8080/",
          "height": 102
        },
        "outputId": "3d6b0e1d-8e5b-4913-c391-443af2ed2688"
      },
      "source": [
        "# Challenge 6: Expected Output\n",
        "# [Do not run this cell]\n",
        "# The output of this cell will disappear when run"
      ],
      "execution_count": null,
      "outputs": [
        {
          "output_type": "stream",
          "text": [
            "[[ 1  2  3  4]\n",
            " [ 5  6  7  8]\n",
            " [ 9 10 11 12]\n",
            " [13 14 15 16]\n",
            " [17 18 19 20]]\n"
          ],
          "name": "stdout"
        }
      ]
    },
    {
      "cell_type": "code",
      "metadata": {
        "id": "EH63OkyEb7NU",
        "colab": {
          "base_uri": "https://localhost:8080/"
        },
        "outputId": "ac4962ec-137d-4d9a-998d-b948aae30ebe"
      },
      "source": [
        "# Challenge 7\n",
        "# Let's write code to replicate the expected matrix output \n",
        "# of the cell shown below\n",
        "t = [[14, 15, 16], [18, 19, 20]]\n",
        "matrix_b = np.array(t)\n",
        "print(matrix_b)"
      ],
      "execution_count": null,
      "outputs": [
        {
          "output_type": "stream",
          "text": [
            "[[14 15 16]\n",
            " [18 19 20]]\n"
          ],
          "name": "stdout"
        }
      ]
    },
    {
      "cell_type": "code",
      "metadata": {
        "id": "avA-papFb7Fl",
        "colab": {
          "base_uri": "https://localhost:8080/",
          "height": 51
        },
        "outputId": "aa252745-ee8f-48db-a0ea-f4dad2484177"
      },
      "source": [
        "# Challenge 7: Expected Output\n",
        "# [Do not run this cell]\n",
        "# Running this cell will cause the output below to disappear"
      ],
      "execution_count": null,
      "outputs": [
        {
          "output_type": "stream",
          "text": [
            "[[14 15 16]\n",
            " [18 19 20]]\n"
          ],
          "name": "stdout"
        }
      ]
    },
    {
      "cell_type": "code",
      "metadata": {
        "id": "nLV_X3kQb68p",
        "colab": {
          "base_uri": "https://localhost:8080/"
        },
        "outputId": "f9fe6987-892b-4e08-b16c-736171df0701"
      },
      "source": [
        "# Challenge 8\n",
        "# Let's write code to replicate the expected matrix output \n",
        "# of the cell shown below\n",
        "# \n",
        "matrix_b[1][2]"
      ],
      "execution_count": null,
      "outputs": [
        {
          "output_type": "execute_result",
          "data": {
            "text/plain": [
              "20"
            ]
          },
          "metadata": {
            "tags": []
          },
          "execution_count": 9
        }
      ]
    },
    {
      "cell_type": "code",
      "metadata": {
        "id": "DxEU0hOEb6y2",
        "colab": {
          "base_uri": "https://localhost:8080/",
          "height": 34
        },
        "outputId": "e206bcc9-90fe-4ff0-f412-60487537707f"
      },
      "source": [
        "# Challenge 8: Expected Output\n",
        "# [Do not run this cell]\n",
        "# Running this cell will cause the output below to disappear"
      ],
      "execution_count": null,
      "outputs": [
        {
          "output_type": "execute_result",
          "data": {
            "text/plain": [
              "20"
            ]
          },
          "metadata": {
            "tags": []
          },
          "execution_count": 13
        }
      ]
    },
    {
      "cell_type": "code",
      "metadata": {
        "id": "Dau4PAJfb6oO",
        "colab": {
          "base_uri": "https://localhost:8080/"
        },
        "outputId": "d93b5682-8ccf-4142-8466-409bc0d9d7d7"
      },
      "source": [
        "# Challenge 9\n",
        "# Let's write code to replicate the expected matrix output \n",
        "# of the cell shown below\n",
        "#\n",
        "matrix_c = np.arange(13,21).reshape(2, 4)\n",
        "print(matrix_c)"
      ],
      "execution_count": null,
      "outputs": [
        {
          "output_type": "stream",
          "text": [
            "[[13 14 15 16]\n",
            " [17 18 19 20]]\n"
          ],
          "name": "stdout"
        }
      ]
    },
    {
      "cell_type": "code",
      "metadata": {
        "id": "Pgj7NWePb6fa",
        "colab": {
          "base_uri": "https://localhost:8080/",
          "height": 51
        },
        "outputId": "c4bc7e8c-bf79-4838-9df5-cf0ee199eec6"
      },
      "source": [
        "# Challenge 9: Expected Output\n",
        "# [Do not run this cell]\n",
        "# Running this cell will cause the output below to disappear"
      ],
      "execution_count": null,
      "outputs": [
        {
          "output_type": "stream",
          "text": [
            "[[13 14 15 16]\n",
            " [17 18 19 20]]\n"
          ],
          "name": "stdout"
        }
      ]
    },
    {
      "cell_type": "code",
      "metadata": {
        "id": "jLp-pwUyb6R_",
        "colab": {
          "base_uri": "https://localhost:8080/"
        },
        "outputId": "bcafbdbd-fcaa-4d88-c7a6-c63570a0e580"
      },
      "source": [
        "# Challenge 10\n",
        "# Let's find out the mean of first column values \n",
        "# in our matrix in challenge 6 above\n",
        "# \n",
        "np.mean(matrix_a [:, 0])\n",
        "\n"
      ],
      "execution_count": null,
      "outputs": [
        {
          "output_type": "execute_result",
          "data": {
            "text/plain": [
              "9.0"
            ]
          },
          "metadata": {
            "tags": []
          },
          "execution_count": 24
        }
      ]
    },
    {
      "cell_type": "code",
      "metadata": {
        "id": "i5cFO78Jb6Ee",
        "colab": {
          "base_uri": "https://localhost:8080/"
        },
        "outputId": "eafa60d7-be33-453d-f2c7-cae0074637f1"
      },
      "source": [
        "# Challenge 11\n",
        "# Let's find out the sum of second column values \n",
        "# in our matrix in challenge 6 above\n",
        "#\n",
        "np.sum(matrix_a[: , 1])\n"
      ],
      "execution_count": null,
      "outputs": [
        {
          "output_type": "execute_result",
          "data": {
            "text/plain": [
              "50"
            ]
          },
          "metadata": {
            "tags": []
          },
          "execution_count": 23
        }
      ]
    },
    {
      "cell_type": "code",
      "metadata": {
        "id": "kjS2h2jSj7_v",
        "colab": {
          "base_uri": "https://localhost:8080/"
        },
        "outputId": "b93ecae9-dd09-4098-9c1b-affa4b2978d2"
      },
      "source": [
        "# Challenge 12\n",
        "# How do we find out the sum of all columns of the challenge 6 output\n",
        "# The resulting array should contain the sums of each column\n",
        "# \n",
        "np.sum(matrix_a[:])"
      ],
      "execution_count": null,
      "outputs": [
        {
          "output_type": "execute_result",
          "data": {
            "text/plain": [
              "210"
            ]
          },
          "metadata": {
            "tags": []
          },
          "execution_count": 25
        }
      ]
    }
  ]
}