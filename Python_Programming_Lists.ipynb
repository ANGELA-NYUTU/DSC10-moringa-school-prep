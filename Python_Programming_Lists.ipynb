{
  "nbformat": 4,
  "nbformat_minor": 0,
  "metadata": {
    "colab": {
      "name": "Python Programming: Lists",
      "provenance": [],
      "collapsed_sections": [],
      "toc_visible": true,
      "include_colab_link": true
    },
    "kernelspec": {
      "name": "python3",
      "display_name": "Python 3"
    }
  },
  "cells": [
    {
      "cell_type": "markdown",
      "metadata": {
        "id": "view-in-github",
        "colab_type": "text"
      },
      "source": [
        "<a href=\"https://colab.research.google.com/github/ANGELA-NYUTU/moringa-school/blob/main/Python_Programming_Lists.ipynb\" target=\"_parent\"><img src=\"https://colab.research.google.com/assets/colab-badge.svg\" alt=\"Open In Colab\"/></a>"
      ]
    },
    {
      "cell_type": "markdown",
      "metadata": {
        "id": "wbJA7xUzEy9k"
      },
      "source": [
        "<font color=\"green\">*To start working on this notebook, or any other notebook that we will use in the Moringa Data Science Course, we will need to save our own copy of it. We can do this by clicking File > Save a Copy in Drive. We will then be able to make edits to our own copy of this notebook.*</font>"
      ]
    },
    {
      "cell_type": "markdown",
      "metadata": {
        "id": "CJL-g47BMa9T"
      },
      "source": [
        ""
      ]
    },
    {
      "cell_type": "markdown",
      "metadata": {
        "id": "gaWkCnZQ5Sbx"
      },
      "source": [
        "# Python Programming: Lists"
      ]
    },
    {
      "cell_type": "markdown",
      "metadata": {
        "id": "YfJpi7DB5b1G"
      },
      "source": [
        "## 1.0 Creating a List"
      ]
    },
    {
      "cell_type": "code",
      "metadata": {
        "id": "S1JygPfZ6_LB",
        "colab": {
          "base_uri": "https://localhost:8080/"
        },
        "outputId": "eafa96d2-80cd-4229-d774-e5e0db7387e9"
      },
      "source": [
        "# Example 1\n",
        "# Lists can be created by placing a sequence inside square brackets.\n",
        "# They are ordered and changeable and can also contain duplicate items.\n",
        "# We will start to create a list called fruits\n",
        "#\n",
        "fruits = [\"bananas\", \"grapes\", \"mangoes\"]\n",
        "print(fruits)\n",
        "\n",
        "# In python, elements in a list are referenced using indices. Indices (singular: index) are number used to tell the position of an elment in a list. The first element in  a list is assigned an index of 0. \n",
        "# For example in the list we created, bananas is at index 0 and mangoes is at index 2. \n",
        "# Indices are very important especially when we want to update, delete or access items in a list."
      ],
      "execution_count": null,
      "outputs": [
        {
          "output_type": "stream",
          "text": [
            "['bananas', 'grapes', 'mangoes']\n"
          ],
          "name": "stdout"
        }
      ]
    },
    {
      "cell_type": "code",
      "metadata": {
        "id": "VTtUQP6zzVDw",
        "colab": {
          "base_uri": "https://localhost:8080/"
        },
        "outputId": "b102daac-63e6-428f-c214-b8790e537b2b"
      },
      "source": [
        "# Example 2\n",
        "# We will also create a list called kenyan_football_players\n",
        "#\n",
        "kenyan_football_players = [\"Victor Wanyama\", \"Michael Olunga\", \"McDonald Mariga\"]\n",
        "print(kenyan_football_players)"
      ],
      "execution_count": null,
      "outputs": [
        {
          "output_type": "stream",
          "text": [
            "['Victor Wanyama', 'Michael Olunga', 'McDonald Mariga']\n"
          ],
          "name": "stdout"
        }
      ]
    },
    {
      "cell_type": "code",
      "metadata": {
        "id": "dW9hKVZRzdJv",
        "colab": {
          "base_uri": "https://localhost:8080/"
        },
        "outputId": "2f5008a5-cd29-4367-d64f-ff317e076fd1"
      },
      "source": [
        "# Example 3\n",
        "# And lastly, create a list called kenyan cities\n",
        "#\n",
        "kenyan_cities = [\"Nairobi\", \"Mombasa\", \"Kisumu\"]\n",
        "print(kenyan_cities)"
      ],
      "execution_count": null,
      "outputs": [
        {
          "output_type": "stream",
          "text": [
            "['Nairobi', 'Mombasa', 'Kisumu']\n"
          ],
          "name": "stdout"
        }
      ]
    },
    {
      "cell_type": "markdown",
      "metadata": {
        "id": "m6MMTVzP76zo"
      },
      "source": [
        "### <font color=\"green\">1.1 Challenges</font>"
      ]
    },
    {
      "cell_type": "code",
      "metadata": {
        "id": "0dhSpupB72TX",
        "colab": {
          "base_uri": "https://localhost:8080/"
        },
        "outputId": "f9e99181-9bb9-45ff-f421-016484218a2e"
      },
      "source": [
        "# Challenge 1: \n",
        "# Let's create a list of 3 counties in Kenya and then print out the list below;\n",
        "# \n",
        "kenyan_counties = ['Nairobi', 'Nakuru', 'Kisumu']\n",
        "print(kenyan_counties)"
      ],
      "execution_count": null,
      "outputs": [
        {
          "output_type": "stream",
          "text": [
            "['Nairobi', 'Nakuru', 'Kisumu']\n"
          ],
          "name": "stdout"
        }
      ]
    },
    {
      "cell_type": "code",
      "metadata": {
        "id": "yclsB_-Z74U6",
        "colab": {
          "base_uri": "https://localhost:8080/"
        },
        "outputId": "e9068cb1-a9ab-403c-9f54-b8e5901cc37b"
      },
      "source": [
        "# Challenge 2: \n",
        "# Create a list of 5 African presidents and print out the list below;\n",
        "# \n",
        "african_presidents = ['Uhuru Kenyatta', 'Yoweri Museveni', 'Paul Kagame', 'Paul Biya', 'Macky Sall']\n",
        "print(african_presidents)"
      ],
      "execution_count": null,
      "outputs": [
        {
          "output_type": "stream",
          "text": [
            "['Uhuru Kenyatta', 'Yoweri Museveni', 'Paul Kagame', 'Paul Biya', 'Macky Sall']\n"
          ],
          "name": "stdout"
        }
      ]
    },
    {
      "cell_type": "code",
      "metadata": {
        "id": "pjqd1Qqf8BRT",
        "colab": {
          "base_uri": "https://localhost:8080/"
        },
        "outputId": "bc2fdd4f-466c-403d-b6ab-a6415c0e290d"
      },
      "source": [
        "# Challenge 3: \n",
        "# Create a list of 5 members of your moringa class and print out the list;\n",
        "#\n",
        "dsc10 = ['Eileen', 'Alfred','Ian', 'Imeldah', 'Kanja']\n",
        "print(dsc10)"
      ],
      "execution_count": null,
      "outputs": [
        {
          "output_type": "stream",
          "text": [
            "['Eileen', 'Alfred', 'Ian', 'Imeldah', 'Kanja']\n"
          ],
          "name": "stdout"
        }
      ]
    },
    {
      "cell_type": "markdown",
      "metadata": {
        "id": "HKfD8HjY5cmv"
      },
      "source": [
        "## 1.2 Adding Elements to a List"
      ]
    },
    {
      "cell_type": "code",
      "metadata": {
        "id": "TmyVQVnD7cO3",
        "colab": {
          "base_uri": "https://localhost:8080/"
        },
        "outputId": "fa8c58d2-997e-436f-f079-549e2938e930"
      },
      "source": [
        "# Example 1\n",
        "# We use the append() item to add an element to a list as shown below:\n",
        "# Adding the city Nakuru to the kenyan_cities list \n",
        "#\n",
        "kenyan_cities.append(\"Nakuru\")\n",
        "print(kenyan_cities)"
      ],
      "execution_count": null,
      "outputs": [
        {
          "output_type": "stream",
          "text": [
            "['Nairobi', 'Mombasa', 'Kisumu', 'Nakuru']\n"
          ],
          "name": "stdout"
        }
      ]
    },
    {
      "cell_type": "code",
      "metadata": {
        "id": "Ut93O1NQ0UNa",
        "colab": {
          "base_uri": "https://localhost:8080/"
        },
        "outputId": "9e302d18-35d3-4066-ff00-8392995f3596"
      },
      "source": [
        "# Example 2\n",
        "# We add the county Turkana to our counties list \n",
        "# and print out the list as shown below;\n",
        "#\n",
        "kenyan_counties.append(\"Turkana\")\n",
        "print(kenyan_counties)"
      ],
      "execution_count": null,
      "outputs": [
        {
          "output_type": "stream",
          "text": [
            "['Nairobi', 'Nakuru', 'Kisumu', 'Turkana']\n"
          ],
          "name": "stdout"
        }
      ]
    },
    {
      "cell_type": "code",
      "metadata": {
        "id": "b9OWSkyh0T-N",
        "colab": {
          "base_uri": "https://localhost:8080/"
        },
        "outputId": "491fa42b-8ff6-43b5-e7ef-74dedc47fd64"
      },
      "source": [
        "# Example 3\n",
        "# Let's add the footballer Francis Kahata to the \n",
        "# kenyan_football_players list defined above and print out the list\n",
        "#\n",
        "kenyan_football_players.append('Francis Kahata')\n",
        "print(kenyan_football_players)"
      ],
      "execution_count": null,
      "outputs": [
        {
          "output_type": "stream",
          "text": [
            "['Victor Wanyama', 'Michael Olunga', 'McDonald Mariga', 'Francis Kahata']\n"
          ],
          "name": "stdout"
        }
      ]
    },
    {
      "cell_type": "markdown",
      "metadata": {
        "id": "qAB7efGz8GL9"
      },
      "source": [
        "### <font color=\"green\">1.2 Challenges</font>"
      ]
    },
    {
      "cell_type": "code",
      "metadata": {
        "id": "wG25-7Hp8FaS",
        "colab": {
          "base_uri": "https://localhost:8080/"
        },
        "outputId": "45dbc259-1520-46f4-ac93-4603187541b4"
      },
      "source": [
        "# Challenge 1: Add a third county to the county list \n",
        "# that you defined above and then print out the list.\n",
        "# \n",
        "kenyan_counties.append('Uasin Gishu')\n",
        "print(kenyan_counties)"
      ],
      "execution_count": null,
      "outputs": [
        {
          "output_type": "stream",
          "text": [
            "['Nairobi', 'Nakuru', 'Kisumu', 'Turkana', 'Uasin Gishu']\n"
          ],
          "name": "stdout"
        }
      ]
    },
    {
      "cell_type": "code",
      "metadata": {
        "id": "viPcTuNQ8Kmf",
        "colab": {
          "base_uri": "https://localhost:8080/"
        },
        "outputId": "fb255cc3-a9da-43eb-fbb2-a52f3d08042e"
      },
      "source": [
        "# Challenge 2: \n",
        "# Add a fifth and a sixth president to the african presidents \n",
        "# you defined above and print out the list.\n",
        "#\n",
        "african_presidents.append('Adama Barrow')\n",
        "african_presidents.append('Danny Faure')\n",
        "print(african_presidents)"
      ],
      "execution_count": null,
      "outputs": [
        {
          "output_type": "stream",
          "text": [
            "['Uhuru Kenyatta', 'Yoweri Museveni', 'Paul Kagame', 'Paul Biya', 'Macky Sall', 'Adama Barrow', 'Danny Faure']\n"
          ],
          "name": "stdout"
        }
      ]
    },
    {
      "cell_type": "code",
      "metadata": {
        "id": "-xXlnKSX8MeE",
        "colab": {
          "base_uri": "https://localhost:8080/"
        },
        "outputId": "3b78823f-3463-4ebc-a012-4ce03370199c"
      },
      "source": [
        "# Challenge 3: \n",
        "# Add two more members to the moringa class list that \n",
        "# you defined above and print out the list.\n",
        "#\n",
        "dsc10.append('John')\n",
        "dsc10.append('Mildred')\n",
        "print(dsc10)"
      ],
      "execution_count": null,
      "outputs": [
        {
          "output_type": "stream",
          "text": [
            "['Eileen', 'Alfred', 'Ian', 'Imeldah', 'Kanja', 'John', 'Mildred']\n"
          ],
          "name": "stdout"
        }
      ]
    },
    {
      "cell_type": "markdown",
      "metadata": {
        "id": "p4UR_FuR5qLx"
      },
      "source": [
        "## 1.3 Updating Elements in a List"
      ]
    },
    {
      "cell_type": "code",
      "metadata": {
        "id": "sOjwAQdu7q9Y",
        "colab": {
          "base_uri": "https://localhost:8080/"
        },
        "outputId": "1181ab3e-d4f7-4710-bc31-86a7fa443a96"
      },
      "source": [
        "# Example 1\n",
        "# The value of a specific item in a list can be changed by referring to the index number as shown;\n",
        "# Let's update the first element in the kenyan_cities list then print it out\n",
        "# \n",
        "kenyan_cities[1] = \"Kwale\"\n",
        "print(kenyan_cities)"
      ],
      "execution_count": null,
      "outputs": [
        {
          "output_type": "stream",
          "text": [
            "['Nairobi', 'Kwale', 'Kisumu', 'Nakuru']\n"
          ],
          "name": "stdout"
        }
      ]
    },
    {
      "cell_type": "code",
      "metadata": {
        "id": "TA8RhFajBl-P",
        "colab": {
          "base_uri": "https://localhost:8080/"
        },
        "outputId": "519d6a5e-517c-44d3-9a8b-47602c538649"
      },
      "source": [
        "# Example 2\n",
        "# Let's update the second element in the kenyan_football_players \n",
        "# list with Musa Mohammed then print out the list\n",
        "#\n",
        "kenyan_football_players[1] = 'Musa Mohammed'\n",
        "print(kenyan_football_players)"
      ],
      "execution_count": null,
      "outputs": [
        {
          "output_type": "stream",
          "text": [
            "['Victor Wanyama', 'Musa Mohammed', 'McDonald Mariga', 'Francis Kahata']\n"
          ],
          "name": "stdout"
        }
      ]
    },
    {
      "cell_type": "code",
      "metadata": {
        "id": "7OfX19kCBl1b",
        "colab": {
          "base_uri": "https://localhost:8080/"
        },
        "outputId": "e42534d1-f678-4101-9c76-9c3a416e443b"
      },
      "source": [
        "# Example 3\n",
        "# Let's update the third element in the moringa \n",
        "# class list with your name then print out the list\n",
        "# \n",
        "dsc10[2] = 'Angela'\n",
        "print(dsc10)"
      ],
      "execution_count": null,
      "outputs": [
        {
          "output_type": "stream",
          "text": [
            "['Eileen', 'Alfred', 'Angela', 'Imeldah', 'Kanja', 'John', 'Mildred']\n"
          ],
          "name": "stdout"
        }
      ]
    },
    {
      "cell_type": "markdown",
      "metadata": {
        "id": "H3Z5_lcs8XNH"
      },
      "source": [
        "### <font color=\"green\">1.3 Challenges</font>"
      ]
    },
    {
      "cell_type": "code",
      "metadata": {
        "id": "dVQ1NNCm8QSb",
        "colab": {
          "base_uri": "https://localhost:8080/"
        },
        "outputId": "69b583e9-99d3-4f53-c16b-751798e824e3"
      },
      "source": [
        "# Challenge 1\n",
        "# Update the second county to the county list that \n",
        "# you defined above and then print out the list.\n",
        "# (NB: Update of choice)\n",
        "#\n",
        "kenyan_counties[1] = 'Laikipia'\n",
        "print(kenyan_counties)"
      ],
      "execution_count": null,
      "outputs": [
        {
          "output_type": "stream",
          "text": [
            "['Nairobi', 'Laikipia', 'Kisumu', 'Turkana', 'Uasin Gishu']\n"
          ],
          "name": "stdout"
        }
      ]
    },
    {
      "cell_type": "code",
      "metadata": {
        "id": "FhFJuVjq8Ros",
        "colab": {
          "base_uri": "https://localhost:8080/"
        },
        "outputId": "2a9f8ef2-4071-4eed-a959-d43b83316a3f"
      },
      "source": [
        "# Challenge 2\n",
        "# Update the third and fourth president of the african presidents \n",
        "# list that you defined above and then print out the list.\n",
        "# (NB: Update of choice) \n",
        "#\n",
        "african_presidents[2] = 'Patrice Talon'\n",
        "african_presidents[3] ='Evariste Ndayishimiye'\n",
        "print(african_presidents)"
      ],
      "execution_count": null,
      "outputs": [
        {
          "output_type": "stream",
          "text": [
            "['Uhuru Kenyatta', 'Yoweri Museveni', 'Patrice Talon', 'Evariste Ndayishimiye', 'Macky Sall', 'Adama Barrow', 'Danny Faure']\n"
          ],
          "name": "stdout"
        }
      ]
    },
    {
      "cell_type": "code",
      "metadata": {
        "id": "lsUfPEmI8TYI",
        "colab": {
          "base_uri": "https://localhost:8080/"
        },
        "outputId": "d4bda198-dabb-4514-a19d-bb4e9aa173bb"
      },
      "source": [
        "# Challenge 3\n",
        "# Update all items in your class list \n",
        "# that you defined above with a new list and then print out that list. \n",
        "# \n",
        "dsc10[0]= 'Nyutu'\n",
        "dsc10[1] ='Ndoro'\n",
        "dsc10[2] ='Tirok'\n",
        "dsc10[3] ='Murgor'\n",
        "dsc10[4] = 'Farnadis'\n",
        "dsc10[5] ='Yesso'\n",
        "dsc10[6]= 'Raymond'\n",
        "print(dsc10)"
      ],
      "execution_count": null,
      "outputs": [
        {
          "output_type": "stream",
          "text": [
            "['Nyutu', 'Ndoro', 'Tirok', 'Murgor', 'Farnadis', 'Yesso', 'Raymond']\n"
          ],
          "name": "stdout"
        }
      ]
    },
    {
      "cell_type": "markdown",
      "metadata": {
        "id": "cCvsMHqK5fUn"
      },
      "source": [
        "## 1.4 Accessing Elements from a List"
      ]
    },
    {
      "cell_type": "code",
      "metadata": {
        "id": "pGn2Ei-L8lh4",
        "colab": {
          "base_uri": "https://localhost:8080/"
        },
        "outputId": "4b3aa6ea-ac06-4def-fab3-fd410ae83701"
      },
      "source": [
        "# Example 1\n",
        "# We can access the first item in the fruits list by doing the following\n",
        "# \n",
        "fruts_first_item = fruits[0]\n",
        "print(fruts_first_item)"
      ],
      "execution_count": null,
      "outputs": [
        {
          "output_type": "stream",
          "text": [
            "bananas\n"
          ],
          "name": "stdout"
        }
      ]
    },
    {
      "cell_type": "code",
      "metadata": {
        "id": "iTvwuuY219PO",
        "colab": {
          "base_uri": "https://localhost:8080/"
        },
        "outputId": "294a5f85-3e24-4ab9-bba1-ea86a37aebe0"
      },
      "source": [
        "# Example 2\n",
        "# We can also access the 2nd item in the kenyan_football_players list by;\n",
        "#\n",
        "kenyan_football_players_second_item = kenyan_football_players[1]\n",
        "print(kenyan_football_players_second_item)"
      ],
      "execution_count": null,
      "outputs": [
        {
          "output_type": "stream",
          "text": [
            "Musa Mohammed\n"
          ],
          "name": "stdout"
        }
      ]
    },
    {
      "cell_type": "code",
      "metadata": {
        "id": "lVAhEI_G2IAN",
        "colab": {
          "base_uri": "https://localhost:8080/"
        },
        "outputId": "6937eea7-dec7-4b3c-c3c9-4de4aaa3a3a1"
      },
      "source": [
        "# Example 3\n",
        "# We can access the third item in the moringa_class list also by\n",
        "#\n",
        "dsc10_second_item = dsc10[2]\n",
        "print(dsc10_second_item)"
      ],
      "execution_count": null,
      "outputs": [
        {
          "output_type": "stream",
          "text": [
            "Tirok\n"
          ],
          "name": "stdout"
        }
      ]
    },
    {
      "cell_type": "markdown",
      "metadata": {
        "id": "1qG1ecRh8mC9"
      },
      "source": [
        "### <font color=\"green\">1.4 Challenges</font>"
      ]
    },
    {
      "cell_type": "code",
      "metadata": {
        "id": "JVE1OqDH8pEK",
        "colab": {
          "base_uri": "https://localhost:8080/"
        },
        "outputId": "209b9bc6-f1aa-43ae-d9d8-f2ca2270cb04"
      },
      "source": [
        "# Challenge 1\n",
        "# Let's access the second item in the fruits list below\n",
        "#\n",
        "fruits_second_item = fruits[1]\n",
        "print(fruits_second_item)"
      ],
      "execution_count": null,
      "outputs": [
        {
          "output_type": "stream",
          "text": [
            "grapes\n"
          ],
          "name": "stdout"
        }
      ]
    },
    {
      "cell_type": "code",
      "metadata": {
        "id": "Caul6cU18o9c",
        "colab": {
          "base_uri": "https://localhost:8080/"
        },
        "outputId": "26ee09a4-aebc-47b5-c6ab-85147a38c1b0"
      },
      "source": [
        "# Challenge 2\n",
        "# Let's access the fourth item in kenyan_football_players list below\n",
        "#\n",
        "kenyan_football_players_forth_item = kenyan_football_players[3]\n",
        "print(kenyan_football_players_forth_item)"
      ],
      "execution_count": null,
      "outputs": [
        {
          "output_type": "stream",
          "text": [
            "Francis Kahata\n"
          ],
          "name": "stdout"
        }
      ]
    },
    {
      "cell_type": "code",
      "metadata": {
        "id": "xjX0moYs8ooP",
        "colab": {
          "base_uri": "https://localhost:8080/"
        },
        "outputId": "4b858404-ed28-4585-84d8-35d507161431"
      },
      "source": [
        "# Challenge 3\n",
        "# Let's access the first item in your class list below;\n",
        "#\n",
        "dsc10_first_item = dsc10[0]\n",
        "print(dsc10_first_item)"
      ],
      "execution_count": null,
      "outputs": [
        {
          "output_type": "stream",
          "text": [
            "Nyutu\n"
          ],
          "name": "stdout"
        }
      ]
    },
    {
      "cell_type": "markdown",
      "metadata": {
        "id": "Fs8XTeN45iFS"
      },
      "source": [
        "## 1.5 Removing Elements from a List"
      ]
    },
    {
      "cell_type": "code",
      "metadata": {
        "id": "mkNRpT2k8zbi",
        "colab": {
          "base_uri": "https://localhost:8080/"
        },
        "outputId": "976e82e8-1017-45bc-cab0-ae3011c6ab09"
      },
      "source": [
        "# Example 1\n",
        "# Let's remove the first item from the fruits list as shown;\n",
        "#\n",
        "fruits.remove(\"bananas\")\n",
        "print(fruits)\n"
      ],
      "execution_count": null,
      "outputs": [
        {
          "output_type": "stream",
          "text": [
            "['grapes', 'mangoes']\n"
          ],
          "name": "stdout"
        }
      ]
    },
    {
      "cell_type": "code",
      "metadata": {
        "id": "9EF5YrosFV5n",
        "colab": {
          "base_uri": "https://localhost:8080/"
        },
        "outputId": "73aef3a8-dff7-4eb5-f4b3-f372a85c9b52"
      },
      "source": [
        "# Example 2\n",
        "# Then remove the third item from the kenyan cities list as shown;\n",
        "#\n",
        "del kenyan_cities[2];\n",
        "print(kenyan_cities)"
      ],
      "execution_count": null,
      "outputs": [
        {
          "output_type": "stream",
          "text": [
            "['Nairobi', 'Kwale', 'Nakuru']\n"
          ],
          "name": "stdout"
        }
      ]
    },
    {
      "cell_type": "code",
      "metadata": {
        "id": "-zwxINb9FVvE",
        "colab": {
          "base_uri": "https://localhost:8080/"
        },
        "outputId": "40d1d2a8-98a8-4000-a16a-ae06ebb34f75"
      },
      "source": [
        "# Example 3\n",
        "# Let's remove the fourth item from counties list as shown;\n",
        "#\n",
        "del kenyan_counties[3];\n",
        "print(kenyan_counties)"
      ],
      "execution_count": null,
      "outputs": [
        {
          "output_type": "stream",
          "text": [
            "['Nairobi', 'Laikipia', 'Kisumu', 'Uasin Gishu']\n"
          ],
          "name": "stdout"
        }
      ]
    },
    {
      "cell_type": "markdown",
      "metadata": {
        "id": "SJmtZJu48z-Q"
      },
      "source": [
        "### <font color=\"green\">1.5 Challenges</font>"
      ]
    },
    {
      "cell_type": "code",
      "metadata": {
        "id": "d1AxSTu883KJ",
        "colab": {
          "base_uri": "https://localhost:8080/"
        },
        "outputId": "cbcffda2-beb2-4331-b9d0-b48dc1092a35"
      },
      "source": [
        "# Challenge 1 \n",
        "# Remove the first item from the kenya_football_players list \n",
        "# and print the list\n",
        "#\n",
        "del kenyan_football_players[0];\n",
        "print(kenyan_football_players)"
      ],
      "execution_count": null,
      "outputs": [
        {
          "output_type": "stream",
          "text": [
            "['Musa Mohammed', 'McDonald Mariga', 'Francis Kahata']\n"
          ],
          "name": "stdout"
        }
      ]
    },
    {
      "cell_type": "code",
      "metadata": {
        "id": "s7iTn8tf83kI",
        "colab": {
          "base_uri": "https://localhost:8080/"
        },
        "outputId": "443c6b9f-7afe-4423-961d-fccf8f92d2c6"
      },
      "source": [
        "# Challenge 2\n",
        "# Remove the second item from the fruits list and print the list\n",
        "#\n",
        "del fruits[1];\n",
        "print(fruits)"
      ],
      "execution_count": null,
      "outputs": [
        {
          "output_type": "stream",
          "text": [
            "['grapes']\n"
          ],
          "name": "stdout"
        }
      ]
    },
    {
      "cell_type": "code",
      "metadata": {
        "id": "EpEg6eWS83c4",
        "colab": {
          "base_uri": "https://localhost:8080/"
        },
        "outputId": "b39d6c64-ead6-4968-df86-061ad3b6aedd"
      },
      "source": [
        "# Challenge 3 \n",
        "# Remove the last item from the african presidents list and print the list\n",
        "#\n",
        "del african_presidents[-1];\n",
        "print(african_presidents)"
      ],
      "execution_count": null,
      "outputs": [
        {
          "output_type": "stream",
          "text": [
            "['Uhuru Kenyatta', 'Yoweri Museveni', 'Patrice Talon', 'Evariste Ndayishimiye', 'Macky Sall', 'Adama Barrow']\n"
          ],
          "name": "stdout"
        }
      ]
    },
    {
      "cell_type": "markdown",
      "metadata": {
        "id": "QIPUN0KJ5mdp"
      },
      "source": [
        "## 1.6 Slicing a List"
      ]
    },
    {
      "cell_type": "code",
      "metadata": {
        "id": "mX4ZZyjM89tX",
        "colab": {
          "base_uri": "https://localhost:8080/"
        },
        "outputId": "c022ae36-7210-4065-c72b-ce4fc78bee6c"
      },
      "source": [
        "# Example 1\n",
        "# We can print the first two item of the fruits list by slicing and printing them as shown;\n",
        "# The syntax for slicing is start:stop\n",
        "# Start is the index at which we want to start our slice.\n",
        "# Stop is the index at which we want to stop just before finishing the slice. The slicing stops at index stop-1. For exampl, if stop is 2, then the slicing will stop at index (2-1)\n",
        "# \n",
        "fruits = [\"bananas\", \"grapes\", \"mangoes\",\"oranges\",\"pineapple\"]\n",
        "fruits1 = fruits[0:3] \n",
        "print(fruits1)\n",
        "\n"
      ],
      "execution_count": null,
      "outputs": [
        {
          "output_type": "stream",
          "text": [
            "['bananas', 'grapes', 'mangoes']\n"
          ],
          "name": "stdout"
        }
      ]
    },
    {
      "cell_type": "code",
      "metadata": {
        "id": "HjMaEseYKTG_",
        "colab": {
          "base_uri": "https://localhost:8080/"
        },
        "outputId": "2c7dc13d-7c99-4979-fe69-d663247dafdb"
      },
      "source": [
        "# Example 2\n",
        "# We can print the items from the 2nd item till the end by slicing and printing them as shown;\n",
        "# \n",
        "fruits2 = fruits[2:]\n",
        "print(fruits2)"
      ],
      "execution_count": null,
      "outputs": [
        {
          "output_type": "stream",
          "text": [
            "['mangoes', 'oranges', 'pineapple']\n"
          ],
          "name": "stdout"
        }
      ]
    },
    {
      "cell_type": "code",
      "metadata": {
        "id": "Vx32wP6_KS8E",
        "colab": {
          "base_uri": "https://localhost:8080/"
        },
        "outputId": "82b22427-d6c7-42a2-c094-b003443ec91e"
      },
      "source": [
        "# Example 3\n",
        "# We can print items from beginning of the list to the third element in the fruits list as shown;\n",
        "#\n",
        "fruits3 = fruits[:-2]\n",
        "print(fruits3)"
      ],
      "execution_count": null,
      "outputs": [
        {
          "output_type": "stream",
          "text": [
            "['bananas', 'grapes', 'mangoes']\n"
          ],
          "name": "stdout"
        }
      ]
    },
    {
      "cell_type": "markdown",
      "metadata": {
        "id": "5WwBTWk58-Nj"
      },
      "source": [
        "### <font color=\"green\">1.6 Challenges</font>"
      ]
    },
    {
      "cell_type": "code",
      "metadata": {
        "id": "aBfzUTyF9BSb",
        "colab": {
          "base_uri": "https://localhost:8080/"
        },
        "outputId": "fb9dd780-caaa-4f09-e7b1-6b6f791ed5c4"
      },
      "source": [
        "# Challenge 1 \n",
        "# Print the first two items of the kenyan_football_players list\n",
        "# \n",
        "kenyan_football_players1 =  kenyan_football_players[0:2]\n",
        "print(kenyan_football_players1)"
      ],
      "execution_count": null,
      "outputs": [
        {
          "output_type": "stream",
          "text": [
            "['Musa Mohammed', 'McDonald Mariga']\n"
          ],
          "name": "stdout"
        }
      ]
    },
    {
      "cell_type": "code",
      "metadata": {
        "id": "Lrq8KFE49Bq5",
        "colab": {
          "base_uri": "https://localhost:8080/"
        },
        "outputId": "e5b4df51-603b-44a4-c97b-c263044ef8e8"
      },
      "source": [
        "# Challenge 2 \n",
        "# Print the last two items of the counties list\n",
        "# \n",
        "kenyan_counties1 = kenyan_counties[2:]\n",
        "print(kenyan_counties1)"
      ],
      "execution_count": null,
      "outputs": [
        {
          "output_type": "stream",
          "text": [
            "['Kisumu', 'Uasin Gishu']\n"
          ],
          "name": "stdout"
        }
      ]
    },
    {
      "cell_type": "code",
      "metadata": {
        "id": "Smtu0V519Bke",
        "colab": {
          "base_uri": "https://localhost:8080/"
        },
        "outputId": "6aa8dc23-b56d-4b2b-83e4-6634baba977e"
      },
      "source": [
        "# Challenge 3 \n",
        "# Print items fron the beginning to the second items in the kenyan_cities list\n",
        "# \n",
        "kenyan_cities1 = kenyan_cities[:-1]\n",
        "print(kenyan_cities1)"
      ],
      "execution_count": null,
      "outputs": [
        {
          "output_type": "stream",
          "text": [
            "['Nairobi', 'Kwale']\n"
          ],
          "name": "stdout"
        }
      ]
    }
  ]
}