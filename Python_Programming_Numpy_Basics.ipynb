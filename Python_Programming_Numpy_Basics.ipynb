{
  "nbformat": 4,
  "nbformat_minor": 0,
  "metadata": {
    "colab": {
      "name": "Python Programming - Numpy Basics",
      "provenance": [],
      "collapsed_sections": [],
      "toc_visible": true,
      "include_colab_link": true
    },
    "kernelspec": {
      "name": "python3",
      "display_name": "Python 3"
    }
  },
  "cells": [
    {
      "cell_type": "markdown",
      "metadata": {
        "id": "view-in-github",
        "colab_type": "text"
      },
      "source": [
        "<a href=\"https://colab.research.google.com/github/ANGELA-NYUTU/DSC10-moringa-school-prep/blob/main/Python_Programming_Numpy_Basics.ipynb\" target=\"_parent\"><img src=\"https://colab.research.google.com/assets/colab-badge.svg\" alt=\"Open In Colab\"/></a>"
      ]
    },
    {
      "cell_type": "markdown",
      "metadata": {
        "id": "c_BBfbCEZfDT"
      },
      "source": [
        "<font color=\"green\">*To start working on this notebook, or any other notebook that we will use in the Moringa Data Science Course, we will need to save our own copy of it. We can do this by clicking File > Save a Copy in Drive. We will then be able to make edits to our own copy of this notebook.*</font>"
      ]
    },
    {
      "cell_type": "markdown",
      "metadata": {
        "id": "dZSJZP9809aH"
      },
      "source": [
        "# Python Programming - Numpy Basics"
      ]
    },
    {
      "cell_type": "markdown",
      "metadata": {
        "id": "jZatZRIbkDz7"
      },
      "source": [
        "## 1.0 Importing our Library"
      ]
    },
    {
      "cell_type": "code",
      "metadata": {
        "id": "HZ5j-AjX6ae-"
      },
      "source": [
        "# We will first import the numpy library, so that we can leverage external functionalities \n",
        "# that do not come with python\n",
        "# \n",
        "import numpy as np"
      ],
      "execution_count": null,
      "outputs": []
    },
    {
      "cell_type": "markdown",
      "metadata": {
        "id": "c2bpaw2E1Afv"
      },
      "source": [
        "## 1.1 Creating Arrays"
      ]
    },
    {
      "cell_type": "code",
      "metadata": {
        "id": "ToZ19MKQ06NI",
        "colab": {
          "base_uri": "https://localhost:8080/"
        },
        "outputId": "1f7c8f49-ef1f-409a-c8d2-86cbc5823145"
      },
      "source": [
        "# Example 1\n",
        "# Numpy arrays are a type of data structures that hold some benefits over \n",
        "# Python lists such as being more compact, faster access in reading \n",
        "# and writing items. To get started, we can create a 1 dimension (1D) Array \n",
        "# using a Python List as shown below.\n",
        "#\n",
        "my_list = [0, 1, 2, 3, 4]\n",
        "npy_my_list = np.array(my_list)\n",
        "\n",
        "print(npy_my_list)"
      ],
      "execution_count": null,
      "outputs": [
        {
          "output_type": "stream",
          "text": [
            "[0 1 2 3 4]\n"
          ],
          "name": "stdout"
        }
      ]
    },
    {
      "cell_type": "code",
      "metadata": {
        "id": "QfwikEjh3-Az",
        "colab": {
          "base_uri": "https://localhost:8080/"
        },
        "outputId": "463f7c9f-c0ca-499e-ae93-217cecad300d"
      },
      "source": [
        "# Example 2\n",
        "# We can also create 1D arrays of zeros and 2D arrays of ones \n",
        "# from Numpy builtin functions by;\n",
        "#\n",
        "zeros_arr = np.zeros(5)\n",
        "ones_arr = np.ones([3, 4])\n",
        "\n",
        "print(zeros_arr)\n",
        "print(ones_arr)"
      ],
      "execution_count": null,
      "outputs": [
        {
          "output_type": "stream",
          "text": [
            "[0. 0. 0. 0. 0.]\n",
            "[[1. 1. 1. 1.]\n",
            " [1. 1. 1. 1.]\n",
            " [1. 1. 1. 1.]]\n"
          ],
          "name": "stdout"
        }
      ]
    },
    {
      "cell_type": "code",
      "metadata": {
        "id": "HNCFd0Tr3_Gy",
        "colab": {
          "base_uri": "https://localhost:8080/"
        },
        "outputId": "70991a2d-3e41-43f8-9b79-7904e96c5cd4"
      },
      "source": [
        "# Example 3\n",
        "# Creating an Array with 3 random values  \n",
        "# \n",
        "rand_arr = np.random.rand(3)\n",
        "\n",
        "print(rand_arr)"
      ],
      "execution_count": null,
      "outputs": [
        {
          "output_type": "stream",
          "text": [
            "[0.34663467 0.32447269 0.97742522]\n"
          ],
          "name": "stdout"
        }
      ]
    },
    {
      "cell_type": "code",
      "metadata": {
        "id": "JmPLdMUBBuMD",
        "colab": {
          "base_uri": "https://localhost:8080/"
        },
        "outputId": "1ba2b989-0c2b-4af1-d78a-3ea51993b6b1"
      },
      "source": [
        "# Example 4\n",
        "# Creating an array with evenly spaced values within a given interval \n",
        "# as shown using the Numpy arrange function\n",
        "# \n",
        "even_arr = np.arange(0,6,2)\n",
        "\n",
        "print(even_arr)"
      ],
      "execution_count": null,
      "outputs": [
        {
          "output_type": "stream",
          "text": [
            "[0 2 4]\n"
          ],
          "name": "stdout"
        }
      ]
    },
    {
      "cell_type": "code",
      "metadata": {
        "id": "ayLolFnVebvC",
        "colab": {
          "base_uri": "https://localhost:8080/"
        },
        "outputId": "c1b57ab1-1c93-4b9a-8e5e-43cc3b4424e8"
      },
      "source": [
        "# Example 5\n",
        "# Create a 5 x 5 matix with elements from 1 to 29\n",
        "#\n",
        "five_matrix = np.arange(1,29).reshape(4,7)\n",
        "\n",
        "print(five_matrix)"
      ],
      "execution_count": null,
      "outputs": [
        {
          "output_type": "stream",
          "text": [
            "[[ 1  2  3  4  5  6  7]\n",
            " [ 8  9 10 11 12 13 14]\n",
            " [15 16 17 18 19 20 21]\n",
            " [22 23 24 25 26 27 28]]\n"
          ],
          "name": "stdout"
        }
      ]
    },
    {
      "cell_type": "markdown",
      "metadata": {
        "id": "qcP0FkJq6q-r"
      },
      "source": [
        "### <font color=\"green\">1.1 Challenges"
      ]
    },
    {
      "cell_type": "code",
      "metadata": {
        "id": "MBV-dKC_6tZx",
        "colab": {
          "base_uri": "https://localhost:8080/"
        },
        "outputId": "cdbfb5ba-7ced-460f-afb4-2d3fba150b27"
      },
      "source": [
        "# Challenge 1\n",
        "# Create a 2D array matix using the list matr = my_mat = [[0,1,2],[3,4,5]]\n",
        "# Hint: Learn from Example 2\n",
        "# \n",
        "my_mat = np.array([[0,1,2],[3,4,5]])\n",
        "print(my_mat)"
      ],
      "execution_count": null,
      "outputs": [
        {
          "output_type": "stream",
          "text": [
            "[[0 1 2]\n",
            " [3 4 5]]\n"
          ],
          "name": "stdout"
        }
      ]
    },
    {
      "cell_type": "code",
      "metadata": {
        "id": "aquNQ1XH6vGL",
        "colab": {
          "base_uri": "https://localhost:8080/"
        },
        "outputId": "297f8eba-2253-44c0-8dc0-49ed0c16e54a"
      },
      "source": [
        "# Challenge 2\n",
        "# Create a 2D array of zeros \n",
        "# Hint: Learn from Example 2\n",
        "#\n",
        "x =  np.zeros([2, 4])\n",
        "print(x)"
      ],
      "execution_count": null,
      "outputs": [
        {
          "output_type": "stream",
          "text": [
            "[[0. 0. 0. 0.]\n",
            " [0. 0. 0. 0.]]\n"
          ],
          "name": "stdout"
        }
      ]
    },
    {
      "cell_type": "code",
      "metadata": {
        "id": "tslhBNMQ6wU-",
        "colab": {
          "base_uri": "https://localhost:8080/"
        },
        "outputId": "f3e22a1e-c352-43bb-9a3b-ba2bd24edb00"
      },
      "source": [
        "# Challenge 3\n",
        "# Create a 2D array of random values\n",
        "# Hint: Learn from Example 2\n",
        "x = np.random.rand(2, 3)\n",
        "print(x)"
      ],
      "execution_count": null,
      "outputs": [
        {
          "output_type": "stream",
          "text": [
            "[[0.35224128 0.90681519 0.52040234]\n",
            " [0.57627452 0.82081723 0.969144  ]]\n"
          ],
          "name": "stdout"
        }
      ]
    },
    {
      "cell_type": "code",
      "metadata": {
        "id": "ukWLHCL0CJx1",
        "colab": {
          "base_uri": "https://localhost:8080/"
        },
        "outputId": "cb00268d-2686-42d7-c2da-90c4766addc7"
      },
      "source": [
        "# Challenge 4\n",
        "# Create a 3D array with values starting 6, stops at 40 with interval of 2\n",
        "#\n",
        "x = np.arange(6, 41, 2).reshape(2, 3,3)\n",
        "print(x)"
      ],
      "execution_count": null,
      "outputs": [
        {
          "output_type": "stream",
          "text": [
            "[[[ 6  8 10]\n",
            "  [12 14 16]\n",
            "  [18 20 22]]\n",
            "\n",
            " [[24 26 28]\n",
            "  [30 32 34]\n",
            "  [36 38 40]]]\n"
          ],
          "name": "stdout"
        }
      ]
    },
    {
      "cell_type": "markdown",
      "metadata": {
        "id": "BqyScgzc410j"
      },
      "source": [
        "## 1.2 Attributes and Functions"
      ]
    },
    {
      "cell_type": "code",
      "metadata": {
        "id": "eLjMuBef93ZF",
        "colab": {
          "base_uri": "https://localhost:8080/"
        },
        "outputId": "d6c13720-ab05-4ca8-9d42-e3200bbdac87"
      },
      "source": [
        "# We use attributes to access information about a particular array,\n",
        "# while functions to perform a certain operations to the array. \n",
        "# We will learn about attributes and functions in this section of the session.\n",
        "# First let's generate a 1D array to work with; we will name \n",
        "# this attribute attribute_arr as shown below;\n",
        "# \n",
        "attribute_arr = np.random.rand(5)\n",
        "\n",
        "print(attribute_arr)"
      ],
      "execution_count": null,
      "outputs": [
        {
          "output_type": "stream",
          "text": [
            "[0.17469642 0.58761428 0.71354652 0.45746564 0.2651089 ]\n"
          ],
          "name": "stdout"
        }
      ]
    },
    {
      "cell_type": "code",
      "metadata": {
        "id": "LQ8aYHM-45r6",
        "colab": {
          "base_uri": "https://localhost:8080/"
        },
        "outputId": "a16a2654-2e57-4417-8452-8c17ebb6a985"
      },
      "source": [
        "# Example 1\n",
        "# Using the max() function\n",
        "# \n",
        "attribute_arr.max()"
      ],
      "execution_count": null,
      "outputs": [
        {
          "output_type": "execute_result",
          "data": {
            "text/plain": [
              "0.713546523758337"
            ]
          },
          "metadata": {
            "tags": []
          },
          "execution_count": 42
        }
      ]
    },
    {
      "cell_type": "code",
      "metadata": {
        "id": "WMYeiSXA46iR",
        "colab": {
          "base_uri": "https://localhost:8080/"
        },
        "outputId": "7d3a7c89-7674-49b7-88c7-a6c305bcefbe"
      },
      "source": [
        "# Example 2\n",
        "# Using the min() function \n",
        "# \n",
        "attribute_arr.min()"
      ],
      "execution_count": null,
      "outputs": [
        {
          "output_type": "execute_result",
          "data": {
            "text/plain": [
              "0.17469641849406758"
            ]
          },
          "metadata": {
            "tags": []
          },
          "execution_count": 43
        }
      ]
    },
    {
      "cell_type": "code",
      "metadata": {
        "id": "EopHxyUU46Y6",
        "colab": {
          "base_uri": "https://localhost:8080/"
        },
        "outputId": "21b0cab8-8d59-42f6-a61f-2f49da0fab3f"
      },
      "source": [
        "# Example 3\n",
        "# Using the argmax() function to return the indice of the max element \n",
        "#of the array \n",
        "#\n",
        "attribute_arr.argmax()"
      ],
      "execution_count": null,
      "outputs": [
        {
          "output_type": "execute_result",
          "data": {
            "text/plain": [
              "2"
            ]
          },
          "metadata": {
            "tags": []
          },
          "execution_count": 44
        }
      ]
    },
    {
      "cell_type": "code",
      "metadata": {
        "id": "n5K9YACf5L_z",
        "colab": {
          "base_uri": "https://localhost:8080/"
        },
        "outputId": "ce03449b-1215-4d03-b064-92639063b058"
      },
      "source": [
        "# Example 4\n",
        "# Using the argmin() function to return the indice of the \n",
        "#min element of the array\n",
        "#\n",
        "attribute_arr.argmin()"
      ],
      "execution_count": null,
      "outputs": [
        {
          "output_type": "execute_result",
          "data": {
            "text/plain": [
              "0"
            ]
          },
          "metadata": {
            "tags": []
          },
          "execution_count": 45
        }
      ]
    },
    {
      "cell_type": "code",
      "metadata": {
        "id": "Sfb8LcQR5R7x",
        "colab": {
          "base_uri": "https://localhost:8080/"
        },
        "outputId": "df1ce78f-e1e5-4b95-c67c-b19012e34099"
      },
      "source": [
        "# Example 5\n",
        "# Using the shape attribute to find the size of the array\n",
        "#\n",
        "attribute_arr.shape"
      ],
      "execution_count": null,
      "outputs": [
        {
          "output_type": "execute_result",
          "data": {
            "text/plain": [
              "(5,)"
            ]
          },
          "metadata": {
            "tags": []
          },
          "execution_count": 46
        }
      ]
    },
    {
      "cell_type": "markdown",
      "metadata": {
        "id": "3w2o-QzS60AR"
      },
      "source": [
        "### <font color=\"green\">1.2. Challenges</font>"
      ]
    },
    {
      "cell_type": "code",
      "metadata": {
        "id": "VKNneHD4-4BY",
        "colab": {
          "base_uri": "https://localhost:8080/"
        },
        "outputId": "48a54492-53b0-4251-a0fc-9753f8f8a97d"
      },
      "source": [
        "# First generate a 2D array to work with\n",
        "x = np.random.rand(2, 3)\n",
        "print(x)"
      ],
      "execution_count": null,
      "outputs": [
        {
          "output_type": "stream",
          "text": [
            "[[0.36650668 0.20192769 0.59416441]\n",
            " [0.52225728 0.45757174 0.62845456]]\n"
          ],
          "name": "stdout"
        }
      ]
    },
    {
      "cell_type": "code",
      "metadata": {
        "id": "ygUyasmp62jO",
        "colab": {
          "base_uri": "https://localhost:8080/"
        },
        "outputId": "ab984500-ef96-4ea7-ed57-f25229370157"
      },
      "source": [
        "# Challenge 1\n",
        "# Then we will find the minimum value of the 2D array\n",
        "#\n",
        "x.min()"
      ],
      "execution_count": null,
      "outputs": [
        {
          "output_type": "execute_result",
          "data": {
            "text/plain": [
              "0.20192769031362"
            ]
          },
          "metadata": {
            "tags": []
          },
          "execution_count": 49
        }
      ]
    },
    {
      "cell_type": "code",
      "metadata": {
        "id": "Vi6G0azm637R",
        "colab": {
          "base_uri": "https://localhost:8080/"
        },
        "outputId": "084c1b27-928f-4dde-896f-f6491412d16f"
      },
      "source": [
        "# Challenge 2\n",
        "# We will find the maximum value of the 2D array\n",
        "#\n",
        "x.max()"
      ],
      "execution_count": null,
      "outputs": [
        {
          "output_type": "execute_result",
          "data": {
            "text/plain": [
              "0.6284545582518496"
            ]
          },
          "metadata": {
            "tags": []
          },
          "execution_count": 50
        }
      ]
    },
    {
      "cell_type": "code",
      "metadata": {
        "id": "84WVD6TA65Bm",
        "colab": {
          "base_uri": "https://localhost:8080/"
        },
        "outputId": "c3d995b1-7337-45a2-b983-afb5cb94cfe2"
      },
      "source": [
        "# Challenge 3\n",
        "# Then return the indice of the maximun element of the 2D array \n",
        "# \n",
        "x.argmax()"
      ],
      "execution_count": null,
      "outputs": [
        {
          "output_type": "execute_result",
          "data": {
            "text/plain": [
              "5"
            ]
          },
          "metadata": {
            "tags": []
          },
          "execution_count": 51
        }
      ]
    },
    {
      "cell_type": "code",
      "metadata": {
        "id": "kpaSbWQt66Fz",
        "colab": {
          "base_uri": "https://localhost:8080/"
        },
        "outputId": "f20c7ba0-b3c7-4562-b936-95c8300c7415"
      },
      "source": [
        "# Challenge 4\n",
        "# Again return the indice of the minimum element of the 2D array\n",
        "# \n",
        "x.argmin()"
      ],
      "execution_count": null,
      "outputs": [
        {
          "output_type": "execute_result",
          "data": {
            "text/plain": [
              "1"
            ]
          },
          "metadata": {
            "tags": []
          },
          "execution_count": 52
        }
      ]
    },
    {
      "cell_type": "code",
      "metadata": {
        "id": "0Snj7gJo67OU",
        "colab": {
          "base_uri": "https://localhost:8080/"
        },
        "outputId": "3cbc51b7-ddb1-4f09-99e3-1c04e3613ff8"
      },
      "source": [
        "# Challenge 5\n",
        "# Lastly, return the data type of the generated 2D array using dtype\n",
        "# \n",
        "print(type(x))"
      ],
      "execution_count": null,
      "outputs": [
        {
          "output_type": "stream",
          "text": [
            "<class 'numpy.ndarray'>\n"
          ],
          "name": "stdout"
        }
      ]
    },
    {
      "cell_type": "markdown",
      "metadata": {
        "id": "lpP7qc835YZX"
      },
      "source": [
        "## 1.3  Indexing  and Broadcasting"
      ]
    },
    {
      "cell_type": "code",
      "metadata": {
        "id": "bd0imU6GKHfs",
        "colab": {
          "base_uri": "https://localhost:8080/"
        },
        "outputId": "ccf3b90c-dea8-45c0-d13b-e10b38b6a4b6"
      },
      "source": [
        "# Creating an array to work with. \n",
        "#The array will be comprised of even numbers from 0 t0 15\n",
        "in_array = np.arange(0,15,2)\n",
        "\n",
        "print(in_array)"
      ],
      "execution_count": null,
      "outputs": [
        {
          "output_type": "stream",
          "text": [
            "[ 0  2  4  6  8 10 12 14]\n"
          ],
          "name": "stdout"
        }
      ]
    },
    {
      "cell_type": "code",
      "metadata": {
        "id": "e_yW1XvJ5dxC",
        "colab": {
          "base_uri": "https://localhost:8080/"
        },
        "outputId": "52c81cce-ac90-4ee8-c5e3-f940c24c81a0"
      },
      "source": [
        "# Example 1\n",
        "# Bracketing indexing allows us to access\n",
        "# elements from a Numpy array as shown\n",
        "# \n",
        "print(in_array[2]) # Displays the third element in the list\n",
        "print(in_array[1:5]) # Displays values from the second element to the fifth element\n",
        "print(in_array[3:]) # Displays the 4th element to the last element in the list"
      ],
      "execution_count": null,
      "outputs": [
        {
          "output_type": "stream",
          "text": [
            "4\n",
            "[2 4 6 8]\n",
            "[ 6  8 10 12 14]\n"
          ],
          "name": "stdout"
        }
      ]
    },
    {
      "cell_type": "code",
      "metadata": {
        "id": "NzNROPLy5vg3",
        "colab": {
          "base_uri": "https://localhost:8080/"
        },
        "outputId": "897550d4-a943-494c-998e-da98e01c611b"
      },
      "source": [
        "# Example 2\n",
        "# Arrays with different sizes cannot be added, subtracted or used in any arithmetic.\n",
        "# one way of solving this is to duplicate the smaller array so that its size is the same as the larger array.\n",
        "# This process is called broadasting and is available in numpy. \n",
        "\n",
        "# Broadcasting is Numpy's terminology for performing mathematical operations \n",
        "# between arrays with different shapes. This example provides insights on \n",
        "# broadcasting. First, lets run this cell then later uncomment each block trying\n",
        "# to understand what happens. \n",
        "# Once you're done with the final block, you can get a detailed explanation \n",
        "# on broadcasting here: http://bit.ly/NumpyBroadcasting\n",
        "# \n",
        "\n",
        "in_array[0:2] = 100\n",
        "print(in_array)\n",
        "\n",
        "# First reseting our array i.e. recreating it\n",
        "in_array = np.arange(0,11)\n",
        "print(in_array)\n",
        "\n",
        "# Then making a copy \n",
        "in_array_copy = in_array.copy()\n",
        "print(in_array_copy)\n",
        "\n",
        "# Afterwards creating a new array upon slicing\n",
        "slice_of_arr = in_array[0:5]\n",
        "print(slice_of_arr)\n",
        "\n",
        "# Changing the Slice\n",
        "slice_of_arr[:]=22\n",
        "print(slice_of_arr)\n",
        "\n",
        "# NB: Changes also occur in our original array\n",
        "print(in_array)\n",
        "\n",
        "# check your copy\n",
        "print(in_array_copy)"
      ],
      "execution_count": null,
      "outputs": [
        {
          "output_type": "stream",
          "text": [
            "[100 100  22  22  22   5   6   7   8   9  10]\n",
            "[ 0  1  2  3  4  5  6  7  8  9 10]\n",
            "[ 0  1  2  3  4  5  6  7  8  9 10]\n",
            "[0 1 2 3 4]\n",
            "[22 22 22 22 22]\n",
            "[22 22 22 22 22  5  6  7  8  9 10]\n",
            "[ 0  1  2  3  4  5  6  7  8  9 10]\n"
          ],
          "name": "stdout"
        }
      ]
    },
    {
      "cell_type": "code",
      "metadata": {
        "id": "juXc8Yem584S",
        "colab": {
          "base_uri": "https://localhost:8080/"
        },
        "outputId": "4c1a4bbe-2b75-40d2-9a1a-288001705942"
      },
      "source": [
        "# Example 3\n",
        "# Indexing a 2D array (matrices)\n",
        "# \n",
        "\n",
        "ind_arr_2d = np.array(([21, 22, 23], [11, 22, 33], [43, 77, 89]))\n",
        "print(ind_arr_2d)\n",
        "\n",
        "# Selecting element at row index 1 & column index 2\n",
        "#\n",
        "print(ind_arr_2d[1][2])\n",
        "\n",
        "# Selecting a Row at index 1\n",
        "#\n",
        "row = ind_arr_2d[1]\n",
        "print(row)\n",
        "\n",
        "# Selecting a column at index 1 \n",
        "# \n",
        "column = ind_arr_2d[:, 1]\n",
        "print(column)"
      ],
      "execution_count": null,
      "outputs": [
        {
          "output_type": "stream",
          "text": [
            "[[21 22 23]\n",
            " [11 22 33]\n",
            " [43 77 89]]\n",
            "33\n",
            "[11 22 33]\n",
            "[22 22 77]\n"
          ],
          "name": "stdout"
        }
      ]
    },
    {
      "cell_type": "code",
      "metadata": {
        "id": "l-PTQXUi6Cxp",
        "colab": {
          "base_uri": "https://localhost:8080/"
        },
        "outputId": "24fa0322-e6f1-47ff-d063-1d49a2283fac"
      },
      "source": [
        "# Example 4 \n",
        "# Fancy Indexing allows us to select entire rows or columns out of order\n",
        "# as shown\n",
        "# \n",
        "\n",
        "# First creating an array or zeros\n",
        "arr2d = np.zeros((10,10))\n",
        "print(arr2d)\n",
        "\n",
        "# Length of array\n",
        "arr_length = arr2d.shape[1]\n",
        "print(arr_length)\n",
        "\n",
        "# creating the array \n",
        "for i in range(arr_length):\n",
        "    arr2d[i] = i\n",
        "    \n",
        "print(arr2d)\n",
        "\n",
        "# Now selecting the first, third and the fourth rows via fancy indexing\n",
        "arr2d[[0,2,3]]"
      ],
      "execution_count": null,
      "outputs": [
        {
          "output_type": "stream",
          "text": [
            "[[0. 0. 0. 0. 0. 0. 0. 0. 0. 0.]\n",
            " [0. 0. 0. 0. 0. 0. 0. 0. 0. 0.]\n",
            " [0. 0. 0. 0. 0. 0. 0. 0. 0. 0.]\n",
            " [0. 0. 0. 0. 0. 0. 0. 0. 0. 0.]\n",
            " [0. 0. 0. 0. 0. 0. 0. 0. 0. 0.]\n",
            " [0. 0. 0. 0. 0. 0. 0. 0. 0. 0.]\n",
            " [0. 0. 0. 0. 0. 0. 0. 0. 0. 0.]\n",
            " [0. 0. 0. 0. 0. 0. 0. 0. 0. 0.]\n",
            " [0. 0. 0. 0. 0. 0. 0. 0. 0. 0.]\n",
            " [0. 0. 0. 0. 0. 0. 0. 0. 0. 0.]]\n",
            "10\n",
            "[[0. 0. 0. 0. 0. 0. 0. 0. 0. 0.]\n",
            " [1. 1. 1. 1. 1. 1. 1. 1. 1. 1.]\n",
            " [2. 2. 2. 2. 2. 2. 2. 2. 2. 2.]\n",
            " [3. 3. 3. 3. 3. 3. 3. 3. 3. 3.]\n",
            " [4. 4. 4. 4. 4. 4. 4. 4. 4. 4.]\n",
            " [5. 5. 5. 5. 5. 5. 5. 5. 5. 5.]\n",
            " [6. 6. 6. 6. 6. 6. 6. 6. 6. 6.]\n",
            " [7. 7. 7. 7. 7. 7. 7. 7. 7. 7.]\n",
            " [8. 8. 8. 8. 8. 8. 8. 8. 8. 8.]\n",
            " [9. 9. 9. 9. 9. 9. 9. 9. 9. 9.]]\n"
          ],
          "name": "stdout"
        },
        {
          "output_type": "execute_result",
          "data": {
            "text/plain": [
              "array([[0., 0., 0., 0., 0., 0., 0., 0., 0., 0.],\n",
              "       [2., 2., 2., 2., 2., 2., 2., 2., 2., 2.],\n",
              "       [3., 3., 3., 3., 3., 3., 3., 3., 3., 3.]])"
            ]
          },
          "metadata": {
            "tags": []
          },
          "execution_count": 69
        }
      ]
    },
    {
      "cell_type": "markdown",
      "metadata": {
        "id": "vtbzfkVu7A_i"
      },
      "source": [
        "### <font color=\"green\">1.3. Challenges</font>"
      ]
    },
    {
      "cell_type": "code",
      "metadata": {
        "id": "AoybsIQPODZD",
        "colab": {
          "base_uri": "https://localhost:8080/"
        },
        "outputId": "3a12060c-d914-402a-842d-a60d91069380"
      },
      "source": [
        "# First, we create a 2D array to work with\n",
        "x = np.array(([15,20,25],[15,20,25],[30,35,40]))\n",
        "print(x)\n"
      ],
      "execution_count": null,
      "outputs": [
        {
          "output_type": "stream",
          "text": [
            "[[15 20 25]\n",
            " [15 20 25]\n",
            " [30 35 40]]\n"
          ],
          "name": "stdout"
        }
      ]
    },
    {
      "cell_type": "code",
      "metadata": {
        "id": "t2DLZeOs7Fej",
        "colab": {
          "base_uri": "https://localhost:8080/"
        },
        "outputId": "a58a301f-643f-4bb6-e717-5f412a0c000b"
      },
      "source": [
        "# Challenge 1\n",
        "# Let's get the 3rd row of the array\n",
        "# \n",
        "print(x[2])"
      ],
      "execution_count": null,
      "outputs": [
        {
          "output_type": "stream",
          "text": [
            "[30 35 40]\n"
          ],
          "name": "stdout"
        }
      ]
    },
    {
      "cell_type": "code",
      "metadata": {
        "id": "mrcHn88Q7GuP",
        "colab": {
          "base_uri": "https://localhost:8080/"
        },
        "outputId": "702247f6-1812-435e-eaf1-5e1cb5efde8d"
      },
      "source": [
        "# Challenge 2\n",
        "# Let's get the individual element 35\n",
        "x[2][1] or x[2,1]\n",
        "#\n"
      ],
      "execution_count": null,
      "outputs": [
        {
          "output_type": "execute_result",
          "data": {
            "text/plain": [
              "35"
            ]
          },
          "metadata": {
            "tags": []
          },
          "execution_count": 73
        }
      ]
    },
    {
      "cell_type": "code",
      "metadata": {
        "id": "2Q_POLIs7IKI",
        "colab": {
          "base_uri": "https://localhost:8080/"
        },
        "outputId": "fa8c7f1a-0252-4971-cd98-9767748551ba"
      },
      "source": [
        "# Challenge 3\n",
        "# Let's slice the array (2,2) from top right corner\n",
        "# \n",
        "x = np.array(([15,20,25],[15,20,25],[30,35,40]))\n",
        "print(x[ :-1,1:3])\n",
        "\n"
      ],
      "execution_count": null,
      "outputs": [
        {
          "output_type": "stream",
          "text": [
            "[[20 25]\n",
            " [20 25]]\n"
          ],
          "name": "stdout"
        }
      ]
    },
    {
      "cell_type": "code",
      "metadata": {
        "id": "dumxoNxX7JKO",
        "colab": {
          "base_uri": "https://localhost:8080/"
        },
        "outputId": "adce8b82-d308-4d82-efd4-0782b543a340"
      },
      "source": [
        "# Challenge 4\n",
        "# Let's create a random 6 x 4 matrix then select the 3rd and 4th rows\n",
        "#\n",
        "our_matrix = np.random.rand(6, 4)\n",
        "print(our_matrix)\n",
        "\n",
        "print(our_matrix[2:-2][:])"
      ],
      "execution_count": null,
      "outputs": [
        {
          "output_type": "stream",
          "text": [
            "[[0.09092803 0.14471285 0.11069625 0.73212457]\n",
            " [0.92354336 0.71554837 0.53545453 0.83781423]\n",
            " [0.17767205 0.41031115 0.19784369 0.16966065]\n",
            " [0.11503888 0.56387104 0.01561558 0.99814115]\n",
            " [0.90146752 0.40039363 0.19661677 0.63122876]\n",
            " [0.75507649 0.05626683 0.48296682 0.236927  ]]\n",
            "[[0.17767205 0.41031115 0.19784369 0.16966065]\n",
            " [0.11503888 0.56387104 0.01561558 0.99814115]]\n"
          ],
          "name": "stdout"
        }
      ]
    },
    {
      "cell_type": "markdown",
      "metadata": {
        "id": "7HM2oS-c6Fyz"
      },
      "source": [
        "## 1.4 Conditional Selection"
      ]
    },
    {
      "cell_type": "code",
      "metadata": {
        "id": "X02c9mGxaRdu",
        "colab": {
          "base_uri": "https://localhost:8080/"
        },
        "outputId": "c8bc6c2f-492a-4452-ead3-b56f98540cc6"
      },
      "source": [
        "# We can use conditions to check for whether elements in a certain range satisfy a condition.\n",
        "# Let's first creating an array. Do you remember what the arrange function does?\n",
        "#\n",
        "x = np.arange(1,11)\n",
        "print(x)"
      ],
      "execution_count": null,
      "outputs": [
        {
          "output_type": "stream",
          "text": [
            "[ 1  2  3  4  5  6  7  8  9 10]\n"
          ],
          "name": "stdout"
        }
      ]
    },
    {
      "cell_type": "code",
      "metadata": {
        "id": "ekQ-AjCS6Lf1",
        "colab": {
          "base_uri": "https://localhost:8080/"
        },
        "outputId": "a9e8e27c-25f7-4fa1-be5e-6a4e5ceae59b"
      },
      "source": [
        "# Example 1  \n",
        "# What do we do here?\n",
        "#\n",
        "x > 3"
      ],
      "execution_count": null,
      "outputs": [
        {
          "output_type": "execute_result",
          "data": {
            "text/plain": [
              "array([False, False, False,  True,  True,  True,  True,  True,  True,\n",
              "        True])"
            ]
          },
          "metadata": {
            "tags": []
          },
          "execution_count": 120
        }
      ]
    },
    {
      "cell_type": "code",
      "metadata": {
        "id": "_CMv_cG36P8s",
        "colab": {
          "base_uri": "https://localhost:8080/"
        },
        "outputId": "3e573c87-782f-4d6b-fcdc-b4e0cdec42b5"
      },
      "source": [
        "# Example 2\n",
        "# What happens here?\n",
        "#\n",
        "bool_x = x > 3\n",
        "print(bool_x)\n",
        "\n",
        "print(x[bool_x])"
      ],
      "execution_count": null,
      "outputs": [
        {
          "output_type": "stream",
          "text": [
            "[False False False  True  True  True  True  True  True  True]\n",
            "[ 4  5  6  7  8  9 10]\n"
          ],
          "name": "stdout"
        }
      ]
    },
    {
      "cell_type": "code",
      "metadata": {
        "id": "ZmMJyzcM6X8d",
        "colab": {
          "base_uri": "https://localhost:8080/"
        },
        "outputId": "4d5a133f-cfa4-4bd2-bb1e-14c745ba2974"
      },
      "source": [
        "# Example 3\n",
        "# Finally, let's select those values in our array that satisfy our condition\n",
        "# \n",
        "print(x[x > 4])"
      ],
      "execution_count": null,
      "outputs": [
        {
          "output_type": "stream",
          "text": [
            "[ 5  6  7  8  9 10]\n"
          ],
          "name": "stdout"
        }
      ]
    },
    {
      "cell_type": "markdown",
      "metadata": {
        "id": "FXNTaawR7Lly"
      },
      "source": [
        "### <font color=\"green\">1.4 Challenges</font>"
      ]
    },
    {
      "cell_type": "code",
      "metadata": {
        "id": "JvOfEoCQdPW3",
        "colab": {
          "base_uri": "https://localhost:8080/"
        },
        "outputId": "44004537-58a7-4d31-f423-9a99a7be62a6"
      },
      "source": [
        "# Creating the array to be used below\n",
        "#\n",
        "ma= np.array([[0, 1, 2], [3, 4, 5], [6, 7, 8]])\n",
        "print (ma)"
      ],
      "execution_count": null,
      "outputs": [
        {
          "output_type": "stream",
          "text": [
            "[[0 1 2]\n",
            " [3 4 5]\n",
            " [6 7 8]]\n"
          ],
          "name": "stdout"
        }
      ]
    },
    {
      "cell_type": "code",
      "metadata": {
        "id": "X8wmyySf7TRt",
        "colab": {
          "base_uri": "https://localhost:8080/"
        },
        "outputId": "55f65caa-57dd-48f8-de20-6d4552846f2a"
      },
      "source": [
        "# Challenge 1\n",
        "# Get the 2nd row using conditional selection\n",
        "x_1 = ma[1]\n",
        "print(x_1)"
      ],
      "execution_count": null,
      "outputs": [
        {
          "output_type": "stream",
          "text": [
            "[3 4 5]\n"
          ],
          "name": "stdout"
        }
      ]
    },
    {
      "cell_type": "code",
      "metadata": {
        "id": "h3uZ6qls7UMq",
        "colab": {
          "base_uri": "https://localhost:8080/"
        },
        "outputId": "3b621434-d286-4353-cfc6-879650710ea5"
      },
      "source": [
        "# Challenge 2\n",
        "# Which elements are greater than two?\n",
        "#\n",
        "ma > 2\n",
        "bool_ma = ma > 2\n",
        "print(ma[bool_ma])"
      ],
      "execution_count": null,
      "outputs": [
        {
          "output_type": "stream",
          "text": [
            "[3 4 5 6 7 8]\n"
          ],
          "name": "stdout"
        }
      ]
    },
    {
      "cell_type": "code",
      "metadata": {
        "id": "yKfmU0xF7U-V",
        "colab": {
          "base_uri": "https://localhost:8080/"
        },
        "outputId": "ca94818e-5f1d-4ae0-f910-b9d16b9e66cf"
      },
      "source": [
        "# Challenge 3\n",
        "# Get the array [7, 8] from the x array\n",
        "# \n",
        "ma= np.array([[0, 1, 2], [3, 4, 5], [6, 7, 8]])\n",
        "bool_x = ma > 6\n",
        "print(ma [bool_x])"
      ],
      "execution_count": null,
      "outputs": [
        {
          "output_type": "stream",
          "text": [
            "[7 8]\n"
          ],
          "name": "stdout"
        }
      ]
    },
    {
      "cell_type": "markdown",
      "metadata": {
        "id": "5mWusWpH6eff"
      },
      "source": [
        "## 1.5 Operations"
      ]
    },
    {
      "cell_type": "code",
      "metadata": {
        "id": "JIDxVUI0nVEY",
        "colab": {
          "base_uri": "https://localhost:8080/"
        },
        "outputId": "5679a03c-87da-4675-aac3-154c64e96a0c"
      },
      "source": [
        "# Creating the array that we will use below:\n",
        "# \n",
        "a = np.arange(0,5)\n",
        "print(a)"
      ],
      "execution_count": null,
      "outputs": [
        {
          "output_type": "stream",
          "text": [
            "[0 1 2 3 4]\n"
          ],
          "name": "stdout"
        }
      ]
    },
    {
      "cell_type": "code",
      "metadata": {
        "id": "YRtb1N4i6hbE",
        "colab": {
          "base_uri": "https://localhost:8080/"
        },
        "outputId": "265d94bb-323a-4219-8b07-c436746eca96"
      },
      "source": [
        "# Example 1\n",
        "# Arithmetic Operations\n",
        "# \n",
        "addition_arr = a + a\n",
        "print(addition_arr)\n",
        "\n",
        "subtraction_arr = a - a\n",
        "print(subtraction_arr)"
      ],
      "execution_count": null,
      "outputs": [
        {
          "output_type": "stream",
          "text": [
            "[0 2 4 6 8]\n",
            "[0 0 0 0 0]\n"
          ],
          "name": "stdout"
        }
      ]
    },
    {
      "cell_type": "code",
      "metadata": {
        "id": "33NeFWBs6l13",
        "colab": {
          "base_uri": "https://localhost:8080/"
        },
        "outputId": "c2e8c5dd-ed20-4b71-cff2-f5ce1365233d"
      },
      "source": [
        "# Example 2\n",
        "# Universal Array Functions\n",
        "# \n",
        "\n",
        "# square root\n",
        "sqr_arr = np.sqrt(a)\n",
        "print(sqr_arr)\n",
        "\n",
        "# exponential\n",
        "exp_arr = np.exp(a)\n",
        "print(exp_arr)"
      ],
      "execution_count": null,
      "outputs": [
        {
          "output_type": "stream",
          "text": [
            "[0.         1.         1.41421356 1.73205081 2.        ]\n",
            "[ 1.          2.71828183  7.3890561  20.08553692 54.59815003]\n"
          ],
          "name": "stdout"
        }
      ]
    },
    {
      "cell_type": "markdown",
      "metadata": {
        "id": "RMVtc9Bs7bb6"
      },
      "source": [
        "### <font color=\"green\">1.5 Challenges</font>"
      ]
    },
    {
      "cell_type": "code",
      "metadata": {
        "id": "m8pWm82gkHqk",
        "colab": {
          "base_uri": "https://localhost:8080/"
        },
        "outputId": "65631657-28c7-43cc-db90-6ee1fe12babd"
      },
      "source": [
        "# Challenge 1\n",
        "# Raise the a array created above to the power of 2\n",
        "#\n",
        "sqr = sqr_arr ** 2\n",
        "print(sqr)"
      ],
      "execution_count": null,
      "outputs": [
        {
          "output_type": "stream",
          "text": [
            "[0. 1. 2. 3. 4.]\n"
          ],
          "name": "stdout"
        }
      ]
    },
    {
      "cell_type": "code",
      "metadata": {
        "id": "y1CxcuFj7ehe",
        "colab": {
          "base_uri": "https://localhost:8080/"
        },
        "outputId": "103c0c76-175b-4a5e-893f-a761603e3a45"
      },
      "source": [
        "# Challenge 2\n",
        "# Find the log of a using log(), \n",
        "# the Universal Array Functions\n",
        "#\n",
        "log_arr = np.log(sqr)\n",
        "print(log_arr)"
      ],
      "execution_count": null,
      "outputs": [
        {
          "output_type": "stream",
          "text": [
            "[      -inf 0.         0.69314718 1.09861229 1.38629436]\n"
          ],
          "name": "stdout"
        },
        {
          "output_type": "stream",
          "text": [
            "/usr/local/lib/python3.7/dist-packages/ipykernel_launcher.py:5: RuntimeWarning: divide by zero encountered in log\n",
            "  \"\"\"\n"
          ],
          "name": "stderr"
        }
      ]
    },
    {
      "cell_type": "code",
      "metadata": {
        "id": "QB-54zeYjWOa"
      },
      "source": [
        "# Challenge 3\n",
        "# This of a dataset then determine where you can use the \n",
        "# numpy concepts that you learnt in this session?\n",
        "# Then explain them to your peer."
      ],
      "execution_count": null,
      "outputs": []
    }
  ]
}