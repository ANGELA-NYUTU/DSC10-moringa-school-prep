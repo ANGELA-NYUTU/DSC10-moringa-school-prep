{
  "nbformat": 4,
  "nbformat_minor": 0,
  "metadata": {
    "colab": {
      "name": " Data Investigation with Pandas",
      "provenance": [],
      "collapsed_sections": [
        "RAVzK5O6IR8v"
      ],
      "toc_visible": true,
      "include_colab_link": true
    },
    "kernelspec": {
      "name": "python3",
      "display_name": "Python 3"
    }
  },
  "cells": [
    {
      "cell_type": "markdown",
      "metadata": {
        "id": "view-in-github",
        "colab_type": "text"
      },
      "source": [
        "<a href=\"https://colab.research.google.com/github/ANGELA-NYUTU/DSC10-moringa-school-prep/blob/main/Data_Investigation_with_Pandas.ipynb\" target=\"_parent\"><img src=\"https://colab.research.google.com/assets/colab-badge.svg\" alt=\"Open In Colab\"/></a>"
      ]
    },
    {
      "cell_type": "markdown",
      "metadata": {
        "id": "B-ZF3yPCWGPf"
      },
      "source": [
        "<font color=\"green\">*To start working on this notebook, or any other notebook that we will use in the Moringa Data Science Course, we will need to save our own copy of it. We can do this by clicking File > Save a Copy in Drive. We will then be able to make edits to our own copy of this notebook.*</font>"
      ]
    },
    {
      "cell_type": "markdown",
      "metadata": {
        "id": "m0tgCkvzPLEa"
      },
      "source": [
        "# Data Investigation with Pandas"
      ]
    },
    {
      "cell_type": "markdown",
      "metadata": {
        "id": "VSnOCZ5-IPCi"
      },
      "source": [
        "## 1.0 Importing our Libraries"
      ]
    },
    {
      "cell_type": "code",
      "metadata": {
        "id": "3r-KDLvrO44a"
      },
      "source": [
        "# Importing the libraries we will need \n",
        "\n",
        "# Importing the pandas library\n",
        "# \n",
        "import pandas as pd\n",
        "\n",
        "# Importing the numpy library\n",
        "#\n",
        "import numpy as np"
      ],
      "execution_count": null,
      "outputs": []
    },
    {
      "cell_type": "markdown",
      "metadata": {
        "id": "HToJZ2gBPawZ"
      },
      "source": [
        "## 1.1 Reading the Dataset from our CSV file\n",
        "\n"
      ]
    },
    {
      "cell_type": "markdown",
      "metadata": {
        "id": "LBUr8VUXQX-K"
      },
      "source": [
        "\n",
        "\n",
        "The dataset we will use contains information about the 2009 Census - The Rural Urban Population by Age, Sex and District.\n",
        "\n",
        "\n",
        "*   Dataset link for download or access: [Link](https://drive.google.com/open?id=1pc9ZLFGsosdWBk1lI29ADIqRtCvD_FBe)\n",
        "\n",
        "\n",
        "\n"
      ]
    },
    {
      "cell_type": "code",
      "metadata": {
        "id": "1acwmZanRNHs",
        "colab": {
          "base_uri": "https://localhost:8080/",
          "height": 399
        },
        "outputId": "291a178f-f825-4dcb-9a0f-8a38f5840511"
      },
      "source": [
        "# Let's read the data from the CSV file and create the dataframe to be used\n",
        "# \n",
        "url = '/content/Rural_Urban_Population_By_Age_Sex_and_by_District__2009.csv'\n",
        "df = pd.read_csv(url)\n",
        "df"
      ],
      "execution_count": null,
      "outputs": [
        {
          "output_type": "execute_result",
          "data": {
            "text/html": [
              "<div>\n",
              "<style scoped>\n",
              "    .dataframe tbody tr th:only-of-type {\n",
              "        vertical-align: middle;\n",
              "    }\n",
              "\n",
              "    .dataframe tbody tr th {\n",
              "        vertical-align: top;\n",
              "    }\n",
              "\n",
              "    .dataframe thead th {\n",
              "        text-align: right;\n",
              "    }\n",
              "</style>\n",
              "<table border=\"1\" class=\"dataframe\">\n",
              "  <thead>\n",
              "    <tr style=\"text-align: right;\">\n",
              "      <th></th>\n",
              "      <th>District</th>\n",
              "      <th>Urban/Rural</th>\n",
              "      <th>Age_years</th>\n",
              "      <th>Male</th>\n",
              "      <th>Female</th>\n",
              "      <th>Total</th>\n",
              "      <th>County</th>\n",
              "      <th>Province</th>\n",
              "      <th>OBJECTID</th>\n",
              "    </tr>\n",
              "  </thead>\n",
              "  <tbody>\n",
              "    <tr>\n",
              "      <th>0</th>\n",
              "      <td>NAIROBI WEST</td>\n",
              "      <td>Urban</td>\n",
              "      <td>0</td>\n",
              "      <td>10126</td>\n",
              "      <td>10116</td>\n",
              "      <td>20242</td>\n",
              "      <td>Nairobi</td>\n",
              "      <td>NAIROBI</td>\n",
              "      <td>0</td>\n",
              "    </tr>\n",
              "    <tr>\n",
              "      <th>1</th>\n",
              "      <td>NAIROBI WEST</td>\n",
              "      <td>Urban</td>\n",
              "      <td>1</td>\n",
              "      <td>8124</td>\n",
              "      <td>7989</td>\n",
              "      <td>16113</td>\n",
              "      <td>Nairobi</td>\n",
              "      <td>NAIROBI</td>\n",
              "      <td>1</td>\n",
              "    </tr>\n",
              "    <tr>\n",
              "      <th>2</th>\n",
              "      <td>NAIROBI WEST</td>\n",
              "      <td>Urban</td>\n",
              "      <td>2</td>\n",
              "      <td>8462</td>\n",
              "      <td>8627</td>\n",
              "      <td>17089</td>\n",
              "      <td>Nairobi</td>\n",
              "      <td>NAIROBI</td>\n",
              "      <td>2</td>\n",
              "    </tr>\n",
              "    <tr>\n",
              "      <th>3</th>\n",
              "      <td>NAIROBI WEST</td>\n",
              "      <td>Urban</td>\n",
              "      <td>3</td>\n",
              "      <td>8334</td>\n",
              "      <td>8420</td>\n",
              "      <td>16754</td>\n",
              "      <td>Nairobi</td>\n",
              "      <td>NAIROBI</td>\n",
              "      <td>3</td>\n",
              "    </tr>\n",
              "    <tr>\n",
              "      <th>4</th>\n",
              "      <td>NAIROBI WEST</td>\n",
              "      <td>Urban</td>\n",
              "      <td>4</td>\n",
              "      <td>7948</td>\n",
              "      <td>7820</td>\n",
              "      <td>15768</td>\n",
              "      <td>Nairobi</td>\n",
              "      <td>NAIROBI</td>\n",
              "      <td>4</td>\n",
              "    </tr>\n",
              "    <tr>\n",
              "      <th>...</th>\n",
              "      <td>...</td>\n",
              "      <td>...</td>\n",
              "      <td>...</td>\n",
              "      <td>...</td>\n",
              "      <td>...</td>\n",
              "      <td>...</td>\n",
              "      <td>...</td>\n",
              "      <td>...</td>\n",
              "      <td>...</td>\n",
              "    </tr>\n",
              "    <tr>\n",
              "      <th>25415</th>\n",
              "      <td>TESO SOUTH</td>\n",
              "      <td>Rural</td>\n",
              "      <td>77</td>\n",
              "      <td>99</td>\n",
              "      <td>86</td>\n",
              "      <td>185</td>\n",
              "      <td>Busia</td>\n",
              "      <td>WESTERN</td>\n",
              "      <td>25415</td>\n",
              "    </tr>\n",
              "    <tr>\n",
              "      <th>25416</th>\n",
              "      <td>TESO SOUTH</td>\n",
              "      <td>Rural</td>\n",
              "      <td>78</td>\n",
              "      <td>63</td>\n",
              "      <td>47</td>\n",
              "      <td>110</td>\n",
              "      <td>Busia</td>\n",
              "      <td>WESTERN</td>\n",
              "      <td>25416</td>\n",
              "    </tr>\n",
              "    <tr>\n",
              "      <th>25417</th>\n",
              "      <td>TESO SOUTH</td>\n",
              "      <td>Rural</td>\n",
              "      <td>79</td>\n",
              "      <td>90</td>\n",
              "      <td>121</td>\n",
              "      <td>211</td>\n",
              "      <td>Busia</td>\n",
              "      <td>WESTERN</td>\n",
              "      <td>25417</td>\n",
              "    </tr>\n",
              "    <tr>\n",
              "      <th>25418</th>\n",
              "      <td>TESO SOUTH</td>\n",
              "      <td>Rural</td>\n",
              "      <td>80+</td>\n",
              "      <td>384</td>\n",
              "      <td>391</td>\n",
              "      <td>775</td>\n",
              "      <td>Busia</td>\n",
              "      <td>WESTERN</td>\n",
              "      <td>25418</td>\n",
              "    </tr>\n",
              "    <tr>\n",
              "      <th>25419</th>\n",
              "      <td>TESO SOUTH</td>\n",
              "      <td>Rural</td>\n",
              "      <td>Age NS</td>\n",
              "      <td>25</td>\n",
              "      <td>23</td>\n",
              "      <td>48</td>\n",
              "      <td>Busia</td>\n",
              "      <td>WESTERN</td>\n",
              "      <td>25419</td>\n",
              "    </tr>\n",
              "  </tbody>\n",
              "</table>\n",
              "<p>25420 rows × 9 columns</p>\n",
              "</div>"
            ],
            "text/plain": [
              "           District Urban/Rural Age_years  ...   County  Province  OBJECTID\n",
              "0      NAIROBI WEST       Urban         0  ...  Nairobi   NAIROBI         0\n",
              "1      NAIROBI WEST       Urban         1  ...  Nairobi   NAIROBI         1\n",
              "2      NAIROBI WEST       Urban         2  ...  Nairobi   NAIROBI         2\n",
              "3      NAIROBI WEST       Urban         3  ...  Nairobi   NAIROBI         3\n",
              "4      NAIROBI WEST       Urban         4  ...  Nairobi   NAIROBI         4\n",
              "...             ...         ...       ...  ...      ...       ...       ...\n",
              "25415    TESO SOUTH       Rural        77  ...    Busia   WESTERN     25415\n",
              "25416    TESO SOUTH       Rural        78  ...    Busia   WESTERN     25416\n",
              "25417    TESO SOUTH       Rural        79  ...    Busia   WESTERN     25417\n",
              "25418    TESO SOUTH       Rural       80+  ...    Busia   WESTERN     25418\n",
              "25419    TESO SOUTH       Rural    Age NS  ...    Busia   WESTERN     25419\n",
              "\n",
              "[25420 rows x 9 columns]"
            ]
          },
          "metadata": {
            "tags": []
          },
          "execution_count": 2
        }
      ]
    },
    {
      "cell_type": "markdown",
      "metadata": {
        "id": "IICLGbvBRYHq"
      },
      "source": [
        "## 1.2 Previewing our Dataset\n"
      ]
    },
    {
      "cell_type": "code",
      "metadata": {
        "id": "WrwHg-hzR5BY",
        "colab": {
          "base_uri": "https://localhost:8080/",
          "height": 340
        },
        "outputId": "5e700b91-7ec2-4161-f92b-fbe60f6cbc93"
      },
      "source": [
        "# Let's preview the first 10 rows of our data\n",
        "# \n",
        "df.head(10)"
      ],
      "execution_count": null,
      "outputs": [
        {
          "output_type": "execute_result",
          "data": {
            "text/html": [
              "<div>\n",
              "<style scoped>\n",
              "    .dataframe tbody tr th:only-of-type {\n",
              "        vertical-align: middle;\n",
              "    }\n",
              "\n",
              "    .dataframe tbody tr th {\n",
              "        vertical-align: top;\n",
              "    }\n",
              "\n",
              "    .dataframe thead th {\n",
              "        text-align: right;\n",
              "    }\n",
              "</style>\n",
              "<table border=\"1\" class=\"dataframe\">\n",
              "  <thead>\n",
              "    <tr style=\"text-align: right;\">\n",
              "      <th></th>\n",
              "      <th>District</th>\n",
              "      <th>Urban/Rural</th>\n",
              "      <th>Age_years</th>\n",
              "      <th>Male</th>\n",
              "      <th>Female</th>\n",
              "      <th>Total</th>\n",
              "      <th>County</th>\n",
              "      <th>Province</th>\n",
              "      <th>OBJECTID</th>\n",
              "    </tr>\n",
              "  </thead>\n",
              "  <tbody>\n",
              "    <tr>\n",
              "      <th>0</th>\n",
              "      <td>NAIROBI WEST</td>\n",
              "      <td>Urban</td>\n",
              "      <td>0</td>\n",
              "      <td>10126</td>\n",
              "      <td>10116</td>\n",
              "      <td>20242</td>\n",
              "      <td>Nairobi</td>\n",
              "      <td>NAIROBI</td>\n",
              "      <td>0</td>\n",
              "    </tr>\n",
              "    <tr>\n",
              "      <th>1</th>\n",
              "      <td>NAIROBI WEST</td>\n",
              "      <td>Urban</td>\n",
              "      <td>1</td>\n",
              "      <td>8124</td>\n",
              "      <td>7989</td>\n",
              "      <td>16113</td>\n",
              "      <td>Nairobi</td>\n",
              "      <td>NAIROBI</td>\n",
              "      <td>1</td>\n",
              "    </tr>\n",
              "    <tr>\n",
              "      <th>2</th>\n",
              "      <td>NAIROBI WEST</td>\n",
              "      <td>Urban</td>\n",
              "      <td>2</td>\n",
              "      <td>8462</td>\n",
              "      <td>8627</td>\n",
              "      <td>17089</td>\n",
              "      <td>Nairobi</td>\n",
              "      <td>NAIROBI</td>\n",
              "      <td>2</td>\n",
              "    </tr>\n",
              "    <tr>\n",
              "      <th>3</th>\n",
              "      <td>NAIROBI WEST</td>\n",
              "      <td>Urban</td>\n",
              "      <td>3</td>\n",
              "      <td>8334</td>\n",
              "      <td>8420</td>\n",
              "      <td>16754</td>\n",
              "      <td>Nairobi</td>\n",
              "      <td>NAIROBI</td>\n",
              "      <td>3</td>\n",
              "    </tr>\n",
              "    <tr>\n",
              "      <th>4</th>\n",
              "      <td>NAIROBI WEST</td>\n",
              "      <td>Urban</td>\n",
              "      <td>4</td>\n",
              "      <td>7948</td>\n",
              "      <td>7820</td>\n",
              "      <td>15768</td>\n",
              "      <td>Nairobi</td>\n",
              "      <td>NAIROBI</td>\n",
              "      <td>4</td>\n",
              "    </tr>\n",
              "    <tr>\n",
              "      <th>5</th>\n",
              "      <td>NAIROBI WEST</td>\n",
              "      <td>Urban</td>\n",
              "      <td>5</td>\n",
              "      <td>7547</td>\n",
              "      <td>7660</td>\n",
              "      <td>15207</td>\n",
              "      <td>Nairobi</td>\n",
              "      <td>NAIROBI</td>\n",
              "      <td>5</td>\n",
              "    </tr>\n",
              "    <tr>\n",
              "      <th>6</th>\n",
              "      <td>NAIROBI WEST</td>\n",
              "      <td>Urban</td>\n",
              "      <td>6</td>\n",
              "      <td>6966</td>\n",
              "      <td>7082</td>\n",
              "      <td>14048</td>\n",
              "      <td>Nairobi</td>\n",
              "      <td>NAIROBI</td>\n",
              "      <td>6</td>\n",
              "    </tr>\n",
              "    <tr>\n",
              "      <th>7</th>\n",
              "      <td>NAIROBI WEST</td>\n",
              "      <td>Urban</td>\n",
              "      <td>7</td>\n",
              "      <td>6511</td>\n",
              "      <td>6674</td>\n",
              "      <td>13185</td>\n",
              "      <td>Nairobi</td>\n",
              "      <td>NAIROBI</td>\n",
              "      <td>7</td>\n",
              "    </tr>\n",
              "    <tr>\n",
              "      <th>8</th>\n",
              "      <td>NAIROBI WEST</td>\n",
              "      <td>Urban</td>\n",
              "      <td>8</td>\n",
              "      <td>6171</td>\n",
              "      <td>6489</td>\n",
              "      <td>12660</td>\n",
              "      <td>Nairobi</td>\n",
              "      <td>NAIROBI</td>\n",
              "      <td>8</td>\n",
              "    </tr>\n",
              "    <tr>\n",
              "      <th>9</th>\n",
              "      <td>NAIROBI WEST</td>\n",
              "      <td>Urban</td>\n",
              "      <td>9</td>\n",
              "      <td>6361</td>\n",
              "      <td>6662</td>\n",
              "      <td>13023</td>\n",
              "      <td>Nairobi</td>\n",
              "      <td>NAIROBI</td>\n",
              "      <td>9</td>\n",
              "    </tr>\n",
              "  </tbody>\n",
              "</table>\n",
              "</div>"
            ],
            "text/plain": [
              "       District Urban/Rural Age_years   Male  ...  Total   County Province OBJECTID\n",
              "0  NAIROBI WEST       Urban         0  10126  ...  20242  Nairobi  NAIROBI        0\n",
              "1  NAIROBI WEST       Urban         1   8124  ...  16113  Nairobi  NAIROBI        1\n",
              "2  NAIROBI WEST       Urban         2   8462  ...  17089  Nairobi  NAIROBI        2\n",
              "3  NAIROBI WEST       Urban         3   8334  ...  16754  Nairobi  NAIROBI        3\n",
              "4  NAIROBI WEST       Urban         4   7948  ...  15768  Nairobi  NAIROBI        4\n",
              "5  NAIROBI WEST       Urban         5   7547  ...  15207  Nairobi  NAIROBI        5\n",
              "6  NAIROBI WEST       Urban         6   6966  ...  14048  Nairobi  NAIROBI        6\n",
              "7  NAIROBI WEST       Urban         7   6511  ...  13185  Nairobi  NAIROBI        7\n",
              "8  NAIROBI WEST       Urban         8   6171  ...  12660  Nairobi  NAIROBI        8\n",
              "9  NAIROBI WEST       Urban         9   6361  ...  13023  Nairobi  NAIROBI        9\n",
              "\n",
              "[10 rows x 9 columns]"
            ]
          },
          "metadata": {
            "tags": []
          },
          "execution_count": 3
        }
      ]
    },
    {
      "cell_type": "markdown",
      "metadata": {
        "id": "RAVzK5O6IR8v"
      },
      "source": [
        "## 1.3 Accessing Information about our Dataset"
      ]
    },
    {
      "cell_type": "code",
      "metadata": {
        "id": "0d2kfemDIYWI"
      },
      "source": [
        "# We can getting to know more about the dataset by accessing its information \n",
        "#\n"
      ],
      "execution_count": null,
      "outputs": []
    },
    {
      "cell_type": "markdown",
      "metadata": {
        "id": "NicC8P9LMjvO"
      },
      "source": [
        "## 1.4 Answering Questions"
      ]
    },
    {
      "cell_type": "markdown",
      "metadata": {
        "id": "8izhaW7UNYGJ"
      },
      "source": [
        "Let's answer the following questions with our dataset"
      ]
    },
    {
      "cell_type": "code",
      "metadata": {
        "id": "tTOgnXvuMxcn",
        "colab": {
          "base_uri": "https://localhost:8080/"
        },
        "outputId": "552f0c4d-66ad-4aa7-b231-e3f35fcbaa00"
      },
      "source": [
        "# Challenge 1\n",
        "# What was the average age of a person of Kenya?\n",
        "from sklearn.preprocessing import LabelEncoder\n",
        "label_encoder = LabelEncoder()\n",
        "label_encoder.fit(df['Age_years'])\n",
        "df['Age_years'] = label_encoder.transform(df['Age_years'])\n",
        "df['Age_years'].mean()"
      ],
      "execution_count": null,
      "outputs": [
        {
          "output_type": "execute_result",
          "data": {
            "text/plain": [
              "40.5"
            ]
          },
          "metadata": {
            "tags": []
          },
          "execution_count": 5
        }
      ]
    },
    {
      "cell_type": "code",
      "metadata": {
        "id": "BNegesaWNvQs",
        "colab": {
          "base_uri": "https://localhost:8080/"
        },
        "outputId": "bc64bc96-857a-459d-aa63-b35247752929"
      },
      "source": [
        "# Challenge 2\n",
        "# What was the average female population in Kenya?\n",
        "#\n",
        "df['Female'].mean()"
      ],
      "execution_count": null,
      "outputs": [
        {
          "output_type": "execute_result",
          "data": {
            "text/plain": [
              "763.8725019669552"
            ]
          },
          "metadata": {
            "tags": []
          },
          "execution_count": 6
        }
      ]
    },
    {
      "cell_type": "code",
      "metadata": {
        "id": "7tilTerhNyiP",
        "colab": {
          "base_uri": "https://localhost:8080/"
        },
        "outputId": "96c86f91-e623-4fa6-c2ed-68db48953e9e"
      },
      "source": [
        "# Challenge 3\n",
        "# What was the average male population in Kenya?\n",
        "#\n",
        "df['Male'].mean()"
      ],
      "execution_count": null,
      "outputs": [
        {
          "output_type": "execute_result",
          "data": {
            "text/plain": [
              "755.0140833988985"
            ]
          },
          "metadata": {
            "tags": []
          },
          "execution_count": 7
        }
      ]
    },
    {
      "cell_type": "code",
      "metadata": {
        "id": "OemJ0HDYOHCq",
        "colab": {
          "base_uri": "https://localhost:8080/",
          "height": 223
        },
        "outputId": "29881bbe-8257-4608-c726-ad90929b96e7"
      },
      "source": [
        "# Challenge 4\n",
        "# Which 5 districts were the most densely populated Kenya in descending order?\n",
        "df1 =df.groupby(['District']).sum().sort_values('Total', ascending = False)\n",
        "df1.head(5)"
      ],
      "execution_count": null,
      "outputs": [
        {
          "output_type": "execute_result",
          "data": {
            "text/html": [
              "<div>\n",
              "<style scoped>\n",
              "    .dataframe tbody tr th:only-of-type {\n",
              "        vertical-align: middle;\n",
              "    }\n",
              "\n",
              "    .dataframe tbody tr th {\n",
              "        vertical-align: top;\n",
              "    }\n",
              "\n",
              "    .dataframe thead th {\n",
              "        text-align: right;\n",
              "    }\n",
              "</style>\n",
              "<table border=\"1\" class=\"dataframe\">\n",
              "  <thead>\n",
              "    <tr style=\"text-align: right;\">\n",
              "      <th></th>\n",
              "      <th>Age_years</th>\n",
              "      <th>Male</th>\n",
              "      <th>Female</th>\n",
              "      <th>Total</th>\n",
              "      <th>OBJECTID</th>\n",
              "    </tr>\n",
              "    <tr>\n",
              "      <th>District</th>\n",
              "      <th></th>\n",
              "      <th></th>\n",
              "      <th></th>\n",
              "      <th></th>\n",
              "      <th></th>\n",
              "    </tr>\n",
              "  </thead>\n",
              "  <tbody>\n",
              "    <tr>\n",
              "      <th>NAIROBI EAST</th>\n",
              "      <td>3321</td>\n",
              "      <td>582554</td>\n",
              "      <td>561862</td>\n",
              "      <td>1144416</td>\n",
              "      <td>10045</td>\n",
              "    </tr>\n",
              "    <tr>\n",
              "      <th>NAIROBI NORTH</th>\n",
              "      <td>3321</td>\n",
              "      <td>545701</td>\n",
              "      <td>516385</td>\n",
              "      <td>1062086</td>\n",
              "      <td>16769</td>\n",
              "    </tr>\n",
              "    <tr>\n",
              "      <th>NAIROBI WEST</th>\n",
              "      <td>3321</td>\n",
              "      <td>352227</td>\n",
              "      <td>332538</td>\n",
              "      <td>684765</td>\n",
              "      <td>3321</td>\n",
              "    </tr>\n",
              "    <tr>\n",
              "      <th>SIAYA</th>\n",
              "      <td>6642</td>\n",
              "      <td>257711</td>\n",
              "      <td>292513</td>\n",
              "      <td>550224</td>\n",
              "      <td>2009943</td>\n",
              "    </tr>\n",
              "    <tr>\n",
              "      <th>MOLO</th>\n",
              "      <td>6642</td>\n",
              "      <td>271954</td>\n",
              "      <td>270149</td>\n",
              "      <td>542103</td>\n",
              "      <td>2723138</td>\n",
              "    </tr>\n",
              "  </tbody>\n",
              "</table>\n",
              "</div>"
            ],
            "text/plain": [
              "               Age_years    Male  Female    Total  OBJECTID\n",
              "District                                                   \n",
              "NAIROBI EAST        3321  582554  561862  1144416     10045\n",
              "NAIROBI NORTH       3321  545701  516385  1062086     16769\n",
              "NAIROBI WEST        3321  352227  332538   684765      3321\n",
              "SIAYA               6642  257711  292513   550224   2009943\n",
              "MOLO                6642  271954  270149   542103   2723138"
            ]
          },
          "metadata": {
            "tags": []
          },
          "execution_count": 8
        }
      ]
    },
    {
      "cell_type": "code",
      "metadata": {
        "id": "CIxC5arSOLak",
        "colab": {
          "base_uri": "https://localhost:8080/",
          "height": 223
        },
        "outputId": "bf636b87-23c3-4ce8-a5f3-edbf2e47e6db"
      },
      "source": [
        "# Challenge 5\n",
        "# Which 5 counties were the most densely populated Counties in descending order?\n",
        "df2 = df.groupby (['County']).sum().sort_values('Total', ascending= False)\n",
        "df2.head(5)\n"
      ],
      "execution_count": null,
      "outputs": [
        {
          "output_type": "execute_result",
          "data": {
            "text/html": [
              "<div>\n",
              "<style scoped>\n",
              "    .dataframe tbody tr th:only-of-type {\n",
              "        vertical-align: middle;\n",
              "    }\n",
              "\n",
              "    .dataframe tbody tr th {\n",
              "        vertical-align: top;\n",
              "    }\n",
              "\n",
              "    .dataframe thead th {\n",
              "        text-align: right;\n",
              "    }\n",
              "</style>\n",
              "<table border=\"1\" class=\"dataframe\">\n",
              "  <thead>\n",
              "    <tr style=\"text-align: right;\">\n",
              "      <th></th>\n",
              "      <th>Age_years</th>\n",
              "      <th>Male</th>\n",
              "      <th>Female</th>\n",
              "      <th>Total</th>\n",
              "      <th>OBJECTID</th>\n",
              "    </tr>\n",
              "    <tr>\n",
              "      <th>County</th>\n",
              "      <th></th>\n",
              "      <th></th>\n",
              "      <th></th>\n",
              "      <th></th>\n",
              "      <th></th>\n",
              "    </tr>\n",
              "  </thead>\n",
              "  <tbody>\n",
              "    <tr>\n",
              "      <th>Nairobi</th>\n",
              "      <td>13284</td>\n",
              "      <td>1605230</td>\n",
              "      <td>1533139</td>\n",
              "      <td>3138369</td>\n",
              "      <td>53628</td>\n",
              "    </tr>\n",
              "    <tr>\n",
              "      <th>Kiambu</th>\n",
              "      <td>59778</td>\n",
              "      <td>827800</td>\n",
              "      <td>845985</td>\n",
              "      <td>1673785</td>\n",
              "      <td>11208021</td>\n",
              "    </tr>\n",
              "    <tr>\n",
              "      <th>Kakamega</th>\n",
              "      <td>46494</td>\n",
              "      <td>800989</td>\n",
              "      <td>859662</td>\n",
              "      <td>1660651</td>\n",
              "      <td>20554694</td>\n",
              "    </tr>\n",
              "    <tr>\n",
              "      <th>Nakuru</th>\n",
              "      <td>26568</td>\n",
              "      <td>804582</td>\n",
              "      <td>798743</td>\n",
              "      <td>1603325</td>\n",
              "      <td>10811864</td>\n",
              "    </tr>\n",
              "    <tr>\n",
              "      <th>Meru</th>\n",
              "      <td>46494</td>\n",
              "      <td>786220</td>\n",
              "      <td>805313</td>\n",
              "      <td>1591533</td>\n",
              "      <td>11248678</td>\n",
              "    </tr>\n",
              "  </tbody>\n",
              "</table>\n",
              "</div>"
            ],
            "text/plain": [
              "          Age_years     Male   Female    Total  OBJECTID\n",
              "County                                                  \n",
              "Nairobi       13284  1605230  1533139  3138369     53628\n",
              "Kiambu        59778   827800   845985  1673785  11208021\n",
              "Kakamega      46494   800989   859662  1660651  20554694\n",
              "Nakuru        26568   804582   798743  1603325  10811864\n",
              "Meru          46494   786220   805313  1591533  11248678"
            ]
          },
          "metadata": {
            "tags": []
          },
          "execution_count": 9
        }
      ]
    },
    {
      "cell_type": "code",
      "metadata": {
        "id": "gSjjnw56OP8O",
        "colab": {
          "base_uri": "https://localhost:8080/",
          "height": 223
        },
        "outputId": "706337f6-14fd-4a05-f8fb-83dfb63812ad"
      },
      "source": [
        "# Challenge 6\n",
        "# Which 5 districts were the most sparsely populated in descending order?\n",
        "# \n",
        "dfdist = df.groupby(['District']).sum().sort_values('Total', ascending= True,)\n",
        "dfdist.head(5)"
      ],
      "execution_count": null,
      "outputs": [
        {
          "output_type": "execute_result",
          "data": {
            "text/html": [
              "<div>\n",
              "<style scoped>\n",
              "    .dataframe tbody tr th:only-of-type {\n",
              "        vertical-align: middle;\n",
              "    }\n",
              "\n",
              "    .dataframe tbody tr th {\n",
              "        vertical-align: top;\n",
              "    }\n",
              "\n",
              "    .dataframe thead th {\n",
              "        text-align: right;\n",
              "    }\n",
              "</style>\n",
              "<table border=\"1\" class=\"dataframe\">\n",
              "  <thead>\n",
              "    <tr style=\"text-align: right;\">\n",
              "      <th></th>\n",
              "      <th>Age_years</th>\n",
              "      <th>Male</th>\n",
              "      <th>Female</th>\n",
              "      <th>Total</th>\n",
              "      <th>OBJECTID</th>\n",
              "    </tr>\n",
              "    <tr>\n",
              "      <th>District</th>\n",
              "      <th></th>\n",
              "      <th></th>\n",
              "      <th></th>\n",
              "      <th></th>\n",
              "      <th></th>\n",
              "    </tr>\n",
              "  </thead>\n",
              "  <tbody>\n",
              "    <tr>\n",
              "      <th>LAIKIPIA NORTH</th>\n",
              "      <td>6642</td>\n",
              "      <td>16928</td>\n",
              "      <td>15834</td>\n",
              "      <td>32762</td>\n",
              "      <td>2642450</td>\n",
              "    </tr>\n",
              "    <tr>\n",
              "      <th>GARBATULLA</th>\n",
              "      <td>6642</td>\n",
              "      <td>23314</td>\n",
              "      <td>19804</td>\n",
              "      <td>43118</td>\n",
              "      <td>1553162</td>\n",
              "    </tr>\n",
              "    <tr>\n",
              "      <th>MARSABIT</th>\n",
              "      <td>6642</td>\n",
              "      <td>23305</td>\n",
              "      <td>23197</td>\n",
              "      <td>46502</td>\n",
              "      <td>1485922</td>\n",
              "    </tr>\n",
              "    <tr>\n",
              "      <th>SAMBURU EAST</th>\n",
              "      <td>6642</td>\n",
              "      <td>29011</td>\n",
              "      <td>30083</td>\n",
              "      <td>59094</td>\n",
              "      <td>2386938</td>\n",
              "    </tr>\n",
              "    <tr>\n",
              "      <th>SAMBURU NORTH</th>\n",
              "      <td>6642</td>\n",
              "      <td>31471</td>\n",
              "      <td>28330</td>\n",
              "      <td>59801</td>\n",
              "      <td>2400386</td>\n",
              "    </tr>\n",
              "  </tbody>\n",
              "</table>\n",
              "</div>"
            ],
            "text/plain": [
              "                Age_years   Male  Female  Total  OBJECTID\n",
              "District                                                 \n",
              "LAIKIPIA NORTH       6642  16928   15834  32762   2642450\n",
              "GARBATULLA           6642  23314   19804  43118   1553162\n",
              "MARSABIT             6642  23305   23197  46502   1485922\n",
              "SAMBURU EAST         6642  29011   30083  59094   2386938\n",
              "SAMBURU NORTH        6642  31471   28330  59801   2400386"
            ]
          },
          "metadata": {
            "tags": []
          },
          "execution_count": 10
        }
      ]
    },
    {
      "cell_type": "code",
      "metadata": {
        "id": "UZLYqF7UOTtu",
        "colab": {
          "base_uri": "https://localhost:8080/",
          "height": 106
        },
        "outputId": "b7fe3a87-b602-4e83-98e1-56a1451d59de"
      },
      "source": [
        "# Challenge 7\n",
        "# What was the average population of the the most densely populated county in Kenya?\n",
        "# \n",
        "df3 = df[df['County'] == 'Nairobi']\n",
        "df3.groupby(['County']).mean()"
      ],
      "execution_count": null,
      "outputs": [
        {
          "output_type": "execute_result",
          "data": {
            "text/html": [
              "<div>\n",
              "<style scoped>\n",
              "    .dataframe tbody tr th:only-of-type {\n",
              "        vertical-align: middle;\n",
              "    }\n",
              "\n",
              "    .dataframe tbody tr th {\n",
              "        vertical-align: top;\n",
              "    }\n",
              "\n",
              "    .dataframe thead th {\n",
              "        text-align: right;\n",
              "    }\n",
              "</style>\n",
              "<table border=\"1\" class=\"dataframe\">\n",
              "  <thead>\n",
              "    <tr style=\"text-align: right;\">\n",
              "      <th></th>\n",
              "      <th>Age_years</th>\n",
              "      <th>Male</th>\n",
              "      <th>Female</th>\n",
              "      <th>Total</th>\n",
              "      <th>OBJECTID</th>\n",
              "    </tr>\n",
              "    <tr>\n",
              "      <th>County</th>\n",
              "      <th></th>\n",
              "      <th></th>\n",
              "      <th></th>\n",
              "      <th></th>\n",
              "      <th></th>\n",
              "    </tr>\n",
              "  </thead>\n",
              "  <tbody>\n",
              "    <tr>\n",
              "      <th>Nairobi</th>\n",
              "      <td>40.5</td>\n",
              "      <td>4893.993902</td>\n",
              "      <td>4674.204268</td>\n",
              "      <td>9568.198171</td>\n",
              "      <td>163.5</td>\n",
              "    </tr>\n",
              "  </tbody>\n",
              "</table>\n",
              "</div>"
            ],
            "text/plain": [
              "         Age_years         Male       Female        Total  OBJECTID\n",
              "County                                                             \n",
              "Nairobi       40.5  4893.993902  4674.204268  9568.198171     163.5"
            ]
          },
          "metadata": {
            "tags": []
          },
          "execution_count": 11
        }
      ]
    },
    {
      "cell_type": "code",
      "metadata": {
        "id": "1qk8wF3MOXDu",
        "colab": {
          "base_uri": "https://localhost:8080/",
          "height": 106
        },
        "outputId": "0bad2cc5-15ac-4f70-a7a4-5a552bb10359"
      },
      "source": [
        "# Challenge 8\n",
        "# What was the average population of the the most sparsely populated county in Kenya?\n",
        "# \n",
        "df_county = df.groupby(['County']).sum().sort_values('Total', ascending= True,)\n",
        "df_county.head(5)\n",
        "df_county1 = df[df['County'] == 'Lamu']\n",
        "df_county1.groupby(['County']).mean()"
      ],
      "execution_count": null,
      "outputs": [
        {
          "output_type": "execute_result",
          "data": {
            "text/html": [
              "<div>\n",
              "<style scoped>\n",
              "    .dataframe tbody tr th:only-of-type {\n",
              "        vertical-align: middle;\n",
              "    }\n",
              "\n",
              "    .dataframe tbody tr th {\n",
              "        vertical-align: top;\n",
              "    }\n",
              "\n",
              "    .dataframe thead th {\n",
              "        text-align: right;\n",
              "    }\n",
              "</style>\n",
              "<table border=\"1\" class=\"dataframe\">\n",
              "  <thead>\n",
              "    <tr style=\"text-align: right;\">\n",
              "      <th></th>\n",
              "      <th>Age_years</th>\n",
              "      <th>Male</th>\n",
              "      <th>Female</th>\n",
              "      <th>Total</th>\n",
              "      <th>OBJECTID</th>\n",
              "    </tr>\n",
              "    <tr>\n",
              "      <th>County</th>\n",
              "      <th></th>\n",
              "      <th></th>\n",
              "      <th></th>\n",
              "      <th></th>\n",
              "      <th></th>\n",
              "    </tr>\n",
              "  </thead>\n",
              "  <tbody>\n",
              "    <tr>\n",
              "      <th>Lamu</th>\n",
              "      <td>40.5</td>\n",
              "      <td>323.445122</td>\n",
              "      <td>295.695122</td>\n",
              "      <td>619.140244</td>\n",
              "      <td>8814.5</td>\n",
              "    </tr>\n",
              "  </tbody>\n",
              "</table>\n",
              "</div>"
            ],
            "text/plain": [
              "        Age_years        Male      Female       Total  OBJECTID\n",
              "County                                                         \n",
              "Lamu         40.5  323.445122  295.695122  619.140244    8814.5"
            ]
          },
          "metadata": {
            "tags": []
          },
          "execution_count": 12
        }
      ]
    },
    {
      "cell_type": "code",
      "metadata": {
        "id": "1V21Beok3Rdc",
        "colab": {
          "base_uri": "https://localhost:8080/"
        },
        "outputId": "51de4516-9c5e-47cc-d7b0-2a533be62f44"
      },
      "source": [
        "# Challenge 9\n",
        "# What was the total population of Busia County? \n",
        "# \n",
        "pop_Busia = df[df[\"County\"] == \"Busia\"]\n",
        "pop_Busia.groupby([\"County\"])['Total'].sum()"
      ],
      "execution_count": null,
      "outputs": [
        {
          "output_type": "execute_result",
          "data": {
            "text/plain": [
              "County\n",
              "Busia    743946\n",
              "Name: Total, dtype: int64"
            ]
          },
          "metadata": {
            "tags": []
          },
          "execution_count": 13
        }
      ]
    },
    {
      "cell_type": "code",
      "metadata": {
        "id": "Vtq7pAI73RTZ",
        "colab": {
          "base_uri": "https://localhost:8080/"
        },
        "outputId": "68e4f15e-c3b9-4982-ec0c-d39081a36d7d"
      },
      "source": [
        "# Challenge 10\n",
        "# What was the average age of person in Busia County? How many people of this age were in Busia County?\n",
        "# \n",
        "pop_Busia = df[df['County'] == 'Busia']\n",
        "pop_Busia.groupby(['County'])['Age_years'].mean()\n"
      ],
      "execution_count": null,
      "outputs": [
        {
          "output_type": "execute_result",
          "data": {
            "text/plain": [
              "County\n",
              "Busia    40.5\n",
              "Name: Age_years, dtype: float64"
            ]
          },
          "metadata": {
            "tags": []
          },
          "execution_count": 14
        }
      ]
    },
    {
      "cell_type": "code",
      "metadata": {
        "id": "8xkStdjdXS3w",
        "colab": {
          "base_uri": "https://localhost:8080/"
        },
        "outputId": "c6f6d021-7124-4e64-e42e-cee3fca4c427"
      },
      "source": [
        "# Challenge 11\n",
        "# What was the Total population of Teso South District?\n",
        "# \n",
        "pop_Teso =df[df['District'] =='TESO SOUTH']\n",
        "pop_Teso.groupby(['District'])['Total'].sum()"
      ],
      "execution_count": null,
      "outputs": [
        {
          "output_type": "execute_result",
          "data": {
            "text/plain": [
              "District\n",
              "TESO SOUTH    137924\n",
              "Name: Total, dtype: int64"
            ]
          },
          "metadata": {
            "tags": []
          },
          "execution_count": 15
        }
      ]
    },
    {
      "cell_type": "code",
      "metadata": {
        "id": "rgVsXH_5XVCh",
        "colab": {
          "base_uri": "https://localhost:8080/"
        },
        "outputId": "0668e8d8-4e3f-49dc-b819-fe391fc37e2f"
      },
      "source": [
        "# Challenge 12\n",
        "# What was the urban population of Teso South District?\n",
        "# \n",
        "upop_Teso1 =df[(df['District'] =='TESO SOUTH') & (df['Urban/Rural'] == 'Urban')]\n",
        "upop_Teso1['Total'].sum()\n"
      ],
      "execution_count": null,
      "outputs": [
        {
          "output_type": "execute_result",
          "data": {
            "text/plain": [
              "26162"
            ]
          },
          "metadata": {
            "tags": []
          },
          "execution_count": 16
        }
      ]
    },
    {
      "cell_type": "code",
      "metadata": {
        "id": "XvvFWhuDXXeP",
        "colab": {
          "base_uri": "https://localhost:8080/"
        },
        "outputId": "aac226bb-d053-4048-90b6-b13ac8f44b24"
      },
      "source": [
        "# Challenge 13\n",
        "# What was the rural population of Teso South District?\n",
        "# \n",
        "rpop_Teso = df[(df['District'] == 'TESO SOUTH') & (df['Urban/Rural'] == 'Rural')]\n",
        "rpop_Teso['Total'].sum()"
      ],
      "execution_count": null,
      "outputs": [
        {
          "output_type": "execute_result",
          "data": {
            "text/plain": [
              "111762"
            ]
          },
          "metadata": {
            "tags": []
          },
          "execution_count": 17
        }
      ]
    },
    {
      "cell_type": "code",
      "metadata": {
        "id": "q1iq02FuXc2R",
        "colab": {
          "base_uri": "https://localhost:8080/"
        },
        "outputId": "0dab0193-1091-4d15-f104-fc407c45c640"
      },
      "source": [
        "# Challenge 14\n",
        "# What was the population of people aged 60 and above in Kenya?\n",
        "#\n",
        "popu_age = df[df[\"Age_years\"] >= 60]\n",
        "popu_age[\"Total\"].sum()"
      ],
      "execution_count": null,
      "outputs": [
        {
          "output_type": "execute_result",
          "data": {
            "text/plain": [
              "4770344"
            ]
          },
          "metadata": {
            "tags": []
          },
          "execution_count": 24
        }
      ]
    },
    {
      "cell_type": "code",
      "metadata": {
        "id": "drAWpxBZXhcF",
        "colab": {
          "base_uri": "https://localhost:8080/"
        },
        "outputId": "de4a87b6-b81f-4e37-ec7d-7c11ee72291a"
      },
      "source": [
        "# Challenge 15 \n",
        "# What was the urban population in Kenya?\n",
        "pop_urban = df[df[\"Urban/Rural\"] == \"Urban\"]\n",
        "pop_urban.groupby([\"Urban/Rural\"])['Total'].sum()"
      ],
      "execution_count": null,
      "outputs": [
        {
          "output_type": "execute_result",
          "data": {
            "text/plain": [
              "Urban/Rural\n",
              "Urban    12487375\n",
              "Name: Total, dtype: int64"
            ]
          },
          "metadata": {
            "tags": []
          },
          "execution_count": 19
        }
      ]
    }
  ]
}