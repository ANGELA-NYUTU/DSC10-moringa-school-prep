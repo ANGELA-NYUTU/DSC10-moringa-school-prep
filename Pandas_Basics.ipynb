{
  "nbformat": 4,
  "nbformat_minor": 0,
  "metadata": {
    "colab": {
      "name": "Pandas Basics",
      "provenance": [],
      "collapsed_sections": [
        "I6tAKZoawCFA"
      ],
      "toc_visible": true,
      "include_colab_link": true
    },
    "kernelspec": {
      "name": "python3",
      "display_name": "Python 3"
    }
  },
  "cells": [
    {
      "cell_type": "markdown",
      "metadata": {
        "id": "view-in-github",
        "colab_type": "text"
      },
      "source": [
        "<a href=\"https://colab.research.google.com/github/ANGELA-NYUTU/DSC10-moringa-school-prep/blob/main/Pandas_Basics.ipynb\" target=\"_parent\"><img src=\"https://colab.research.google.com/assets/colab-badge.svg\" alt=\"Open In Colab\"/></a>"
      ]
    },
    {
      "cell_type": "markdown",
      "metadata": {
        "id": "W-53UhRAZyXH"
      },
      "source": [
        "<font color=\"green\">*To start working on this notebook, or any other notebook that we will use in the Moringa Data Science Course, we will need to save our own copy of it. We can do this by clicking File > Save a Copy in Drive. We will then be able to make edits to our own copy of this notebook.*</font>"
      ]
    },
    {
      "cell_type": "markdown",
      "metadata": {
        "id": "3R0yiLUspE2N"
      },
      "source": [
        "# Pandas Basics"
      ]
    },
    {
      "cell_type": "markdown",
      "metadata": {
        "id": "6iyeqDIjpHtR"
      },
      "source": [
        "## 1.0 Importing Pandas Library"
      ]
    },
    {
      "cell_type": "code",
      "metadata": {
        "id": "9AqzdpMxpG7O"
      },
      "source": [
        "# Let's import the pandas library just like we did with Numpy\n",
        "# \n",
        "import pandas as pd"
      ],
      "execution_count": null,
      "outputs": []
    },
    {
      "cell_type": "markdown",
      "metadata": {
        "id": "sEswzBaTpTM9"
      },
      "source": [
        "## 1.1 Performing Basic Operations"
      ]
    },
    {
      "cell_type": "code",
      "metadata": {
        "id": "l0XpP3jnhsiH",
        "colab": {
          "base_uri": "https://localhost:8080/",
          "height": 110
        },
        "outputId": "c725dee3-fd6d-444e-b69a-03063604c2ae"
      },
      "source": [
        "# Example 1\n",
        "# Pandas is built on the NUmpy package.\n",
        "# It's main data structure is called DataFrame. \n",
        "#Dataframes allows us to store and manipulate data in row and column observations\n",
        "\n",
        "\n",
        "# In this section, we will cover some of the basic operations \n",
        "# that we perform while using pandas.\n",
        "# The first thing we will do is to create a Dataframe from a dictionary as shown below;\n",
        "# Think of a Dataframe as a table. By definition, a DataFrame is a 2-dimensional labeled data structure \n",
        "# with columns of potentially different types.\n",
        "# \n",
        "data = [{'name': 'vikash', 'age': 27}, {'name': 'Satyam', 'age': 14}]\n",
        "df = pd.DataFrame.from_dict(data, orient='columns')\n",
        "df\n",
        "\n",
        "# Something to note in the results is that everytime you create a dataframe it will automatically assign indexes to the row. "
      ],
      "execution_count": null,
      "outputs": [
        {
          "output_type": "execute_result",
          "data": {
            "text/html": [
              "<div>\n",
              "<style scoped>\n",
              "    .dataframe tbody tr th:only-of-type {\n",
              "        vertical-align: middle;\n",
              "    }\n",
              "\n",
              "    .dataframe tbody tr th {\n",
              "        vertical-align: top;\n",
              "    }\n",
              "\n",
              "    .dataframe thead th {\n",
              "        text-align: right;\n",
              "    }\n",
              "</style>\n",
              "<table border=\"1\" class=\"dataframe\">\n",
              "  <thead>\n",
              "    <tr style=\"text-align: right;\">\n",
              "      <th></th>\n",
              "      <th>name</th>\n",
              "      <th>age</th>\n",
              "    </tr>\n",
              "  </thead>\n",
              "  <tbody>\n",
              "    <tr>\n",
              "      <th>0</th>\n",
              "      <td>vikash</td>\n",
              "      <td>27</td>\n",
              "    </tr>\n",
              "    <tr>\n",
              "      <th>1</th>\n",
              "      <td>Satyam</td>\n",
              "      <td>14</td>\n",
              "    </tr>\n",
              "  </tbody>\n",
              "</table>\n",
              "</div>"
            ],
            "text/plain": [
              "     name  age\n",
              "0  vikash   27\n",
              "1  Satyam   14"
            ]
          },
          "metadata": {
            "tags": []
          },
          "execution_count": 5
        }
      ]
    },
    {
      "cell_type": "code",
      "metadata": {
        "id": "jzzwtEI6vUTy",
        "colab": {
          "base_uri": "https://localhost:8080/",
          "height": 257
        },
        "outputId": "988e7eb3-9a7d-4b92-e04f-868b3e48016f"
      },
      "source": [
        "# Example 2\n",
        "# We can also create a Dataframe by inserting rows iteratively\n",
        "# \n",
        "\n",
        "# For this example, we will use the randint() function \n",
        "# thus we will need to import it\n",
        "from random import randint\n",
        "\n",
        "# We will also need to declare the columns that we will need \n",
        "columns = ['a', 'b', 'c']\n",
        "\n",
        "# Then creating our dataframe\n",
        "df = pd.DataFrame(columns=columns)\n",
        "\n",
        "# lastly append random values to the dataframe iteratively using a for loop.\n",
        "# We are going to use two for loops. the first one will be for the number of rows and the second one will be for the number of columns.\n",
        "# In the outer loop, we will create a range of number from 0-5, then iterate through it. This means that we will have 6 rows\n",
        "# We'll explain the logic of this code from the inside out. \n",
        "# So inside the inner loop, we  aim to populate our dataframe with random integers that are between -1 and 1.\n",
        "# Hence everytime we generate out random number, we use pandas dataframe method called loc[] to insert the random number in either of the three columns\n",
        "# The .loc method works in the same way slicing works in python list. \n",
        "#This means that it can be used to access elements inside a dataframe. \n",
        "#As such, we can also use it to update elements in a dataframe. When we created the  empty dataframe earlier, it meant that the elements were null. So in our code we are simply updating the null elements with values.\n",
        "# The logic for this code can be alittle bit confusing at first, \n",
        "#so spend a little bit of time with your pair trying understand how the code works as it will help you alot in the future.\n",
        "for i in range(7): #6 rows\n",
        "    for c in columns:\n",
        "      df.loc[i,c] = randint(-1,1)\n",
        "  \n",
        "# and printing out the dataframe\n",
        "df\n"
      ],
      "execution_count": null,
      "outputs": [
        {
          "output_type": "execute_result",
          "data": {
            "text/html": [
              "<div>\n",
              "<style scoped>\n",
              "    .dataframe tbody tr th:only-of-type {\n",
              "        vertical-align: middle;\n",
              "    }\n",
              "\n",
              "    .dataframe tbody tr th {\n",
              "        vertical-align: top;\n",
              "    }\n",
              "\n",
              "    .dataframe thead th {\n",
              "        text-align: right;\n",
              "    }\n",
              "</style>\n",
              "<table border=\"1\" class=\"dataframe\">\n",
              "  <thead>\n",
              "    <tr style=\"text-align: right;\">\n",
              "      <th></th>\n",
              "      <th>a</th>\n",
              "      <th>b</th>\n",
              "      <th>c</th>\n",
              "    </tr>\n",
              "  </thead>\n",
              "  <tbody>\n",
              "    <tr>\n",
              "      <th>0</th>\n",
              "      <td>0</td>\n",
              "      <td>1</td>\n",
              "      <td>0</td>\n",
              "    </tr>\n",
              "    <tr>\n",
              "      <th>1</th>\n",
              "      <td>0</td>\n",
              "      <td>1</td>\n",
              "      <td>1</td>\n",
              "    </tr>\n",
              "    <tr>\n",
              "      <th>2</th>\n",
              "      <td>-1</td>\n",
              "      <td>-1</td>\n",
              "      <td>-1</td>\n",
              "    </tr>\n",
              "    <tr>\n",
              "      <th>3</th>\n",
              "      <td>1</td>\n",
              "      <td>0</td>\n",
              "      <td>-1</td>\n",
              "    </tr>\n",
              "    <tr>\n",
              "      <th>4</th>\n",
              "      <td>1</td>\n",
              "      <td>-1</td>\n",
              "      <td>0</td>\n",
              "    </tr>\n",
              "    <tr>\n",
              "      <th>5</th>\n",
              "      <td>0</td>\n",
              "      <td>-1</td>\n",
              "      <td>-1</td>\n",
              "    </tr>\n",
              "    <tr>\n",
              "      <th>6</th>\n",
              "      <td>-1</td>\n",
              "      <td>-1</td>\n",
              "      <td>-1</td>\n",
              "    </tr>\n",
              "  </tbody>\n",
              "</table>\n",
              "</div>"
            ],
            "text/plain": [
              "    a   b   c\n",
              "0   0   1   0\n",
              "1   0   1   1\n",
              "2  -1  -1  -1\n",
              "3   1   0  -1\n",
              "4   1  -1   0\n",
              "5   0  -1  -1\n",
              "6  -1  -1  -1"
            ]
          },
          "metadata": {
            "tags": []
          },
          "execution_count": 6
        }
      ]
    },
    {
      "cell_type": "code",
      "metadata": {
        "id": "tLCi0J4fvULQ",
        "colab": {
          "base_uri": "https://localhost:8080/",
          "height": 197
        },
        "outputId": "7f8df750-88bd-4e58-b0ad-7ed27f74d7cb"
      },
      "source": [
        "# Example 3\n",
        "# Creating a Dataframe with randomly generated data\n",
        "# \n",
        "\n",
        "# We will import and use numpy in this example\n",
        "import numpy as np\n",
        "\n",
        "a = np.random.randint(0,5,size=(5, 4))\n",
        "\n",
        "a\n",
        "\n",
        "# Uncomment the following lines after running the previous lines \n",
        "df = pd.DataFrame(a, columns=list('ABCD'))\n",
        "df"
      ],
      "execution_count": null,
      "outputs": [
        {
          "output_type": "execute_result",
          "data": {
            "text/html": [
              "<div>\n",
              "<style scoped>\n",
              "    .dataframe tbody tr th:only-of-type {\n",
              "        vertical-align: middle;\n",
              "    }\n",
              "\n",
              "    .dataframe tbody tr th {\n",
              "        vertical-align: top;\n",
              "    }\n",
              "\n",
              "    .dataframe thead th {\n",
              "        text-align: right;\n",
              "    }\n",
              "</style>\n",
              "<table border=\"1\" class=\"dataframe\">\n",
              "  <thead>\n",
              "    <tr style=\"text-align: right;\">\n",
              "      <th></th>\n",
              "      <th>A</th>\n",
              "      <th>B</th>\n",
              "      <th>C</th>\n",
              "      <th>D</th>\n",
              "    </tr>\n",
              "  </thead>\n",
              "  <tbody>\n",
              "    <tr>\n",
              "      <th>0</th>\n",
              "      <td>1</td>\n",
              "      <td>4</td>\n",
              "      <td>1</td>\n",
              "      <td>0</td>\n",
              "    </tr>\n",
              "    <tr>\n",
              "      <th>1</th>\n",
              "      <td>2</td>\n",
              "      <td>0</td>\n",
              "      <td>4</td>\n",
              "      <td>4</td>\n",
              "    </tr>\n",
              "    <tr>\n",
              "      <th>2</th>\n",
              "      <td>1</td>\n",
              "      <td>1</td>\n",
              "      <td>1</td>\n",
              "      <td>3</td>\n",
              "    </tr>\n",
              "    <tr>\n",
              "      <th>3</th>\n",
              "      <td>4</td>\n",
              "      <td>4</td>\n",
              "      <td>1</td>\n",
              "      <td>4</td>\n",
              "    </tr>\n",
              "    <tr>\n",
              "      <th>4</th>\n",
              "      <td>4</td>\n",
              "      <td>0</td>\n",
              "      <td>4</td>\n",
              "      <td>0</td>\n",
              "    </tr>\n",
              "  </tbody>\n",
              "</table>\n",
              "</div>"
            ],
            "text/plain": [
              "   A  B  C  D\n",
              "0  1  4  1  0\n",
              "1  2  0  4  4\n",
              "2  1  1  1  3\n",
              "3  4  4  1  4\n",
              "4  4  0  4  0"
            ]
          },
          "metadata": {
            "tags": []
          },
          "execution_count": 11
        }
      ]
    },
    {
      "cell_type": "code",
      "metadata": {
        "id": "6KxhQ17_vUBV",
        "colab": {
          "base_uri": "https://localhost:8080/",
          "height": 407
        },
        "outputId": "6ad10c36-3781-4695-fb72-56d36b113808"
      },
      "source": [
        "# Example 4\n",
        "# Creating a Dataframe from a csv file \n",
        "# \n",
        "df = pd.read_csv('sample_data/california_housing_test.csv', delimiter = ',')\n",
        "df\n",
        "\n",
        "# Uncomment the following lines after running the previous lines\n",
        "df_url = \"https://raw.githubusercontent.com/cs109/2014_data/master/countries.csv\"\n",
        "df = pd.read_csv(df_url)\n",
        "df"
      ],
      "execution_count": null,
      "outputs": [
        {
          "output_type": "execute_result",
          "data": {
            "text/html": [
              "<div>\n",
              "<style scoped>\n",
              "    .dataframe tbody tr th:only-of-type {\n",
              "        vertical-align: middle;\n",
              "    }\n",
              "\n",
              "    .dataframe tbody tr th {\n",
              "        vertical-align: top;\n",
              "    }\n",
              "\n",
              "    .dataframe thead th {\n",
              "        text-align: right;\n",
              "    }\n",
              "</style>\n",
              "<table border=\"1\" class=\"dataframe\">\n",
              "  <thead>\n",
              "    <tr style=\"text-align: right;\">\n",
              "      <th></th>\n",
              "      <th>Country</th>\n",
              "      <th>Region</th>\n",
              "    </tr>\n",
              "  </thead>\n",
              "  <tbody>\n",
              "    <tr>\n",
              "      <th>0</th>\n",
              "      <td>Algeria</td>\n",
              "      <td>AFRICA</td>\n",
              "    </tr>\n",
              "    <tr>\n",
              "      <th>1</th>\n",
              "      <td>Angola</td>\n",
              "      <td>AFRICA</td>\n",
              "    </tr>\n",
              "    <tr>\n",
              "      <th>2</th>\n",
              "      <td>Benin</td>\n",
              "      <td>AFRICA</td>\n",
              "    </tr>\n",
              "    <tr>\n",
              "      <th>3</th>\n",
              "      <td>Botswana</td>\n",
              "      <td>AFRICA</td>\n",
              "    </tr>\n",
              "    <tr>\n",
              "      <th>4</th>\n",
              "      <td>Burkina</td>\n",
              "      <td>AFRICA</td>\n",
              "    </tr>\n",
              "    <tr>\n",
              "      <th>...</th>\n",
              "      <td>...</td>\n",
              "      <td>...</td>\n",
              "    </tr>\n",
              "    <tr>\n",
              "      <th>189</th>\n",
              "      <td>Paraguay</td>\n",
              "      <td>SOUTH AMERICA</td>\n",
              "    </tr>\n",
              "    <tr>\n",
              "      <th>190</th>\n",
              "      <td>Peru</td>\n",
              "      <td>SOUTH AMERICA</td>\n",
              "    </tr>\n",
              "    <tr>\n",
              "      <th>191</th>\n",
              "      <td>Suriname</td>\n",
              "      <td>SOUTH AMERICA</td>\n",
              "    </tr>\n",
              "    <tr>\n",
              "      <th>192</th>\n",
              "      <td>Uruguay</td>\n",
              "      <td>SOUTH AMERICA</td>\n",
              "    </tr>\n",
              "    <tr>\n",
              "      <th>193</th>\n",
              "      <td>Venezuela</td>\n",
              "      <td>SOUTH AMERICA</td>\n",
              "    </tr>\n",
              "  </tbody>\n",
              "</table>\n",
              "<p>194 rows × 2 columns</p>\n",
              "</div>"
            ],
            "text/plain": [
              "       Country         Region\n",
              "0      Algeria         AFRICA\n",
              "1       Angola         AFRICA\n",
              "2        Benin         AFRICA\n",
              "3     Botswana         AFRICA\n",
              "4      Burkina         AFRICA\n",
              "..         ...            ...\n",
              "189   Paraguay  SOUTH AMERICA\n",
              "190       Peru  SOUTH AMERICA\n",
              "191   Suriname  SOUTH AMERICA\n",
              "192    Uruguay  SOUTH AMERICA\n",
              "193  Venezuela  SOUTH AMERICA\n",
              "\n",
              "[194 rows x 2 columns]"
            ]
          },
          "metadata": {
            "tags": []
          },
          "execution_count": 15
        }
      ]
    },
    {
      "cell_type": "code",
      "metadata": {
        "id": "kbusPTsgvT5s",
        "colab": {
          "base_uri": "https://localhost:8080/",
          "height": 141
        },
        "outputId": "f852b82d-2c73-4243-da0e-dba5b20d361f"
      },
      "source": [
        "# Example 5\n",
        "# Changing Dataframe column names \n",
        "# \n",
        "df_list = [['AA', 1, 'a'],['BB', 2, 'a'],['CC', 3, 'a']]\n",
        "\n",
        "df = pd.DataFrame(df_list, columns = ['name','value','salue'])\n",
        "df\n",
        "\n",
        "# Uncomment the following lines after running this cell once\n",
        "df.columns.values[1:] = ['prefix_' + val for val in df.columns.values[1:]]\n",
        "df.columns.values\n",
        "df"
      ],
      "execution_count": null,
      "outputs": [
        {
          "output_type": "execute_result",
          "data": {
            "text/html": [
              "<div>\n",
              "<style scoped>\n",
              "    .dataframe tbody tr th:only-of-type {\n",
              "        vertical-align: middle;\n",
              "    }\n",
              "\n",
              "    .dataframe tbody tr th {\n",
              "        vertical-align: top;\n",
              "    }\n",
              "\n",
              "    .dataframe thead th {\n",
              "        text-align: right;\n",
              "    }\n",
              "</style>\n",
              "<table border=\"1\" class=\"dataframe\">\n",
              "  <thead>\n",
              "    <tr style=\"text-align: right;\">\n",
              "      <th></th>\n",
              "      <th>name</th>\n",
              "      <th>prefix_value</th>\n",
              "      <th>prefix_salue</th>\n",
              "    </tr>\n",
              "  </thead>\n",
              "  <tbody>\n",
              "    <tr>\n",
              "      <th>0</th>\n",
              "      <td>AA</td>\n",
              "      <td>1</td>\n",
              "      <td>a</td>\n",
              "    </tr>\n",
              "    <tr>\n",
              "      <th>1</th>\n",
              "      <td>BB</td>\n",
              "      <td>2</td>\n",
              "      <td>a</td>\n",
              "    </tr>\n",
              "    <tr>\n",
              "      <th>2</th>\n",
              "      <td>CC</td>\n",
              "      <td>3</td>\n",
              "      <td>a</td>\n",
              "    </tr>\n",
              "  </tbody>\n",
              "</table>\n",
              "</div>"
            ],
            "text/plain": [
              "  name  prefix_value prefix_salue\n",
              "0   AA             1            a\n",
              "1   BB             2            a\n",
              "2   CC             3            a"
            ]
          },
          "metadata": {
            "tags": []
          },
          "execution_count": 20
        }
      ]
    },
    {
      "cell_type": "code",
      "metadata": {
        "id": "GsJjoGMVvTsE",
        "colab": {
          "base_uri": "https://localhost:8080/",
          "height": 141
        },
        "outputId": "c971a481-c3de-43b4-c4b7-ef3d2fb73aac"
      },
      "source": [
        "# Example 6\n",
        "# A simpler way of changing Dataframe column names \n",
        "#\n",
        "df_list = [['AA', \"temp\", 1],['BB', \"temp\", 2],['CC', \"temp\", 3]]\n",
        "df = pd.DataFrame(df_list, columns = ['name','temp', 'value'])\n",
        "df\n",
        "\n",
        "# Uncomment the following line\n",
        "df.columns = ['names', 'temperature', 'values']\n",
        "df"
      ],
      "execution_count": null,
      "outputs": [
        {
          "output_type": "execute_result",
          "data": {
            "text/html": [
              "<div>\n",
              "<style scoped>\n",
              "    .dataframe tbody tr th:only-of-type {\n",
              "        vertical-align: middle;\n",
              "    }\n",
              "\n",
              "    .dataframe tbody tr th {\n",
              "        vertical-align: top;\n",
              "    }\n",
              "\n",
              "    .dataframe thead th {\n",
              "        text-align: right;\n",
              "    }\n",
              "</style>\n",
              "<table border=\"1\" class=\"dataframe\">\n",
              "  <thead>\n",
              "    <tr style=\"text-align: right;\">\n",
              "      <th></th>\n",
              "      <th>names</th>\n",
              "      <th>temperature</th>\n",
              "      <th>values</th>\n",
              "    </tr>\n",
              "  </thead>\n",
              "  <tbody>\n",
              "    <tr>\n",
              "      <th>0</th>\n",
              "      <td>AA</td>\n",
              "      <td>temp</td>\n",
              "      <td>1</td>\n",
              "    </tr>\n",
              "    <tr>\n",
              "      <th>1</th>\n",
              "      <td>BB</td>\n",
              "      <td>temp</td>\n",
              "      <td>2</td>\n",
              "    </tr>\n",
              "    <tr>\n",
              "      <th>2</th>\n",
              "      <td>CC</td>\n",
              "      <td>temp</td>\n",
              "      <td>3</td>\n",
              "    </tr>\n",
              "  </tbody>\n",
              "</table>\n",
              "</div>"
            ],
            "text/plain": [
              "  names temperature  values\n",
              "0    AA        temp       1\n",
              "1    BB        temp       2\n",
              "2    CC        temp       3"
            ]
          },
          "metadata": {
            "tags": []
          },
          "execution_count": 71
        }
      ]
    },
    {
      "cell_type": "code",
      "metadata": {
        "id": "qSe2JKo4ve5n",
        "colab": {
          "base_uri": "https://localhost:8080/",
          "height": 141
        },
        "outputId": "6bb9c457-5606-436d-b016-02e8cbec3487"
      },
      "source": [
        "# Example 7\n",
        "# Choosing specific columns from a DataFrame\n",
        "# \n",
        "df_list = [['AA', \"temp\", 1],['BB', \"temp\", 2],['CC', \"temp\", 3]]\n",
        "df = pd.DataFrame(df_list, columns = ['name','temp', 'value'])\n",
        "df\n",
        "\n",
        "# Uncomment the following lines after running \n",
        "df = df[[\"name\",\"temp\"]]\n",
        "df"
      ],
      "execution_count": null,
      "outputs": [
        {
          "output_type": "execute_result",
          "data": {
            "text/html": [
              "<div>\n",
              "<style scoped>\n",
              "    .dataframe tbody tr th:only-of-type {\n",
              "        vertical-align: middle;\n",
              "    }\n",
              "\n",
              "    .dataframe tbody tr th {\n",
              "        vertical-align: top;\n",
              "    }\n",
              "\n",
              "    .dataframe thead th {\n",
              "        text-align: right;\n",
              "    }\n",
              "</style>\n",
              "<table border=\"1\" class=\"dataframe\">\n",
              "  <thead>\n",
              "    <tr style=\"text-align: right;\">\n",
              "      <th></th>\n",
              "      <th>name</th>\n",
              "      <th>temp</th>\n",
              "    </tr>\n",
              "  </thead>\n",
              "  <tbody>\n",
              "    <tr>\n",
              "      <th>0</th>\n",
              "      <td>AA</td>\n",
              "      <td>temp</td>\n",
              "    </tr>\n",
              "    <tr>\n",
              "      <th>1</th>\n",
              "      <td>BB</td>\n",
              "      <td>temp</td>\n",
              "    </tr>\n",
              "    <tr>\n",
              "      <th>2</th>\n",
              "      <td>CC</td>\n",
              "      <td>temp</td>\n",
              "    </tr>\n",
              "  </tbody>\n",
              "</table>\n",
              "</div>"
            ],
            "text/plain": [
              "  name  temp\n",
              "0   AA  temp\n",
              "1   BB  temp\n",
              "2   CC  temp"
            ]
          },
          "metadata": {
            "tags": []
          },
          "execution_count": 23
        }
      ]
    },
    {
      "cell_type": "code",
      "metadata": {
        "id": "0baTHG36xe26",
        "colab": {
          "base_uri": "https://localhost:8080/",
          "height": 137
        },
        "outputId": "3239978b-a466-4474-bc8d-cc79c37969cb"
      },
      "source": [
        "# Example 8\n",
        "# Deleting/dropping columns or extracting columns from Dataframe \n",
        "# \n",
        "df_list = [['AA', \"temp\", 1],['BB', \"temp\", 2],['CC', \"temp\", 3]]\n",
        "df = pd.DataFrame(df_list, columns = ['name','value','temp'])\n",
        "df\n",
        "\n",
        "# Uncomment the following lines\n",
        "df.drop('value', axis=1, inplace=True)\n",
        "df\n",
        "\n",
        "# Uncomment the following lines after running the previous commented lines\n",
        "#df = pd.DataFrame([['AA', 1],['BB', 2],['CC', 3]], columns = ['name','value'])\n",
        "#df\n",
        "\n",
        "# Uncomment the following lines after running the previous commented lines\n",
        "#values = df.pop('value')\n",
        "#df\n",
        "\n",
        "# Uncomment the line below after running the previous commented lines\n",
        "#values"
      ],
      "execution_count": null,
      "outputs": [
        {
          "output_type": "execute_result",
          "data": {
            "text/html": [
              "<div>\n",
              "<style scoped>\n",
              "    .dataframe tbody tr th:only-of-type {\n",
              "        vertical-align: middle;\n",
              "    }\n",
              "\n",
              "    .dataframe tbody tr th {\n",
              "        vertical-align: top;\n",
              "    }\n",
              "\n",
              "    .dataframe thead th {\n",
              "        text-align: right;\n",
              "    }\n",
              "</style>\n",
              "<table border=\"1\" class=\"dataframe\">\n",
              "  <thead>\n",
              "    <tr style=\"text-align: right;\">\n",
              "      <th></th>\n",
              "      <th>name</th>\n",
              "      <th>temp</th>\n",
              "    </tr>\n",
              "  </thead>\n",
              "  <tbody>\n",
              "    <tr>\n",
              "      <th>0</th>\n",
              "      <td>AA</td>\n",
              "      <td>1</td>\n",
              "    </tr>\n",
              "    <tr>\n",
              "      <th>1</th>\n",
              "      <td>BB</td>\n",
              "      <td>2</td>\n",
              "    </tr>\n",
              "    <tr>\n",
              "      <th>2</th>\n",
              "      <td>CC</td>\n",
              "      <td>3</td>\n",
              "    </tr>\n",
              "  </tbody>\n",
              "</table>\n",
              "</div>"
            ],
            "text/plain": [
              "  name  temp\n",
              "0   AA     1\n",
              "1   BB     2\n",
              "2   CC     3"
            ]
          },
          "metadata": {
            "tags": []
          },
          "execution_count": 89
        }
      ]
    },
    {
      "cell_type": "markdown",
      "metadata": {
        "id": "gbShDqtivYNC"
      },
      "source": [
        "### <font color=\"green\">1.1 Challenges</font>"
      ]
    },
    {
      "cell_type": "code",
      "metadata": {
        "id": "cHdxGZiBvbdY",
        "colab": {
          "base_uri": "https://localhost:8080/"
        },
        "outputId": "99a18055-4746-44c9-f660-765f401b2fa0"
      },
      "source": [
        "# Challenge 1\n",
        "# Create a Dataframe from the following dictionary \n",
        "# \n",
        "studentData = {\n",
        "    'name' : ['jack', 'Riti', 'Aadi'],\n",
        "    'age' : [34, 30, 16],\n",
        "    'city' : ['Sydney', 'Delhi', 'New york']\n",
        "}\n",
        "\n",
        "df = pd.DataFrame(studentData)\n",
        "print(df)"
      ],
      "execution_count": null,
      "outputs": [
        {
          "output_type": "stream",
          "text": [
            "   name  age      city\n",
            "0  jack   34    Sydney\n",
            "1  Riti   30     Delhi\n",
            "2  Aadi   16  New york\n"
          ],
          "name": "stdout"
        }
      ]
    },
    {
      "cell_type": "code",
      "metadata": {
        "id": "dRcmDpgavhrk",
        "colab": {
          "base_uri": "https://localhost:8080/"
        },
        "outputId": "2a5b74d1-1f69-40e3-f0ac-35bf6e7e2881"
      },
      "source": [
        "# Challenge 2\n",
        "# Create the Dataframe shown below in the Expected Output by inserting rows iteratively\n",
        "x = [[1,3,3], [2,1,2], [3,2,1], [3,2,3]]\n",
        "df = pd.DataFrame(x, columns = ['x', 'y', 'z'])\n",
        "print(df)"
      ],
      "execution_count": null,
      "outputs": [
        {
          "output_type": "stream",
          "text": [
            "   x  y  z\n",
            "0  1  3  3\n",
            "1  2  1  2\n",
            "2  3  2  1\n",
            "3  3  2  3\n"
          ],
          "name": "stdout"
        }
      ]
    },
    {
      "cell_type": "code",
      "metadata": {
        "id": "PMsJ5nML9EzX",
        "colab": {
          "base_uri": "https://localhost:8080/",
          "height": 173
        },
        "outputId": "e57d3d3b-60f7-4b54-ff9a-5d45eff48ea8"
      },
      "source": [
        "# Challenge 2: Expected Output\n",
        "# [Do not run this cell]\n",
        "# Running this cell will clear the output"
      ],
      "execution_count": null,
      "outputs": [
        {
          "output_type": "execute_result",
          "data": {
            "text/html": [
              "<div>\n",
              "<style scoped>\n",
              "    .dataframe tbody tr th:only-of-type {\n",
              "        vertical-align: middle;\n",
              "    }\n",
              "\n",
              "    .dataframe tbody tr th {\n",
              "        vertical-align: top;\n",
              "    }\n",
              "\n",
              "    .dataframe thead th {\n",
              "        text-align: right;\n",
              "    }\n",
              "</style>\n",
              "<table border=\"1\" class=\"dataframe\">\n",
              "  <thead>\n",
              "    <tr style=\"text-align: right;\">\n",
              "      <th></th>\n",
              "      <th>x</th>\n",
              "      <th>y</th>\n",
              "      <th>z</th>\n",
              "    </tr>\n",
              "  </thead>\n",
              "  <tbody>\n",
              "    <tr>\n",
              "      <th>0</th>\n",
              "      <td>1</td>\n",
              "      <td>3</td>\n",
              "      <td>3</td>\n",
              "    </tr>\n",
              "    <tr>\n",
              "      <th>1</th>\n",
              "      <td>2</td>\n",
              "      <td>1</td>\n",
              "      <td>2</td>\n",
              "    </tr>\n",
              "    <tr>\n",
              "      <th>2</th>\n",
              "      <td>3</td>\n",
              "      <td>2</td>\n",
              "      <td>1</td>\n",
              "    </tr>\n",
              "    <tr>\n",
              "      <th>3</th>\n",
              "      <td>3</td>\n",
              "      <td>2</td>\n",
              "      <td>3</td>\n",
              "    </tr>\n",
              "  </tbody>\n",
              "</table>\n",
              "</div>"
            ],
            "text/plain": [
              "   x  y  z\n",
              "0  1  3  3\n",
              "1  2  1  2\n",
              "2  3  2  1\n",
              "3  3  2  3"
            ]
          },
          "metadata": {
            "tags": []
          },
          "execution_count": 9
        }
      ]
    },
    {
      "cell_type": "code",
      "metadata": {
        "id": "Od_2Kd9ZvhhT",
        "colab": {
          "base_uri": "https://localhost:8080/"
        },
        "outputId": "abde0554-1b4f-4ef4-8d4c-83d4720a78b3"
      },
      "source": [
        "# Challenge 3\n",
        "# Create the Dataframe shown in the Expected Output below with randomly generated integers\n",
        "import numpy as np\n",
        "from random import randint\n",
        "y = np.random.randint(0, 10, size = (10, 4))\n",
        "df = pd.DataFrame(y, columns= ['A', 'B', 'C', 'D'])\n",
        "\n",
        "print(df)"
      ],
      "execution_count": null,
      "outputs": [
        {
          "output_type": "stream",
          "text": [
            "   A  B  C  D\n",
            "0  7  0  0  8\n",
            "1  6  7  7  7\n",
            "2  5  0  7  0\n",
            "3  6  5  7  0\n",
            "4  2  8  6  6\n",
            "5  6  6  6  7\n",
            "6  9  5  3  1\n",
            "7  1  3  1  2\n",
            "8  9  2  4  5\n",
            "9  0  4  5  7\n"
          ],
          "name": "stdout"
        }
      ]
    },
    {
      "cell_type": "code",
      "metadata": {
        "id": "5yOC8xvh99iF",
        "colab": {
          "base_uri": "https://localhost:8080/",
          "height": 359
        },
        "outputId": "2204796b-7ed0-418b-adf1-29cf53d7d6f2"
      },
      "source": [
        "# Challenge 3: Expected Output\n",
        "# Running this cell will clear the output\n",
        "# Attention: Do not run this cell!"
      ],
      "execution_count": null,
      "outputs": [
        {
          "output_type": "execute_result",
          "data": {
            "text/html": [
              "<div>\n",
              "<style scoped>\n",
              "    .dataframe tbody tr th:only-of-type {\n",
              "        vertical-align: middle;\n",
              "    }\n",
              "\n",
              "    .dataframe tbody tr th {\n",
              "        vertical-align: top;\n",
              "    }\n",
              "\n",
              "    .dataframe thead th {\n",
              "        text-align: right;\n",
              "    }\n",
              "</style>\n",
              "<table border=\"1\" class=\"dataframe\">\n",
              "  <thead>\n",
              "    <tr style=\"text-align: right;\">\n",
              "      <th></th>\n",
              "      <th>A</th>\n",
              "      <th>B</th>\n",
              "      <th>C</th>\n",
              "      <th>D</th>\n",
              "    </tr>\n",
              "  </thead>\n",
              "  <tbody>\n",
              "    <tr>\n",
              "      <th>0</th>\n",
              "      <td>8</td>\n",
              "      <td>2</td>\n",
              "      <td>8</td>\n",
              "      <td>0</td>\n",
              "    </tr>\n",
              "    <tr>\n",
              "      <th>1</th>\n",
              "      <td>6</td>\n",
              "      <td>6</td>\n",
              "      <td>0</td>\n",
              "      <td>8</td>\n",
              "    </tr>\n",
              "    <tr>\n",
              "      <th>2</th>\n",
              "      <td>2</td>\n",
              "      <td>2</td>\n",
              "      <td>0</td>\n",
              "      <td>4</td>\n",
              "    </tr>\n",
              "    <tr>\n",
              "      <th>3</th>\n",
              "      <td>8</td>\n",
              "      <td>2</td>\n",
              "      <td>7</td>\n",
              "      <td>2</td>\n",
              "    </tr>\n",
              "    <tr>\n",
              "      <th>4</th>\n",
              "      <td>7</td>\n",
              "      <td>5</td>\n",
              "      <td>9</td>\n",
              "      <td>3</td>\n",
              "    </tr>\n",
              "    <tr>\n",
              "      <th>5</th>\n",
              "      <td>7</td>\n",
              "      <td>9</td>\n",
              "      <td>8</td>\n",
              "      <td>6</td>\n",
              "    </tr>\n",
              "    <tr>\n",
              "      <th>6</th>\n",
              "      <td>6</td>\n",
              "      <td>0</td>\n",
              "      <td>8</td>\n",
              "      <td>9</td>\n",
              "    </tr>\n",
              "    <tr>\n",
              "      <th>7</th>\n",
              "      <td>3</td>\n",
              "      <td>1</td>\n",
              "      <td>7</td>\n",
              "      <td>0</td>\n",
              "    </tr>\n",
              "    <tr>\n",
              "      <th>8</th>\n",
              "      <td>8</td>\n",
              "      <td>7</td>\n",
              "      <td>7</td>\n",
              "      <td>0</td>\n",
              "    </tr>\n",
              "    <tr>\n",
              "      <th>9</th>\n",
              "      <td>9</td>\n",
              "      <td>3</td>\n",
              "      <td>6</td>\n",
              "      <td>7</td>\n",
              "    </tr>\n",
              "  </tbody>\n",
              "</table>\n",
              "</div>"
            ],
            "text/plain": [
              "   A  B  C  D\n",
              "0  8  2  8  0\n",
              "1  6  6  0  8\n",
              "2  2  2  0  4\n",
              "3  8  2  7  2\n",
              "4  7  5  9  3\n",
              "5  7  9  8  6\n",
              "6  6  0  8  9\n",
              "7  3  1  7  0\n",
              "8  8  7  7  0\n",
              "9  9  3  6  7"
            ]
          },
          "metadata": {
            "tags": []
          },
          "execution_count": 37
        }
      ]
    },
    {
      "cell_type": "code",
      "metadata": {
        "id": "XBtytsCQvhYk",
        "colab": {
          "base_uri": "https://localhost:8080/"
        },
        "outputId": "576c3c83-9676-45cc-c789-523e9d99a58d"
      },
      "source": [
        "# Challenge 4\n",
        "# Create a Dataframe from the mnist_test csv file in the sample_data directory\n",
        "\n",
        "y = \"/content/sample_data/mnist_test.csv\"\n",
        "df_y = pd.read_csv(y)\n",
        "print(df_y)\n",
        "\n",
        "\n",
        "\n",
        "\n",
        "\n"
      ],
      "execution_count": null,
      "outputs": [
        {
          "output_type": "stream",
          "text": [
            "      7  0  0.1  0.2  0.3  0.4  ...  0.662  0.663  0.664  0.665  0.666  0.667\n",
            "0     2  0    0    0    0    0  ...      0      0      0      0      0      0\n",
            "1     1  0    0    0    0    0  ...      0      0      0      0      0      0\n",
            "2     0  0    0    0    0    0  ...      0      0      0      0      0      0\n",
            "3     4  0    0    0    0    0  ...      0      0      0      0      0      0\n",
            "4     1  0    0    0    0    0  ...      0      0      0      0      0      0\n",
            "...  .. ..  ...  ...  ...  ...  ...    ...    ...    ...    ...    ...    ...\n",
            "9994  2  0    0    0    0    0  ...      0      0      0      0      0      0\n",
            "9995  3  0    0    0    0    0  ...      0      0      0      0      0      0\n",
            "9996  4  0    0    0    0    0  ...      0      0      0      0      0      0\n",
            "9997  5  0    0    0    0    0  ...      0      0      0      0      0      0\n",
            "9998  6  0    0    0    0    0  ...      0      0      0      0      0      0\n",
            "\n",
            "[9999 rows x 785 columns]\n"
          ],
          "name": "stdout"
        }
      ]
    },
    {
      "cell_type": "code",
      "metadata": {
        "id": "5g5RBnCsvhOO",
        "colab": {
          "base_uri": "https://localhost:8080/"
        },
        "outputId": "bb852406-3744-448e-9162-b076291b7cb5"
      },
      "source": [
        "# Challenge 5\n",
        "# Create a Dataframe from dataset with the following url source\n",
        "x = \"http://bit.ly/NairobiBusesDataset\"\n",
        "df_x = pd.read_csv(x)\n",
        "print(df_x)\n",
        "\n",
        "\n"
      ],
      "execution_count": null,
      "outputs": [
        {
          "output_type": "stream",
          "text": [
            "       ride_id seat_number payment_method  ... travel_to car_type max_capacity\n",
            "0         1442         15A          Mpesa  ...   Nairobi      Bus           49\n",
            "1         5437         14A          Mpesa  ...   Nairobi      Bus           49\n",
            "2         5710          8B          Mpesa  ...   Nairobi      Bus           49\n",
            "3         5777         19A          Mpesa  ...   Nairobi      Bus           49\n",
            "4         5778         11A          Mpesa  ...   Nairobi      Bus           49\n",
            "...        ...         ...            ...  ...       ...      ...          ...\n",
            "51640    13826          9B          Mpesa  ...   Nairobi      Bus           49\n",
            "51641    13809         18A          Mpesa  ...   Nairobi      Bus           49\n",
            "51642    13809         17A          Mpesa  ...   Nairobi      Bus           49\n",
            "51643    13796         16B          Mpesa  ...   Nairobi      Bus           49\n",
            "51644    14304           7          Mpesa  ...   Nairobi      Bus           49\n",
            "\n",
            "[51645 rows x 10 columns]\n"
          ],
          "name": "stdout"
        }
      ]
    },
    {
      "cell_type": "code",
      "metadata": {
        "id": "OK7_9XppvhGH",
        "colab": {
          "base_uri": "https://localhost:8080/"
        },
        "outputId": "3fa8f9ce-6136-402b-8098-ece01b122c9c"
      },
      "source": [
        "# Challenge 6\n",
        "# Change the column names of the dataset from this source (http://bit.ly/FiveYearData) \n",
        "# to: country, year, population, continent, life_exp, gdp_per_cap\n",
        "#\n",
        "z = \"http://bit.ly/FiveYearData\"\n",
        "df_z = pd.read_csv(z)\n",
        "df_z.columns = ['country', 'year', 'population', 'continent', 'life_exp', 'gdp_per_cap']\n",
        "print(df_z)\n",
        "\n",
        "\n",
        "\n",
        "\n",
        "\n",
        "\n"
      ],
      "execution_count": null,
      "outputs": [
        {
          "output_type": "stream",
          "text": [
            "          country  year  population continent  life_exp  gdp_per_cap\n",
            "0     Afghanistan  1952   8425333.0      Asia    28.801   779.445314\n",
            "1     Afghanistan  1957   9240934.0      Asia    30.332   820.853030\n",
            "2     Afghanistan  1962  10267083.0      Asia    31.997   853.100710\n",
            "3     Afghanistan  1967  11537966.0      Asia    34.020   836.197138\n",
            "4     Afghanistan  1972  13079460.0      Asia    36.088   739.981106\n",
            "...           ...   ...         ...       ...       ...          ...\n",
            "1699     Zimbabwe  1987   9216418.0    Africa    62.351   706.157306\n",
            "1700     Zimbabwe  1992  10704340.0    Africa    60.377   693.420786\n",
            "1701     Zimbabwe  1997  11404948.0    Africa    46.809   792.449960\n",
            "1702     Zimbabwe  2002  11926563.0    Africa    39.989   672.038623\n",
            "1703     Zimbabwe  2007  12311143.0    Africa    43.487   469.709298\n",
            "\n",
            "[1704 rows x 6 columns]\n"
          ],
          "name": "stdout"
        }
      ]
    },
    {
      "cell_type": "code",
      "metadata": {
        "id": "0GUaxYY4vg6c",
        "colab": {
          "base_uri": "https://localhost:8080/"
        },
        "outputId": "302a2aac-870b-4fda-d64f-33117f3360b7"
      },
      "source": [
        "# Challenge 7\n",
        "# Choose the country, year and continent columns from a DataFrame in challenge 6\n",
        "#\n",
        "z = \"http://bit.ly/FiveYearData\"\n",
        "df_z = pd.read_csv(z)\n",
        "df_z.columns = ['country', 'year', 'population', 'continent', 'life_exp', 'gdp_per_cap']\n",
        "df = df_z[[\"country\", \"year\", \"continent\"]]\n",
        "print(df)\n",
        "\n",
        "\n"
      ],
      "execution_count": null,
      "outputs": [
        {
          "output_type": "stream",
          "text": [
            "          country  year continent\n",
            "0     Afghanistan  1952      Asia\n",
            "1     Afghanistan  1957      Asia\n",
            "2     Afghanistan  1962      Asia\n",
            "3     Afghanistan  1967      Asia\n",
            "4     Afghanistan  1972      Asia\n",
            "...           ...   ...       ...\n",
            "1699     Zimbabwe  1987    Africa\n",
            "1700     Zimbabwe  1992    Africa\n",
            "1701     Zimbabwe  1997    Africa\n",
            "1702     Zimbabwe  2002    Africa\n",
            "1703     Zimbabwe  2007    Africa\n",
            "\n",
            "[1704 rows x 3 columns]\n"
          ],
          "name": "stdout"
        }
      ]
    },
    {
      "cell_type": "code",
      "metadata": {
        "id": "qgt-NO7RHDFe",
        "colab": {
          "base_uri": "https://localhost:8080/"
        },
        "outputId": "daafd726-ea59-4228-cac4-2e66c57ea7e0"
      },
      "source": [
        "# Challenge 8\n",
        "# Drop the population and life_exp columns from the DataFrame in challenge 6\n",
        "z = \"http://bit.ly/FiveYearData\"\n",
        "df_z = pd.read_csv(z)\n",
        "df_z.columns = ['country', 'year', 'population', 'continent', 'life_exp', 'gdp_per_cap']\n",
        "df_z.drop(['population','life_exp'], axis= 1, inplace=True)\n",
        "print(df_z)"
      ],
      "execution_count": null,
      "outputs": [
        {
          "output_type": "stream",
          "text": [
            "          country  year continent  gdp_per_cap\n",
            "0     Afghanistan  1952      Asia   779.445314\n",
            "1     Afghanistan  1957      Asia   820.853030\n",
            "2     Afghanistan  1962      Asia   853.100710\n",
            "3     Afghanistan  1967      Asia   836.197138\n",
            "4     Afghanistan  1972      Asia   739.981106\n",
            "...           ...   ...       ...          ...\n",
            "1699     Zimbabwe  1987    Africa   706.157306\n",
            "1700     Zimbabwe  1992    Africa   693.420786\n",
            "1701     Zimbabwe  1997    Africa   792.449960\n",
            "1702     Zimbabwe  2002    Africa   672.038623\n",
            "1703     Zimbabwe  2007    Africa   469.709298\n",
            "\n",
            "[1704 rows x 4 columns]\n"
          ],
          "name": "stdout"
        }
      ]
    },
    {
      "cell_type": "markdown",
      "metadata": {
        "id": "8xDIxQXjv1cs"
      },
      "source": [
        "## 1.2 Manipulating Dataframes"
      ]
    },
    {
      "cell_type": "code",
      "metadata": {
        "id": "NYtpbBzPwLm6",
        "colab": {
          "base_uri": "https://localhost:8080/"
        },
        "outputId": "bc7b5077-969f-4254-bae6-d94b0fdfbbe8"
      },
      "source": [
        "# Example 1\n",
        "# While working with dataframes, sometimes we may want to iterate over our dataframe and do \n",
        "#sopme operations on each row. Pandas gives us two methods to enable us to do this.\n",
        "# We are going to look at them in the following example.\n",
        "# \n",
        "\n",
        "df = pd.DataFrame([['AA', 1],['BB', 2],['CC', 3]], columns = ['name','value'])\n",
        "df\n",
        "\n",
        "# Uncomment after running previous lines\n",
        "# Since we are iterating over rows, we are going to use a pandas method called iterrows().\n",
        "# This method returns an iterator that contains indices of each row and data on each row. \n",
        "#Each row is stored in a Series\n",
        "for index, row in df.iterrows():\n",
        " print(row['name'], row['value'])\n",
        "\n",
        "\n",
        "# Uncomment after runnuni previous lines\n",
        "# The other method we that is available to us is itertuples() method. \n",
        "#This method loops through each row and returns a named tuple.\n",
        "for row in df.itertuples():\n",
        " print(row)"
      ],
      "execution_count": null,
      "outputs": [
        {
          "output_type": "stream",
          "text": [
            "AA 1\n",
            "BB 2\n",
            "CC 3\n",
            "Pandas(Index=0, name='AA', value=1)\n",
            "Pandas(Index=1, name='BB', value=2)\n",
            "Pandas(Index=2, name='CC', value=3)\n"
          ],
          "name": "stdout"
        }
      ]
    },
    {
      "cell_type": "code",
      "metadata": {
        "id": "RZHYg1hNwLbL",
        "colab": {
          "base_uri": "https://localhost:8080/",
          "height": 137
        },
        "outputId": "568081f7-74b9-4aba-a1a9-b99b58bf261b"
      },
      "source": [
        "# Example 2\n",
        "# Applying a function to Dataframe row\n",
        "# This is useful when cleaning up data - converting formats, altering values etc.\n",
        "#  In this example we are going to create a third column then create a function that concatenates \n",
        "#the values of the first and second column.\n",
        "df = pd.DataFrame([['AA', 1],['BB', 2],['CC', 3]], columns = ['name','value'])\n",
        "df\n",
        "\n",
        "# Uncomment after running previous lines\n",
        "\n",
        "# Define a function that takes in two values and returns the two values concatenated together\n",
        "def function_1(val_1, val_2):\n",
        "#before retuning the values, we convert the first values into a string because values in one \n",
        "#column are strings\n",
        "  return val_1 + str(val_2)\n",
        "\n",
        "# Create a third column called col_a then apply a function that we defined above using python lambda.\n",
        "# Since lambda is a new concept, take a few minutes to read about it \n",
        "#here: https://www.afternerd.com/blog/python-lambdas/ . \n",
        "#Its not a difficult concept to grasp, so it should not take alot of time to understand.\n",
        "df['col_a'] = df.apply(lambda row: function_1(row['name'], row['value']), axis=1)\n",
        "df\n",
        "\n",
        "# Uncomment after running previous lines\n",
        "# We create a new function that takes in a row value and multiplies it by 2\n",
        "def function_2(row):\n",
        "  return row['value'] * 2\n",
        "\n",
        "# Create another column called col_b, that applies the above function and populates the column with our new values\n",
        "df['col_b'] = df.apply(lambda row: function_2(row), axis=1)\n",
        "df"
      ],
      "execution_count": null,
      "outputs": [
        {
          "output_type": "execute_result",
          "data": {
            "text/html": [
              "<div>\n",
              "<style scoped>\n",
              "    .dataframe tbody tr th:only-of-type {\n",
              "        vertical-align: middle;\n",
              "    }\n",
              "\n",
              "    .dataframe tbody tr th {\n",
              "        vertical-align: top;\n",
              "    }\n",
              "\n",
              "    .dataframe thead th {\n",
              "        text-align: right;\n",
              "    }\n",
              "</style>\n",
              "<table border=\"1\" class=\"dataframe\">\n",
              "  <thead>\n",
              "    <tr style=\"text-align: right;\">\n",
              "      <th></th>\n",
              "      <th>name</th>\n",
              "      <th>value</th>\n",
              "      <th>col_a</th>\n",
              "      <th>col_b</th>\n",
              "    </tr>\n",
              "  </thead>\n",
              "  <tbody>\n",
              "    <tr>\n",
              "      <th>0</th>\n",
              "      <td>AA</td>\n",
              "      <td>1</td>\n",
              "      <td>AA1</td>\n",
              "      <td>2</td>\n",
              "    </tr>\n",
              "    <tr>\n",
              "      <th>1</th>\n",
              "      <td>BB</td>\n",
              "      <td>2</td>\n",
              "      <td>BB2</td>\n",
              "      <td>4</td>\n",
              "    </tr>\n",
              "    <tr>\n",
              "      <th>2</th>\n",
              "      <td>CC</td>\n",
              "      <td>3</td>\n",
              "      <td>CC3</td>\n",
              "      <td>6</td>\n",
              "    </tr>\n",
              "  </tbody>\n",
              "</table>\n",
              "</div>"
            ],
            "text/plain": [
              "  name  value col_a  col_b\n",
              "0   AA      1   AA1      2\n",
              "1   BB      2   BB2      4\n",
              "2   CC      3   CC3      6"
            ]
          },
          "metadata": {
            "tags": []
          },
          "execution_count": 119
        }
      ]
    },
    {
      "cell_type": "code",
      "metadata": {
        "id": "6loPOfpMwLT0",
        "colab": {
          "base_uri": "https://localhost:8080/",
          "height": 139
        },
        "outputId": "3f6be637-12b6-4f0f-d657-702447809b1e"
      },
      "source": [
        "# Example 3\n",
        "# Applying a function to a specific column of Dataframe\n",
        "# \n",
        "df = pd.DataFrame([['AA', 1], ['BB', 2], ['CC', 3]], columns=['name', 'value'])\n",
        "df\n",
        "\n",
        "# Uncomment after running previous lines\n",
        "def function_1(val_1):\n",
        "  return \"prefix_\" + str(val_1)\n",
        "  \n",
        "# Uncomment after running previous lines\n",
        "# To be able to apply a function to the elements of the name column, we use the map function. This function allows us to apply a specific function to all the elements of the targeted column.\n",
        "df['name'] = df['name'].map(function_1)\n",
        "df \n"
      ],
      "execution_count": null,
      "outputs": [
        {
          "output_type": "execute_result",
          "data": {
            "text/html": [
              "<div>\n",
              "<style scoped>\n",
              "    .dataframe tbody tr th:only-of-type {\n",
              "        vertical-align: middle;\n",
              "    }\n",
              "\n",
              "    .dataframe tbody tr th {\n",
              "        vertical-align: top;\n",
              "    }\n",
              "\n",
              "    .dataframe thead th {\n",
              "        text-align: right;\n",
              "    }\n",
              "</style>\n",
              "<table border=\"1\" class=\"dataframe\">\n",
              "  <thead>\n",
              "    <tr style=\"text-align: right;\">\n",
              "      <th></th>\n",
              "      <th>name</th>\n",
              "      <th>value</th>\n",
              "    </tr>\n",
              "  </thead>\n",
              "  <tbody>\n",
              "    <tr>\n",
              "      <th>0</th>\n",
              "      <td>prefix_AA</td>\n",
              "      <td>1</td>\n",
              "    </tr>\n",
              "    <tr>\n",
              "      <th>1</th>\n",
              "      <td>prefix_BB</td>\n",
              "      <td>2</td>\n",
              "    </tr>\n",
              "    <tr>\n",
              "      <th>2</th>\n",
              "      <td>prefix_CC</td>\n",
              "      <td>3</td>\n",
              "    </tr>\n",
              "  </tbody>\n",
              "</table>\n",
              "</div>"
            ],
            "text/plain": [
              "        name  value\n",
              "0  prefix_AA      1\n",
              "1  prefix_BB      2\n",
              "2  prefix_CC      3"
            ]
          },
          "metadata": {
            "tags": []
          },
          "execution_count": 4
        }
      ]
    },
    {
      "cell_type": "code",
      "metadata": {
        "id": "lqYeZTldwLPO",
        "colab": {
          "base_uri": "https://localhost:8080/",
          "height": 167
        },
        "outputId": "cdd51525-fcf2-49ef-fd00-0fbae9f063ca"
      },
      "source": [
        "# Example 4\n",
        "# Finding and replacing a value in Dataframe\n",
        "# \n",
        "df = pd.DataFrame([['One', 'Two'], ['Four', 'Abcd'], ['One', 'Bcd'], ['Five', 'Cd']], columns=['A', 'B'])\n",
        "df\n",
        "\n",
        "# Uncomment after running previous lines\n",
        "df.loc[df['A'] == 'One', 'A'] = 0\n",
        "df"
      ],
      "execution_count": null,
      "outputs": [
        {
          "output_type": "execute_result",
          "data": {
            "text/html": [
              "<div>\n",
              "<style scoped>\n",
              "    .dataframe tbody tr th:only-of-type {\n",
              "        vertical-align: middle;\n",
              "    }\n",
              "\n",
              "    .dataframe tbody tr th {\n",
              "        vertical-align: top;\n",
              "    }\n",
              "\n",
              "    .dataframe thead th {\n",
              "        text-align: right;\n",
              "    }\n",
              "</style>\n",
              "<table border=\"1\" class=\"dataframe\">\n",
              "  <thead>\n",
              "    <tr style=\"text-align: right;\">\n",
              "      <th></th>\n",
              "      <th>A</th>\n",
              "      <th>B</th>\n",
              "    </tr>\n",
              "  </thead>\n",
              "  <tbody>\n",
              "    <tr>\n",
              "      <th>0</th>\n",
              "      <td>0</td>\n",
              "      <td>Two</td>\n",
              "    </tr>\n",
              "    <tr>\n",
              "      <th>1</th>\n",
              "      <td>Four</td>\n",
              "      <td>Abcd</td>\n",
              "    </tr>\n",
              "    <tr>\n",
              "      <th>2</th>\n",
              "      <td>0</td>\n",
              "      <td>Bcd</td>\n",
              "    </tr>\n",
              "    <tr>\n",
              "      <th>3</th>\n",
              "      <td>Five</td>\n",
              "      <td>Cd</td>\n",
              "    </tr>\n",
              "  </tbody>\n",
              "</table>\n",
              "</div>"
            ],
            "text/plain": [
              "      A     B\n",
              "0     0   Two\n",
              "1  Four  Abcd\n",
              "2     0   Bcd\n",
              "3  Five    Cd"
            ]
          },
          "metadata": {
            "tags": []
          },
          "execution_count": 129
        }
      ]
    },
    {
      "cell_type": "markdown",
      "metadata": {
        "id": "2HvwqV6UwMFI"
      },
      "source": [
        "### <font color=\"green\">1.2 Challenges</font>"
      ]
    },
    {
      "cell_type": "code",
      "metadata": {
        "id": "hSm2qyoEwSwo",
        "colab": {
          "base_uri": "https://localhost:8080/"
        },
        "outputId": "9b7c45e9-12e3-4e24-d7cf-c404ea889895"
      },
      "source": [
        "# Challenge 1\n",
        "# Create a Dataframe from the Dictionary below and iterate over the rows\n",
        "graduates = {'name':[\"Jane Njoroge\", \"June Adhiambo\", \"Kevin Swale\", \"Heidi Sang\"], \n",
        "        'degree': [\"MBA\", \"BCA\", \"M.Tech\", \"MBA\"], \n",
        "        'score':[90, 40, 80, 98]} \n",
        "\n",
        "x = pd.DataFrame(graduates)\n",
        "for index, row in x.iterrows():\n",
        "  print(row['name'], row['degree'], row['score'])\n",
        "  "
      ],
      "execution_count": null,
      "outputs": [
        {
          "output_type": "stream",
          "text": [
            "Jane Njoroge MBA 90\n",
            "June Adhiambo BCA 40\n",
            "Kevin Swale M.Tech 80\n",
            "Heidi Sang MBA 98\n"
          ],
          "name": "stdout"
        }
      ]
    },
    {
      "cell_type": "code",
      "metadata": {
        "id": "9rMJz-2uwTWc",
        "colab": {
          "base_uri": "https://localhost:8080/",
          "height": 660
        },
        "outputId": "eb8cde05-6359-4da0-880c-fd022f076380"
      },
      "source": [
        "# Challenge 2\n",
        "# Apply the given function to SAL-RATE column\n",
        "# http://bit.ly/EmployeeSalary\n",
        "\n",
        "# Get rid of $ and , in the SAL-RATE, then convert it to a float\n",
        "x = \"http://bit.ly/EmployeeSalary\"\n",
        "df_x = pd.read_csv(x)\n",
        "print(df_x)\n",
        "def money_to_float(money_str):\n",
        "  return float(money_str.replace(\"$\",\"\").replace(\",\",\"\"))\n",
        "df_x['SAL-RATE'] = df_x['SAL-RATE'].map(money_to_float)\n",
        "df_x\n",
        "\n",
        "\n",
        "\n"
      ],
      "execution_count": null,
      "outputs": [
        {
          "output_type": "stream",
          "text": [
            "        DPT             NAME      ... PC         SAL-RATE\n",
            "0            868  B J  SANDIFORD  ...        X      $5.00\n",
            "1            868    C A  WIGFALL  ...        X      $5.00\n",
            "2             69  A E A-AWOSOGBA  ...        A  $51955.00\n",
            "3            868        K D AABY  ...        X     $12.00\n",
            "4             56       I D AADIL  ...        A  $46953.00\n",
            "...          ...             ...  ...      ...        ...\n",
            "269833       466       M   ZYMAN  ...        N     $47.58\n",
            "269834       998      P A ZYRSKI  ...        1  $87738.00\n",
            "269835        72        J A ZYSK  ...        D  $78683.00\n",
            "269836        56   M G ZYTKOWICZ  ...        D  $76488.00\n",
            "269837       868       G   0WENS  ...        X      $5.00\n",
            "\n",
            "[269838 rows x 6 columns]\n"
          ],
          "name": "stdout"
        },
        {
          "output_type": "execute_result",
          "data": {
            "text/html": [
              "<div>\n",
              "<style scoped>\n",
              "    .dataframe tbody tr th:only-of-type {\n",
              "        vertical-align: middle;\n",
              "    }\n",
              "\n",
              "    .dataframe tbody tr th {\n",
              "        vertical-align: top;\n",
              "    }\n",
              "\n",
              "    .dataframe thead th {\n",
              "        text-align: right;\n",
              "    }\n",
              "</style>\n",
              "<table border=\"1\" class=\"dataframe\">\n",
              "  <thead>\n",
              "    <tr style=\"text-align: right;\">\n",
              "      <th></th>\n",
              "      <th>DPT</th>\n",
              "      <th>NAME</th>\n",
              "      <th>ADDRESS</th>\n",
              "      <th>TTL #</th>\n",
              "      <th>PC</th>\n",
              "      <th>SAL-RATE</th>\n",
              "    </tr>\n",
              "  </thead>\n",
              "  <tbody>\n",
              "    <tr>\n",
              "      <th>0</th>\n",
              "      <td>868</td>\n",
              "      <td>B J  SANDIFORD</td>\n",
              "      <td>DEPARTMENT OF CITYWIDE ADM</td>\n",
              "      <td>12702</td>\n",
              "      <td>X</td>\n",
              "      <td>5.00</td>\n",
              "    </tr>\n",
              "    <tr>\n",
              "      <th>1</th>\n",
              "      <td>868</td>\n",
              "      <td>C A  WIGFALL</td>\n",
              "      <td>DEPARTMENT OF CITYWIDE ADM</td>\n",
              "      <td>12702</td>\n",
              "      <td>X</td>\n",
              "      <td>5.00</td>\n",
              "    </tr>\n",
              "    <tr>\n",
              "      <th>2</th>\n",
              "      <td>69</td>\n",
              "      <td>A E A-AWOSOGBA</td>\n",
              "      <td>HRA/DEPARTMENT OF SOCIAL S</td>\n",
              "      <td>52311</td>\n",
              "      <td>A</td>\n",
              "      <td>51955.00</td>\n",
              "    </tr>\n",
              "    <tr>\n",
              "      <th>3</th>\n",
              "      <td>868</td>\n",
              "      <td>K D AABY</td>\n",
              "      <td>DEPARTMENT OF CITYWIDE ADM</td>\n",
              "      <td>10209</td>\n",
              "      <td>X</td>\n",
              "      <td>12.00</td>\n",
              "    </tr>\n",
              "    <tr>\n",
              "      <th>4</th>\n",
              "      <td>56</td>\n",
              "      <td>I D AADIL</td>\n",
              "      <td>POLICE DEPARTMENT</td>\n",
              "      <td>71012</td>\n",
              "      <td>A</td>\n",
              "      <td>46953.00</td>\n",
              "    </tr>\n",
              "    <tr>\n",
              "      <th>...</th>\n",
              "      <td>...</td>\n",
              "      <td>...</td>\n",
              "      <td>...</td>\n",
              "      <td>...</td>\n",
              "      <td>...</td>\n",
              "      <td>...</td>\n",
              "    </tr>\n",
              "    <tr>\n",
              "      <th>269833</th>\n",
              "      <td>466</td>\n",
              "      <td>M   ZYMAN</td>\n",
              "      <td>CUNY MANHATTAN COMMUNITY C</td>\n",
              "      <td>4686</td>\n",
              "      <td>N</td>\n",
              "      <td>47.58</td>\n",
              "    </tr>\n",
              "    <tr>\n",
              "      <th>269834</th>\n",
              "      <td>998</td>\n",
              "      <td>P A ZYRSKI</td>\n",
              "      <td>N.Y.C. TRANSIT AUTHORITY</td>\n",
              "      <td>623</td>\n",
              "      <td>1</td>\n",
              "      <td>87738.00</td>\n",
              "    </tr>\n",
              "    <tr>\n",
              "      <th>269835</th>\n",
              "      <td>72</td>\n",
              "      <td>J A ZYSK</td>\n",
              "      <td>DEPARTMENT OF CORRECTION</td>\n",
              "      <td>70467</td>\n",
              "      <td>D</td>\n",
              "      <td>78683.00</td>\n",
              "    </tr>\n",
              "    <tr>\n",
              "      <th>269836</th>\n",
              "      <td>56</td>\n",
              "      <td>M G ZYTKOWICZ</td>\n",
              "      <td>POLICE DEPARTMENT</td>\n",
              "      <td>70210</td>\n",
              "      <td>D</td>\n",
              "      <td>76488.00</td>\n",
              "    </tr>\n",
              "    <tr>\n",
              "      <th>269837</th>\n",
              "      <td>868</td>\n",
              "      <td>G   0WENS</td>\n",
              "      <td>DEPARTMENT OF CITYWIDE ADM</td>\n",
              "      <td>12702</td>\n",
              "      <td>X</td>\n",
              "      <td>5.00</td>\n",
              "    </tr>\n",
              "  </tbody>\n",
              "</table>\n",
              "<p>269838 rows × 6 columns</p>\n",
              "</div>"
            ],
            "text/plain": [
              "        DPT             NAME      ... PC        SAL-RATE\n",
              "0            868  B J  SANDIFORD  ...        X      5.00\n",
              "1            868    C A  WIGFALL  ...        X      5.00\n",
              "2             69  A E A-AWOSOGBA  ...        A  51955.00\n",
              "3            868        K D AABY  ...        X     12.00\n",
              "4             56       I D AADIL  ...        A  46953.00\n",
              "...          ...             ...  ...      ...       ...\n",
              "269833       466       M   ZYMAN  ...        N     47.58\n",
              "269834       998      P A ZYRSKI  ...        1  87738.00\n",
              "269835        72        J A ZYSK  ...        D  78683.00\n",
              "269836        56   M G ZYTKOWICZ  ...        D  76488.00\n",
              "269837       868       G   0WENS  ...        X      5.00\n",
              "\n",
              "[269838 rows x 6 columns]"
            ]
          },
          "metadata": {
            "tags": []
          },
          "execution_count": 23
        }
      ]
    },
    {
      "cell_type": "code",
      "metadata": {
        "id": "Pc0MmJHXwTQP",
        "colab": {
          "base_uri": "https://localhost:8080/"
        },
        "outputId": "02aaa1c5-6cbf-43be-9ad3-b23821a66648"
      },
      "source": [
        "# Challenge 3\n",
        "# Replace the value in M.Tech in Challenge 1 Dataframe with Msc.Tech\n",
        "# \n",
        "graduates = {'name':[\"Jane Njoroge\", \"June Adhiambo\", \"Kevin Swale\", \"Heidi Sang\"], \n",
        "        'degree': [\"MBA\", \"BCA\", \"M.Tech\", \"MBA\"], \n",
        "        'score':[90, 40, 80, 98]} \n",
        "\n",
        "x = pd.DataFrame(graduates)\n",
        "x.loc[x['degree'] == 'M.Tech','degree'] = 'Msc. Tech'\n",
        "print(x)"
      ],
      "execution_count": null,
      "outputs": [
        {
          "output_type": "stream",
          "text": [
            "            name     degree  score\n",
            "0   Jane Njoroge        MBA     90\n",
            "1  June Adhiambo        BCA     40\n",
            "2    Kevin Swale  Msc. Tech     80\n",
            "3     Heidi Sang        MBA     98\n"
          ],
          "name": "stdout"
        }
      ]
    },
    {
      "cell_type": "markdown",
      "metadata": {
        "id": "uCmfk1Urv7mM"
      },
      "source": [
        "## 1.3 Splitting and Merging Dataframes\n"
      ]
    },
    {
      "cell_type": "code",
      "metadata": {
        "id": "n0b8ZowiwGxU",
        "colab": {
          "base_uri": "https://localhost:8080/",
          "height": 107
        },
        "outputId": "e9985879-8d7d-4fa1-d1fe-04592cd8e8b7"
      },
      "source": [
        "# Example 1\n",
        "# Merging Dataframes by columns using join\n",
        "# Create the first dataframe\n",
        "df = pd.DataFrame([[1, 3], [2, 4]], columns=['A', 'B'])\n",
        "df\n",
        "\n",
        "# Uncomment and run after running previous lines\n",
        "# Create the second dataframe\n",
        "df2 = pd.DataFrame([[1, 5], [1, 6]], columns=['A', 'C'])\n",
        "df2\n",
        "\n",
        "# Uncomment and run after running previous lines\n",
        "df.merge(df2, how='left', on='A')  # merges on columns A\n",
        "\n",
        "# Uncomment and run after running previous lines\n",
        "df2.drop_duplicates(subset=['A'], inplace=True)\n",
        "\n",
        "# Uncomment and run after running previous lines\n",
        "df.merge(df2, how='left', on='A')"
      ],
      "execution_count": null,
      "outputs": [
        {
          "output_type": "execute_result",
          "data": {
            "text/html": [
              "<div>\n",
              "<style scoped>\n",
              "    .dataframe tbody tr th:only-of-type {\n",
              "        vertical-align: middle;\n",
              "    }\n",
              "\n",
              "    .dataframe tbody tr th {\n",
              "        vertical-align: top;\n",
              "    }\n",
              "\n",
              "    .dataframe thead th {\n",
              "        text-align: right;\n",
              "    }\n",
              "</style>\n",
              "<table border=\"1\" class=\"dataframe\">\n",
              "  <thead>\n",
              "    <tr style=\"text-align: right;\">\n",
              "      <th></th>\n",
              "      <th>A</th>\n",
              "      <th>B</th>\n",
              "      <th>C</th>\n",
              "    </tr>\n",
              "  </thead>\n",
              "  <tbody>\n",
              "    <tr>\n",
              "      <th>0</th>\n",
              "      <td>1</td>\n",
              "      <td>3</td>\n",
              "      <td>5.0</td>\n",
              "    </tr>\n",
              "    <tr>\n",
              "      <th>1</th>\n",
              "      <td>2</td>\n",
              "      <td>4</td>\n",
              "      <td>NaN</td>\n",
              "    </tr>\n",
              "  </tbody>\n",
              "</table>\n",
              "</div>"
            ],
            "text/plain": [
              "   A  B    C\n",
              "0  1  3  5.0\n",
              "1  2  4  NaN"
            ]
          },
          "metadata": {
            "tags": []
          },
          "execution_count": 143
        }
      ]
    },
    {
      "cell_type": "code",
      "metadata": {
        "id": "t7nm8_etwGtF",
        "colab": {
          "base_uri": "https://localhost:8080/",
          "height": 107
        },
        "outputId": "ffbbc768-3271-4e02-ef35-cec8c4be4d3c"
      },
      "source": [
        "# Example 2\n",
        "# Merging Dataframes by columns on index\n",
        "# \n",
        "df = pd.DataFrame([[1, 3], [2, 4]], columns=['A', 'B'])\n",
        "df\n",
        "\n",
        "# Uncomment and run after running previous lines\n",
        "df2 = pd.DataFrame([[1, 5], [1, 6]], columns=['A', 'D'])\n",
        "df2\n",
        "\n",
        "# Uncomment and run after running previous lines\n",
        "pd.concat([df, df2], axis=1)"
      ],
      "execution_count": null,
      "outputs": [
        {
          "output_type": "execute_result",
          "data": {
            "text/html": [
              "<div>\n",
              "<style scoped>\n",
              "    .dataframe tbody tr th:only-of-type {\n",
              "        vertical-align: middle;\n",
              "    }\n",
              "\n",
              "    .dataframe tbody tr th {\n",
              "        vertical-align: top;\n",
              "    }\n",
              "\n",
              "    .dataframe thead th {\n",
              "        text-align: right;\n",
              "    }\n",
              "</style>\n",
              "<table border=\"1\" class=\"dataframe\">\n",
              "  <thead>\n",
              "    <tr style=\"text-align: right;\">\n",
              "      <th></th>\n",
              "      <th>A</th>\n",
              "      <th>B</th>\n",
              "      <th>A</th>\n",
              "      <th>D</th>\n",
              "    </tr>\n",
              "  </thead>\n",
              "  <tbody>\n",
              "    <tr>\n",
              "      <th>0</th>\n",
              "      <td>1</td>\n",
              "      <td>3</td>\n",
              "      <td>1</td>\n",
              "      <td>5</td>\n",
              "    </tr>\n",
              "    <tr>\n",
              "      <th>1</th>\n",
              "      <td>2</td>\n",
              "      <td>4</td>\n",
              "      <td>1</td>\n",
              "      <td>6</td>\n",
              "    </tr>\n",
              "  </tbody>\n",
              "</table>\n",
              "</div>"
            ],
            "text/plain": [
              "   A  B  A  D\n",
              "0  1  3  1  5\n",
              "1  2  4  1  6"
            ]
          },
          "metadata": {
            "tags": []
          },
          "execution_count": 145
        }
      ]
    },
    {
      "cell_type": "code",
      "metadata": {
        "id": "LyyI-VpiwGps",
        "colab": {
          "base_uri": "https://localhost:8080/",
          "height": 345
        },
        "outputId": "1a51e3a7-09cb-44e3-b475-e938dc94e9cb"
      },
      "source": [
        "# Example 3\n",
        "# Merging Dataframes and splitting again \n",
        "import numpy as np\n",
        "ts1 = [1,2,3,4]\n",
        "ts2 = [6,7,8,9]\n",
        "d = {'col_1': ts1, 'col_2': ts2}\n",
        "d\n",
        "\n",
        "# Uncomment and run after running previous lines\n",
        "df_1 = pd.DataFrame(data=d)\n",
        "df_1\n",
        "\n",
        "# Uncomment and run after running previous lines\n",
        "df_2 = pd.DataFrame(np.random.randn(3, 2), columns=['col_1', 'col_2'])\n",
        "df_2\n",
        "\n",
        "# Uncomment and run after running previous lines\n",
        "df_all = pd.concat((df_1, df_2), axis=0, ignore_index=True)\n",
        "df_all\n",
        "\n",
        "# Uncomment and run after running previous lines\n",
        "print(df_1.shape)\n",
        "print(df_2.shape)\n",
        "print(df_all.shape)\n",
        "\n",
        "# Uncomment and run after running previous lines\n",
        "print(df_1.shape)\n",
        "print(df_2.shape)\n",
        "print(df_all.shape)\n",
        "\n",
        "# Uncomment and run after running previous lines\n",
        "print(df_train.shape)\n",
        "print(df_test.shape)\n",
        "print(df_all.shape)"
      ],
      "execution_count": null,
      "outputs": [
        {
          "output_type": "stream",
          "text": [
            "(4, 2)\n",
            "(3, 2)\n",
            "(7, 2)\n",
            "(4, 2)\n",
            "(3, 2)\n",
            "(7, 2)\n"
          ],
          "name": "stdout"
        },
        {
          "output_type": "error",
          "ename": "NameError",
          "evalue": "ignored",
          "traceback": [
            "\u001b[0;31m---------------------------------------------------------------------------\u001b[0m",
            "\u001b[0;31mNameError\u001b[0m                                 Traceback (most recent call last)",
            "\u001b[0;32m<ipython-input-36-cff385d2bfd4>\u001b[0m in \u001b[0;36m<module>\u001b[0;34m()\u001b[0m\n\u001b[1;32m     30\u001b[0m \u001b[0;34m\u001b[0m\u001b[0m\n\u001b[1;32m     31\u001b[0m \u001b[0;31m# Uncomment and run after running previous lines\u001b[0m\u001b[0;34m\u001b[0m\u001b[0;34m\u001b[0m\u001b[0;34m\u001b[0m\u001b[0m\n\u001b[0;32m---> 32\u001b[0;31m \u001b[0mprint\u001b[0m\u001b[0;34m(\u001b[0m\u001b[0mdf_train\u001b[0m\u001b[0;34m.\u001b[0m\u001b[0mshape\u001b[0m\u001b[0;34m)\u001b[0m\u001b[0;34m\u001b[0m\u001b[0;34m\u001b[0m\u001b[0m\n\u001b[0m\u001b[1;32m     33\u001b[0m \u001b[0mprint\u001b[0m\u001b[0;34m(\u001b[0m\u001b[0mdf_test\u001b[0m\u001b[0;34m.\u001b[0m\u001b[0mshape\u001b[0m\u001b[0;34m)\u001b[0m\u001b[0;34m\u001b[0m\u001b[0;34m\u001b[0m\u001b[0m\n\u001b[1;32m     34\u001b[0m \u001b[0mprint\u001b[0m\u001b[0;34m(\u001b[0m\u001b[0mdf_all\u001b[0m\u001b[0;34m.\u001b[0m\u001b[0mshape\u001b[0m\u001b[0;34m)\u001b[0m\u001b[0;34m\u001b[0m\u001b[0;34m\u001b[0m\u001b[0m\n",
            "\u001b[0;31mNameError\u001b[0m: name 'df_train' is not defined"
          ]
        }
      ]
    },
    {
      "cell_type": "code",
      "metadata": {
        "id": "p66l2GrFwGFi",
        "colab": {
          "base_uri": "https://localhost:8080/"
        },
        "outputId": "6093e13f-fb0c-4628-e9d2-72c4faca9878"
      },
      "source": [
        "# Example 4\n",
        "# Grouping by a Dataframe and iterating over grouped series\n",
        "# \n",
        "classes = [\"class 1\"] * 5 + [\"class 2\"] * 5\n",
        "sub_class = ['c1','c2','c2','c1','c3'] + ['c1','c2','c3','c2','c3']\n",
        "vals = [1,3,5,1,3] + [2,6,7,5,2]\n",
        "p_df = pd.DataFrame({\"class\": classes, \"sub_class\": sub_class, \"vals\": vals})\n",
        "p_df\n",
        "\n",
        "# Uncomment and run after running previous lines\n",
        "grouped = p_df.groupby(['class', 'sub_class'])['vals'].median()\n",
        "grouped\n",
        "\n",
        "# Uncomment and run after running previous lines\n",
        "for index_val, value in grouped.iteritems():\n",
        "  class_name, sub_class_name = index_val\n",
        "  print(class_name, \":\", sub_class_name, \":\", value)"
      ],
      "execution_count": null,
      "outputs": [
        {
          "output_type": "stream",
          "text": [
            "class 1 : c1 : 1.0\n",
            "class 1 : c2 : 4.0\n",
            "class 1 : c3 : 3.0\n",
            "class 2 : c1 : 2.0\n",
            "class 2 : c2 : 5.5\n",
            "class 2 : c3 : 4.5\n"
          ],
          "name": "stdout"
        }
      ]
    },
    {
      "cell_type": "markdown",
      "metadata": {
        "id": "B6WJ99XswWfn"
      },
      "source": [
        "### <font color=\"green\">1.3 Challenges</font>"
      ]
    },
    {
      "cell_type": "code",
      "metadata": {
        "id": "HVLYNjFNwY39",
        "colab": {
          "base_uri": "https://localhost:8080/",
          "height": 565
        },
        "outputId": "099eb966-1772-4a74-ce76-fc040f6e2cb2"
      },
      "source": [
        "# Challenge 1\n",
        "# Create the Dataframes from the given Dictionaries below and then merge them \n",
        "#\n",
        "dt1 = {\n",
        "        'subject_id': ['1', '2', '3', '4', '5'],\n",
        "        'first_name': ['Fridah', 'Kwasi', 'Victor', 'Alice', 'Audrey'], \n",
        "        'last_name': ['Njeri', 'Adi Dako', 'Oliech', 'Tergat', 'Cheng']}\n",
        "\n",
        "dt2 = {\n",
        "        'subject_id': ['4', '5', '6', '7', '8'],\n",
        "        'first_name': ['Michael', 'Judy', 'Lenny', 'Mohammed', 'Betty'], \n",
        "        'last_name': ['Macharia', 'Waithera', 'Baraza', 'Ali', 'Kyalo']}\n",
        "\n",
        "df1 = pd.DataFrame(dt1, columns = ['subject_id', 'first_name', 'last_name'])\n",
        "print(df1)\n",
        "df2 = pd.DataFrame(dt2, columns = ['subject_id', 'first_name', 'last_name'])\n",
        "print(df2)\n",
        "pd.concat([df1, df2], axis = 0, ignore_index = True)\n"
      ],
      "execution_count": null,
      "outputs": [
        {
          "output_type": "stream",
          "text": [
            "  subject_id first_name last_name\n",
            "0          1     Fridah     Njeri\n",
            "1          2      Kwasi  Adi Dako\n",
            "2          3     Victor    Oliech\n",
            "3          4      Alice    Tergat\n",
            "4          5     Audrey     Cheng\n",
            "  subject_id first_name last_name\n",
            "0          4    Michael  Macharia\n",
            "1          5       Judy  Waithera\n",
            "2          6      Lenny    Baraza\n",
            "3          7   Mohammed       Ali\n",
            "4          8      Betty     Kyalo\n"
          ],
          "name": "stdout"
        },
        {
          "output_type": "execute_result",
          "data": {
            "text/html": [
              "<div>\n",
              "<style scoped>\n",
              "    .dataframe tbody tr th:only-of-type {\n",
              "        vertical-align: middle;\n",
              "    }\n",
              "\n",
              "    .dataframe tbody tr th {\n",
              "        vertical-align: top;\n",
              "    }\n",
              "\n",
              "    .dataframe thead th {\n",
              "        text-align: right;\n",
              "    }\n",
              "</style>\n",
              "<table border=\"1\" class=\"dataframe\">\n",
              "  <thead>\n",
              "    <tr style=\"text-align: right;\">\n",
              "      <th></th>\n",
              "      <th>subject_id</th>\n",
              "      <th>first_name</th>\n",
              "      <th>last_name</th>\n",
              "    </tr>\n",
              "  </thead>\n",
              "  <tbody>\n",
              "    <tr>\n",
              "      <th>0</th>\n",
              "      <td>1</td>\n",
              "      <td>Fridah</td>\n",
              "      <td>Njeri</td>\n",
              "    </tr>\n",
              "    <tr>\n",
              "      <th>1</th>\n",
              "      <td>2</td>\n",
              "      <td>Kwasi</td>\n",
              "      <td>Adi Dako</td>\n",
              "    </tr>\n",
              "    <tr>\n",
              "      <th>2</th>\n",
              "      <td>3</td>\n",
              "      <td>Victor</td>\n",
              "      <td>Oliech</td>\n",
              "    </tr>\n",
              "    <tr>\n",
              "      <th>3</th>\n",
              "      <td>4</td>\n",
              "      <td>Alice</td>\n",
              "      <td>Tergat</td>\n",
              "    </tr>\n",
              "    <tr>\n",
              "      <th>4</th>\n",
              "      <td>5</td>\n",
              "      <td>Audrey</td>\n",
              "      <td>Cheng</td>\n",
              "    </tr>\n",
              "    <tr>\n",
              "      <th>5</th>\n",
              "      <td>4</td>\n",
              "      <td>Michael</td>\n",
              "      <td>Macharia</td>\n",
              "    </tr>\n",
              "    <tr>\n",
              "      <th>6</th>\n",
              "      <td>5</td>\n",
              "      <td>Judy</td>\n",
              "      <td>Waithera</td>\n",
              "    </tr>\n",
              "    <tr>\n",
              "      <th>7</th>\n",
              "      <td>6</td>\n",
              "      <td>Lenny</td>\n",
              "      <td>Baraza</td>\n",
              "    </tr>\n",
              "    <tr>\n",
              "      <th>8</th>\n",
              "      <td>7</td>\n",
              "      <td>Mohammed</td>\n",
              "      <td>Ali</td>\n",
              "    </tr>\n",
              "    <tr>\n",
              "      <th>9</th>\n",
              "      <td>8</td>\n",
              "      <td>Betty</td>\n",
              "      <td>Kyalo</td>\n",
              "    </tr>\n",
              "  </tbody>\n",
              "</table>\n",
              "</div>"
            ],
            "text/plain": [
              "  subject_id first_name last_name\n",
              "0          1     Fridah     Njeri\n",
              "1          2      Kwasi  Adi Dako\n",
              "2          3     Victor    Oliech\n",
              "3          4      Alice    Tergat\n",
              "4          5     Audrey     Cheng\n",
              "5          4    Michael  Macharia\n",
              "6          5       Judy  Waithera\n",
              "7          6      Lenny    Baraza\n",
              "8          7   Mohammed       Ali\n",
              "9          8      Betty     Kyalo"
            ]
          },
          "metadata": {
            "tags": []
          },
          "execution_count": 41
        }
      ]
    },
    {
      "cell_type": "code",
      "metadata": {
        "id": "g4l9Z5MWwYo6",
        "colab": {
          "base_uri": "https://localhost:8080/",
          "height": 352
        },
        "outputId": "e341ab8b-12bc-49a7-8926-526ccbbffc50"
      },
      "source": [
        "# Challenge 2\n",
        "# Using dt1 and dt2 dictionaries from Challenge 1, create another Dataframe from\n",
        "# the dt3 Dictionary below. Then merge all of them along the subject_id value\n",
        "# i.e. Columns from left; subject_id, first_name, last_name, test_id\n",
        "dt1 = {\n",
        "        'subject_id': ['1', '2', '3', '4', '5'],\n",
        "        'first_name': ['Fridah', 'Kwasi', 'Victor', 'Alice', 'Audrey'], \n",
        "        'last_name': ['Njeri', 'Adi Dako', 'Oliech', 'Tergat', 'Cheng']}\n",
        "\n",
        "dt2 = {\n",
        "        'subject_id': ['4', '5', '6', '7', '8'],\n",
        "        'first_name': ['Michael', 'Judy', 'Lenny', 'Mohammed', 'Betty'], \n",
        "        'last_name': ['Macharia', 'Waithera', 'Baraza', 'Ali', 'Kyalo']}\n",
        "\n",
        "df1 = pd.DataFrame(dt1, columns = ['subject_id', 'first_name', 'last_name'])\n",
        "#print(df1)\n",
        "df2 = pd.DataFrame(dt2, columns = ['subject_id', 'first_name', 'last_name'])\n",
        "#print(df2)\n",
        "df4 = pd.concat([df1,df2], axis = 0, ignore_index= True)\n",
        "dt3 = {\n",
        "        'subject_id': ['1', '2', '3', '4', '5', '7', '8', '9', '10', '11'],\n",
        "        'test_id': [51, 15, 15, 61, 16, 14, 15, 1, 61, 16]}\n",
        "df3 = pd.DataFrame(dt3)\n",
        "#print(df3)\n",
        "df4.merge(df3, how = 'left', on = 'subject_id')\n"
      ],
      "execution_count": null,
      "outputs": [
        {
          "output_type": "execute_result",
          "data": {
            "text/html": [
              "<div>\n",
              "<style scoped>\n",
              "    .dataframe tbody tr th:only-of-type {\n",
              "        vertical-align: middle;\n",
              "    }\n",
              "\n",
              "    .dataframe tbody tr th {\n",
              "        vertical-align: top;\n",
              "    }\n",
              "\n",
              "    .dataframe thead th {\n",
              "        text-align: right;\n",
              "    }\n",
              "</style>\n",
              "<table border=\"1\" class=\"dataframe\">\n",
              "  <thead>\n",
              "    <tr style=\"text-align: right;\">\n",
              "      <th></th>\n",
              "      <th>subject_id</th>\n",
              "      <th>first_name</th>\n",
              "      <th>last_name</th>\n",
              "      <th>test_id</th>\n",
              "    </tr>\n",
              "  </thead>\n",
              "  <tbody>\n",
              "    <tr>\n",
              "      <th>0</th>\n",
              "      <td>1</td>\n",
              "      <td>Fridah</td>\n",
              "      <td>Njeri</td>\n",
              "      <td>51.0</td>\n",
              "    </tr>\n",
              "    <tr>\n",
              "      <th>1</th>\n",
              "      <td>2</td>\n",
              "      <td>Kwasi</td>\n",
              "      <td>Adi Dako</td>\n",
              "      <td>15.0</td>\n",
              "    </tr>\n",
              "    <tr>\n",
              "      <th>2</th>\n",
              "      <td>3</td>\n",
              "      <td>Victor</td>\n",
              "      <td>Oliech</td>\n",
              "      <td>15.0</td>\n",
              "    </tr>\n",
              "    <tr>\n",
              "      <th>3</th>\n",
              "      <td>4</td>\n",
              "      <td>Alice</td>\n",
              "      <td>Tergat</td>\n",
              "      <td>61.0</td>\n",
              "    </tr>\n",
              "    <tr>\n",
              "      <th>4</th>\n",
              "      <td>5</td>\n",
              "      <td>Audrey</td>\n",
              "      <td>Cheng</td>\n",
              "      <td>16.0</td>\n",
              "    </tr>\n",
              "    <tr>\n",
              "      <th>5</th>\n",
              "      <td>4</td>\n",
              "      <td>Michael</td>\n",
              "      <td>Macharia</td>\n",
              "      <td>61.0</td>\n",
              "    </tr>\n",
              "    <tr>\n",
              "      <th>6</th>\n",
              "      <td>5</td>\n",
              "      <td>Judy</td>\n",
              "      <td>Waithera</td>\n",
              "      <td>16.0</td>\n",
              "    </tr>\n",
              "    <tr>\n",
              "      <th>7</th>\n",
              "      <td>6</td>\n",
              "      <td>Lenny</td>\n",
              "      <td>Baraza</td>\n",
              "      <td>NaN</td>\n",
              "    </tr>\n",
              "    <tr>\n",
              "      <th>8</th>\n",
              "      <td>7</td>\n",
              "      <td>Mohammed</td>\n",
              "      <td>Ali</td>\n",
              "      <td>14.0</td>\n",
              "    </tr>\n",
              "    <tr>\n",
              "      <th>9</th>\n",
              "      <td>8</td>\n",
              "      <td>Betty</td>\n",
              "      <td>Kyalo</td>\n",
              "      <td>15.0</td>\n",
              "    </tr>\n",
              "  </tbody>\n",
              "</table>\n",
              "</div>"
            ],
            "text/plain": [
              "  subject_id first_name last_name  test_id\n",
              "0          1     Fridah     Njeri     51.0\n",
              "1          2      Kwasi  Adi Dako     15.0\n",
              "2          3     Victor    Oliech     15.0\n",
              "3          4      Alice    Tergat     61.0\n",
              "4          5     Audrey     Cheng     16.0\n",
              "5          4    Michael  Macharia     61.0\n",
              "6          5       Judy  Waithera     16.0\n",
              "7          6      Lenny    Baraza      NaN\n",
              "8          7   Mohammed       Ali     14.0\n",
              "9          8      Betty     Kyalo     15.0"
            ]
          },
          "metadata": {
            "tags": []
          },
          "execution_count": 61
        }
      ]
    },
    {
      "cell_type": "code",
      "metadata": {
        "id": "C9Xay1HLwYes",
        "colab": {
          "base_uri": "https://localhost:8080/",
          "height": 352
        },
        "outputId": "ba352e53-1e50-47f5-966e-700c5bb3011c"
      },
      "source": [
        "# Challenge 3\n",
        "# Create dataframes using dt1 and dt2 from Challenge 1 then merge based on indexes\n",
        "# \n",
        "df4 = pd.concat([df1,df2], axis = 0, ignore_index= True)\n",
        "df4"
      ],
      "execution_count": null,
      "outputs": [
        {
          "output_type": "execute_result",
          "data": {
            "text/html": [
              "<div>\n",
              "<style scoped>\n",
              "    .dataframe tbody tr th:only-of-type {\n",
              "        vertical-align: middle;\n",
              "    }\n",
              "\n",
              "    .dataframe tbody tr th {\n",
              "        vertical-align: top;\n",
              "    }\n",
              "\n",
              "    .dataframe thead th {\n",
              "        text-align: right;\n",
              "    }\n",
              "</style>\n",
              "<table border=\"1\" class=\"dataframe\">\n",
              "  <thead>\n",
              "    <tr style=\"text-align: right;\">\n",
              "      <th></th>\n",
              "      <th>subject_id</th>\n",
              "      <th>first_name</th>\n",
              "      <th>last_name</th>\n",
              "    </tr>\n",
              "  </thead>\n",
              "  <tbody>\n",
              "    <tr>\n",
              "      <th>0</th>\n",
              "      <td>1</td>\n",
              "      <td>Fridah</td>\n",
              "      <td>Njeri</td>\n",
              "    </tr>\n",
              "    <tr>\n",
              "      <th>1</th>\n",
              "      <td>2</td>\n",
              "      <td>Kwasi</td>\n",
              "      <td>Adi Dako</td>\n",
              "    </tr>\n",
              "    <tr>\n",
              "      <th>2</th>\n",
              "      <td>3</td>\n",
              "      <td>Victor</td>\n",
              "      <td>Oliech</td>\n",
              "    </tr>\n",
              "    <tr>\n",
              "      <th>3</th>\n",
              "      <td>4</td>\n",
              "      <td>Alice</td>\n",
              "      <td>Tergat</td>\n",
              "    </tr>\n",
              "    <tr>\n",
              "      <th>4</th>\n",
              "      <td>5</td>\n",
              "      <td>Audrey</td>\n",
              "      <td>Cheng</td>\n",
              "    </tr>\n",
              "    <tr>\n",
              "      <th>5</th>\n",
              "      <td>4</td>\n",
              "      <td>Michael</td>\n",
              "      <td>Macharia</td>\n",
              "    </tr>\n",
              "    <tr>\n",
              "      <th>6</th>\n",
              "      <td>5</td>\n",
              "      <td>Judy</td>\n",
              "      <td>Waithera</td>\n",
              "    </tr>\n",
              "    <tr>\n",
              "      <th>7</th>\n",
              "      <td>6</td>\n",
              "      <td>Lenny</td>\n",
              "      <td>Baraza</td>\n",
              "    </tr>\n",
              "    <tr>\n",
              "      <th>8</th>\n",
              "      <td>7</td>\n",
              "      <td>Mohammed</td>\n",
              "      <td>Ali</td>\n",
              "    </tr>\n",
              "    <tr>\n",
              "      <th>9</th>\n",
              "      <td>8</td>\n",
              "      <td>Betty</td>\n",
              "      <td>Kyalo</td>\n",
              "    </tr>\n",
              "  </tbody>\n",
              "</table>\n",
              "</div>"
            ],
            "text/plain": [
              "  subject_id first_name last_name\n",
              "0          1     Fridah     Njeri\n",
              "1          2      Kwasi  Adi Dako\n",
              "2          3     Victor    Oliech\n",
              "3          4      Alice    Tergat\n",
              "4          5     Audrey     Cheng\n",
              "5          4    Michael  Macharia\n",
              "6          5       Judy  Waithera\n",
              "7          6      Lenny    Baraza\n",
              "8          7   Mohammed       Ali\n",
              "9          8      Betty     Kyalo"
            ]
          },
          "metadata": {
            "tags": []
          },
          "execution_count": 64
        }
      ]
    },
    {
      "cell_type": "code",
      "metadata": {
        "id": "a9mm47zkwYUY"
      },
      "source": [
        "# Challenge 4\n",
        "# Create a dataframe from the following url (http://bit.ly/MDSTelecomData), then \n",
        "# and determine the sum of the durations per month of calls, sms and data entries.\n",
        "# Hint: Use groupby i.e. month, duration\n",
        "#\n"
      ],
      "execution_count": null,
      "outputs": []
    },
    {
      "cell_type": "markdown",
      "metadata": {
        "id": "6rPtQTpLv-lG"
      },
      "source": [
        "## 1.4 Converting Columns"
      ]
    },
    {
      "cell_type": "code",
      "metadata": {
        "id": "sSTboonmwHpS",
        "colab": {
          "base_uri": "https://localhost:8080/"
        },
        "outputId": "9b2eaca9-8048-4bcd-afb5-8ef1cfe64113"
      },
      "source": [
        "# Example 1\n",
        "# \n",
        "# Converting categorical columns to integer columns using label encoding method\n",
        "# so as to prepare to use categorical data in analysis. \n",
        "# For this example, we'll use a new Python library called sklearn(sci-kit learn). Sklearn is machine learning library for python that is used \n",
        "#in data mining and data anlysis. \n",
        "# As we progress in our data science journey we'll learn more about it's capabilities. \n",
        "#You will use this throughout module 1 and 2 of core as well, and in many future projects.\n",
        "# From this library we are importing a method called LabelEncoder that will help us in converting categorical data into integers\n",
        "from sklearn.preprocessing import LabelEncoder\n",
        "label_encoder = LabelEncoder()\n",
        "\n",
        "# Scenario 1\n",
        "df = pd.DataFrame({'col_1': [1, 0, 1, 2], \n",
        "                   'col_2': [1.2, 3.1, 4.4, 5.5], \n",
        "                   'col_3': [1, 2, 3, 4], \n",
        "                   'col_4': ['a', 'b', 'c', 'd']})\n",
        "df\n",
        "# Some of the models that you will learn about in the future only deal with numbers, particularly integers\n",
        "# First, we will convert col_4 to be in integer column, and the value within it to be integers as well.\n",
        "df.info()\n",
        "\n",
        "# This will study the column, figure out the unique categories, and assign an integer value to each starting from 0\n",
        "# This is internal to the label_encoder, it doesn't change the dataframe yet\n",
        "label_encoder.fit(df['col_4'])\n",
        "\n",
        "# View the labels in the column\n",
        "list(label_encoder.classes_)\n",
        "\n",
        "# This is how you transform the categories into intergers\n",
        "df['col_4'] = label_encoder.transform(df['col_4'])\n",
        "\n",
        "df\n",
        "df.info()\n",
        "\n",
        "# Uncomment after running previous lines\n",
        "# Slightly different scenario: repeated categories : ['a', 'b', 'b', 'a']. In this scenario, we will have duplicates in our categories\n",
        "df2 = pd.DataFrame({'col_1': [1, 0, 1, 2], \n",
        "                    'col_2': [1.2, 3.1, 4.4, 5.5], \n",
        "                    'col_3': [1, 2, 3, 4], \n",
        "                    'col_4': ['a', 'b', 'b', 'a']})\n",
        "df2\n",
        "\n",
        "# # Fitting the label encoder method in the column\n",
        "label_encoder.fit(df2['col_4'])\n",
        "\n",
        "# # Converting the categories into integers\n",
        "df2['col_4'] = label_encoder.transform(df2['col_4'])\n",
        "# # view the dataframe with the converted column\n",
        "df2\n",
        "df2.info()\n"
      ],
      "execution_count": null,
      "outputs": [
        {
          "output_type": "stream",
          "text": [
            "<class 'pandas.core.frame.DataFrame'>\n",
            "RangeIndex: 4 entries, 0 to 3\n",
            "Data columns (total 4 columns):\n",
            " #   Column  Non-Null Count  Dtype  \n",
            "---  ------  --------------  -----  \n",
            " 0   col_1   4 non-null      int64  \n",
            " 1   col_2   4 non-null      float64\n",
            " 2   col_3   4 non-null      int64  \n",
            " 3   col_4   4 non-null      object \n",
            "dtypes: float64(1), int64(2), object(1)\n",
            "memory usage: 256.0+ bytes\n",
            "<class 'pandas.core.frame.DataFrame'>\n",
            "RangeIndex: 4 entries, 0 to 3\n",
            "Data columns (total 4 columns):\n",
            " #   Column  Non-Null Count  Dtype  \n",
            "---  ------  --------------  -----  \n",
            " 0   col_1   4 non-null      int64  \n",
            " 1   col_2   4 non-null      float64\n",
            " 2   col_3   4 non-null      int64  \n",
            " 3   col_4   4 non-null      int64  \n",
            "dtypes: float64(1), int64(3)\n",
            "memory usage: 256.0 bytes\n",
            "<class 'pandas.core.frame.DataFrame'>\n",
            "RangeIndex: 4 entries, 0 to 3\n",
            "Data columns (total 4 columns):\n",
            " #   Column  Non-Null Count  Dtype  \n",
            "---  ------  --------------  -----  \n",
            " 0   col_1   4 non-null      int64  \n",
            " 1   col_2   4 non-null      float64\n",
            " 2   col_3   4 non-null      int64  \n",
            " 3   col_4   4 non-null      int64  \n",
            "dtypes: float64(1), int64(3)\n",
            "memory usage: 256.0 bytes\n"
          ],
          "name": "stdout"
        }
      ]
    },
    {
      "cell_type": "code",
      "metadata": {
        "id": "yXtjTSq4wHkN",
        "colab": {
          "base_uri": "https://localhost:8080/",
          "height": 340
        },
        "outputId": "15a66f2a-9ab0-41da-a5be-edfb2e68e76e"
      },
      "source": [
        "# Example 2\n",
        "# Reducing high dimensionality from categorical column\n",
        "# We will learn more about the topic of Dimension reduction in Core\n",
        "# More info: \n",
        "# 1) http://bit.ly/DimensionReductionExample\n",
        "# 2) http://bit.ly/DimensionReductionProblem\n",
        "import pandas as pd\n",
        "import numpy as np\n",
        "\n",
        "df = pd.DataFrame({'groups': ['group 1','group 2','group 1','group 2','group 3','group 4','group 5','group 1','group 2','group 5'], \n",
        "                   'vals': [1,2,3,4,5,6,7,8,9,10]})\n",
        "df\n",
        "\n",
        "# Uncomment after running previous lines\n",
        "df['groups'].value_counts()\n",
        "\n",
        "# Uncomment after running previous lines\n",
        "high_dim_columns = ['groups']\n",
        "\n",
        "# Uncomment after running previous lines\n",
        "for column in high_dim_columns:\n",
        "  a = pd.DataFrame(df[column].value_counts() <= 2)\n",
        "  unique_values = a.index[a[column]].values\n",
        "  df.loc[df[column].isin(unique_values), column] = 'other'\n",
        "df"
      ],
      "execution_count": null,
      "outputs": [
        {
          "output_type": "execute_result",
          "data": {
            "text/html": [
              "<div>\n",
              "<style scoped>\n",
              "    .dataframe tbody tr th:only-of-type {\n",
              "        vertical-align: middle;\n",
              "    }\n",
              "\n",
              "    .dataframe tbody tr th {\n",
              "        vertical-align: top;\n",
              "    }\n",
              "\n",
              "    .dataframe thead th {\n",
              "        text-align: right;\n",
              "    }\n",
              "</style>\n",
              "<table border=\"1\" class=\"dataframe\">\n",
              "  <thead>\n",
              "    <tr style=\"text-align: right;\">\n",
              "      <th></th>\n",
              "      <th>groups</th>\n",
              "      <th>vals</th>\n",
              "    </tr>\n",
              "  </thead>\n",
              "  <tbody>\n",
              "    <tr>\n",
              "      <th>0</th>\n",
              "      <td>group 1</td>\n",
              "      <td>1</td>\n",
              "    </tr>\n",
              "    <tr>\n",
              "      <th>1</th>\n",
              "      <td>group 2</td>\n",
              "      <td>2</td>\n",
              "    </tr>\n",
              "    <tr>\n",
              "      <th>2</th>\n",
              "      <td>group 1</td>\n",
              "      <td>3</td>\n",
              "    </tr>\n",
              "    <tr>\n",
              "      <th>3</th>\n",
              "      <td>group 2</td>\n",
              "      <td>4</td>\n",
              "    </tr>\n",
              "    <tr>\n",
              "      <th>4</th>\n",
              "      <td>other</td>\n",
              "      <td>5</td>\n",
              "    </tr>\n",
              "    <tr>\n",
              "      <th>5</th>\n",
              "      <td>other</td>\n",
              "      <td>6</td>\n",
              "    </tr>\n",
              "    <tr>\n",
              "      <th>6</th>\n",
              "      <td>other</td>\n",
              "      <td>7</td>\n",
              "    </tr>\n",
              "    <tr>\n",
              "      <th>7</th>\n",
              "      <td>group 1</td>\n",
              "      <td>8</td>\n",
              "    </tr>\n",
              "    <tr>\n",
              "      <th>8</th>\n",
              "      <td>group 2</td>\n",
              "      <td>9</td>\n",
              "    </tr>\n",
              "    <tr>\n",
              "      <th>9</th>\n",
              "      <td>other</td>\n",
              "      <td>10</td>\n",
              "    </tr>\n",
              "  </tbody>\n",
              "</table>\n",
              "</div>"
            ],
            "text/plain": [
              "    groups  vals\n",
              "0  group 1     1\n",
              "1  group 2     2\n",
              "2  group 1     3\n",
              "3  group 2     4\n",
              "4    other     5\n",
              "5    other     6\n",
              "6    other     7\n",
              "7  group 1     8\n",
              "8  group 2     9\n",
              "9    other    10"
            ]
          },
          "metadata": {
            "tags": []
          },
          "execution_count": 7
        }
      ]
    },
    {
      "cell_type": "code",
      "metadata": {
        "id": "g37pMnfcwHfp",
        "colab": {
          "base_uri": "https://localhost:8080/",
          "height": 164
        },
        "outputId": "4d9f5d9d-6276-4afc-bb6e-07b23e47643d"
      },
      "source": [
        "# Example 3\n",
        "# Converting categorical column to one hot encoded column \n",
        "# More information on hot encoding: http://bit.ly/HotEncoding\n",
        "# \n",
        "df = pd.DataFrame({'sex': ['M', 'F', 'M', 'F'], \n",
        "                   'col_2': [1.2, 3.1, 4.4, 5.5], \n",
        "                   'col_3': [1, 2, 3, 4], \n",
        "                   'col_4': ['a', 'b', 'c', 'd']})\n",
        "df\n",
        "\n",
        "# Uncomment after running previous lines\n",
        "categorical_variables = ['sex']\n",
        "\n",
        "# Uncomment after running previous lines\n",
        "for variable in categorical_variables:\n",
        "    df[variable].fillna(\"Missing\", inplace=True) # Fill missing data with the word \"Missing\"\n",
        "    dummies = pd.get_dummies(df[variable], prefix=variable) # Create array of dummies\n",
        "    df = pd.concat([df, dummies], axis=1) # Update dataframe to include dummies and drop the main variable\n",
        "    df.drop([variable], axis=1, inplace=True) \n",
        "df"
      ],
      "execution_count": null,
      "outputs": [
        {
          "output_type": "execute_result",
          "data": {
            "text/html": [
              "<div>\n",
              "<style scoped>\n",
              "    .dataframe tbody tr th:only-of-type {\n",
              "        vertical-align: middle;\n",
              "    }\n",
              "\n",
              "    .dataframe tbody tr th {\n",
              "        vertical-align: top;\n",
              "    }\n",
              "\n",
              "    .dataframe thead th {\n",
              "        text-align: right;\n",
              "    }\n",
              "</style>\n",
              "<table border=\"1\" class=\"dataframe\">\n",
              "  <thead>\n",
              "    <tr style=\"text-align: right;\">\n",
              "      <th></th>\n",
              "      <th>col_2</th>\n",
              "      <th>col_3</th>\n",
              "      <th>col_4</th>\n",
              "      <th>sex_F</th>\n",
              "      <th>sex_M</th>\n",
              "    </tr>\n",
              "  </thead>\n",
              "  <tbody>\n",
              "    <tr>\n",
              "      <th>0</th>\n",
              "      <td>1.2</td>\n",
              "      <td>1</td>\n",
              "      <td>a</td>\n",
              "      <td>0</td>\n",
              "      <td>1</td>\n",
              "    </tr>\n",
              "    <tr>\n",
              "      <th>1</th>\n",
              "      <td>3.1</td>\n",
              "      <td>2</td>\n",
              "      <td>b</td>\n",
              "      <td>1</td>\n",
              "      <td>0</td>\n",
              "    </tr>\n",
              "    <tr>\n",
              "      <th>2</th>\n",
              "      <td>4.4</td>\n",
              "      <td>3</td>\n",
              "      <td>c</td>\n",
              "      <td>0</td>\n",
              "      <td>1</td>\n",
              "    </tr>\n",
              "    <tr>\n",
              "      <th>3</th>\n",
              "      <td>5.5</td>\n",
              "      <td>4</td>\n",
              "      <td>d</td>\n",
              "      <td>1</td>\n",
              "      <td>0</td>\n",
              "    </tr>\n",
              "  </tbody>\n",
              "</table>\n",
              "</div>"
            ],
            "text/plain": [
              "   col_2  col_3 col_4  sex_F  sex_M\n",
              "0    1.2      1     a      0      1\n",
              "1    3.1      2     b      1      0\n",
              "2    4.4      3     c      0      1\n",
              "3    5.5      4     d      1      0"
            ]
          },
          "metadata": {
            "tags": []
          },
          "execution_count": 10
        }
      ]
    },
    {
      "cell_type": "markdown",
      "metadata": {
        "id": "P_089UxhwZ__"
      },
      "source": [
        "### <font color=\"green\">1.4 Challenges</font>"
      ]
    },
    {
      "cell_type": "code",
      "metadata": {
        "id": "J_EknU8IwdWN"
      },
      "source": [
        "# Challenge 1\n",
        "# Create a dataframe from the given dictionary below then\n",
        "# Convert the categorical column to an integer column\n",
        "# \n",
        "dt1 = {'patient': [1, 1, 1, 2, 2], \n",
        "        'obs': [1, 2, 3, 1, 2], \n",
        "        'diagnosis': [0, 1, 0, 1, 0],\n",
        "        'score': ['weak', 'strong', 'normal', 'weak', 'normal']}\n",
        "\n",
        "OUR CODE GOES HERE"
      ],
      "execution_count": null,
      "outputs": []
    },
    {
      "cell_type": "code",
      "metadata": {
        "id": "O9ByukuiwdHG"
      },
      "source": [
        "# Challenge 2\n",
        "# Convert the categorical column to one hot encoded column\n",
        "# in the following list\n",
        "# \n",
        "list1 = [[\"Nairobi\", \"range\", 3000], [\"Mombasa\", \"tuktuk\", 4000], [\"Nakuru\", \"tuktuk\", 1000]]\n",
        "\n"
      ],
      "execution_count": null,
      "outputs": []
    },
    {
      "cell_type": "markdown",
      "metadata": {
        "id": "I6tAKZoawCFA"
      },
      "source": [
        "## 1.5 Splitting Columns\n"
      ]
    },
    {
      "cell_type": "code",
      "metadata": {
        "id": "9yFk2RVZwIgu",
        "colab": {
          "base_uri": "https://localhost:8080/",
          "height": 137
        },
        "outputId": "ea6032ec-8efb-403b-c288-0600d43916d4"
      },
      "source": [
        "# Example 1\n",
        "# Splitting a column using a delimiter\n",
        "# \n",
        "data = [{'test': 'vikash|Arpit', 'val': 6},\n",
        "        {'test': 'vikash_1|arpit|Vinayp', 'val': 3},\n",
        "        {'test': 'arpit|vinayp', 'val': 2}]\n",
        "df = pd.DataFrame.from_dict(data, orient='columns')\n",
        "df\n",
        "\n",
        "# Uncomment after running previous lines\n",
        "df['test'].apply(lambda x: pd.Series([i for i in reversed(x.lower().split('|'))]))"
      ],
      "execution_count": null,
      "outputs": [
        {
          "output_type": "execute_result",
          "data": {
            "text/html": [
              "<div>\n",
              "<style scoped>\n",
              "    .dataframe tbody tr th:only-of-type {\n",
              "        vertical-align: middle;\n",
              "    }\n",
              "\n",
              "    .dataframe tbody tr th {\n",
              "        vertical-align: top;\n",
              "    }\n",
              "\n",
              "    .dataframe thead th {\n",
              "        text-align: right;\n",
              "    }\n",
              "</style>\n",
              "<table border=\"1\" class=\"dataframe\">\n",
              "  <thead>\n",
              "    <tr style=\"text-align: right;\">\n",
              "      <th></th>\n",
              "      <th>0</th>\n",
              "      <th>1</th>\n",
              "      <th>2</th>\n",
              "    </tr>\n",
              "  </thead>\n",
              "  <tbody>\n",
              "    <tr>\n",
              "      <th>0</th>\n",
              "      <td>arpit</td>\n",
              "      <td>vikash</td>\n",
              "      <td>NaN</td>\n",
              "    </tr>\n",
              "    <tr>\n",
              "      <th>1</th>\n",
              "      <td>vinayp</td>\n",
              "      <td>arpit</td>\n",
              "      <td>vikash_1</td>\n",
              "    </tr>\n",
              "    <tr>\n",
              "      <th>2</th>\n",
              "      <td>vinayp</td>\n",
              "      <td>arpit</td>\n",
              "      <td>NaN</td>\n",
              "    </tr>\n",
              "  </tbody>\n",
              "</table>\n",
              "</div>"
            ],
            "text/plain": [
              "        0       1         2\n",
              "0   arpit  vikash       NaN\n",
              "1  vinayp   arpit  vikash_1\n",
              "2  vinayp   arpit       NaN"
            ]
          },
          "metadata": {
            "tags": []
          },
          "execution_count": 4
        }
      ]
    },
    {
      "cell_type": "code",
      "metadata": {
        "id": "j73HA4WfwIWz",
        "colab": {
          "base_uri": "https://localhost:8080/",
          "height": 228
        },
        "outputId": "f57758da-cc6c-4c02-8c63-c2a4b3c56a6b"
      },
      "source": [
        "# Example 2\n",
        "# Splitting a column using delimiter and one hot encode the values \n",
        "# \n",
        "data = [{'test': 'vikash|Arpit', 'val': 6},\n",
        "        {'test': 'vikash_1|arpit|Vinayp', 'val': 3},\n",
        "        {'test': 'arpit|vinayp', 'val': 2}]\n",
        "\n",
        "df = pd.DataFrame.from_dict(data, orient='columns')\n",
        "df\n",
        "\n",
        "# Uncomment after running previous lines\n",
        "chosen_columns = set()\n",
        "for idx, row in df.iterrows():\n",
        "  for val in str(row['test']).lower().split('|'):\n",
        "    chosen_columns.add(val.strip())\n",
        "\n",
        "# Uncomment after running previous lines\n",
        "chosen_columns_list = list(chosen_columns)\n",
        "\n",
        "# Uncomment after running previous lines\n",
        "# chosen_columns_list.sort(key=len, reverse=True) \n",
        "# chosen_columns_list\n",
        "\n",
        "\n",
        "# def get_one_hot_encoded_column(col_value):\n",
        "#     col_value = col_value.lower()\n",
        "#     new_col_value = ''\n",
        "#     for val in chosen_columns_list:\n",
        "#         if val in col_value.split('|'):\n",
        "#             col_value = col_value.replace(val, '')\n",
        "#             new_col_value += '1,'\n",
        "#         else:\n",
        "#             new_col_value += '0,'\n",
        "#     return new_col_value[:-1]\n",
        "\n",
        "# Uncomment after running previous lines\n",
        "df['test_new'] = df['test'].map(get_one_hot_encoded_column)\n",
        "df\n",
        "\n",
        "# Uncomment after running previous lines\n",
        "# df2 = df['test_new'].apply(lambda x: pd.Series([i for i in x.lower().split(',')]))\n",
        "# df2\n",
        "\n",
        "# Uncomment after running previous lines\n",
        "# df2.columns = chosen_columns_list\n",
        "# df2\n",
        "\n",
        "# Uncomment after running previous lines\n",
        "# df2.info()\n",
        "\n",
        "# Uncomment after running previous lines\n",
        "# df2 = df2.apply(pd.to_numeric)\n",
        "\n",
        "# Uncomment after running previous lines\n",
        "# df2.info()\n",
        "\n",
        "# Uncomment after running previous lines\n",
        "# df_new = pd.concat([df, df2], axis=1)\n",
        "\n",
        "# Uncomment after running previous lines\n",
        "# df_new.drop(['test', 'test_new'], inplace=True, axis=1)\n",
        "# df_new"
      ],
      "execution_count": null,
      "outputs": [
        {
          "output_type": "error",
          "ename": "NameError",
          "evalue": "ignored",
          "traceback": [
            "\u001b[0;31m---------------------------------------------------------------------------\u001b[0m",
            "\u001b[0;31mNameError\u001b[0m                                 Traceback (most recent call last)",
            "\u001b[0;32m<ipython-input-23-099550e87cde>\u001b[0m in \u001b[0;36m<module>\u001b[0;34m()\u001b[0m\n\u001b[1;32m     35\u001b[0m \u001b[0;34m\u001b[0m\u001b[0m\n\u001b[1;32m     36\u001b[0m \u001b[0;31m# Uncomment after running previous lines\u001b[0m\u001b[0;34m\u001b[0m\u001b[0;34m\u001b[0m\u001b[0;34m\u001b[0m\u001b[0m\n\u001b[0;32m---> 37\u001b[0;31m \u001b[0mdf\u001b[0m\u001b[0;34m[\u001b[0m\u001b[0;34m'test_new'\u001b[0m\u001b[0;34m]\u001b[0m \u001b[0;34m=\u001b[0m \u001b[0mdf\u001b[0m\u001b[0;34m[\u001b[0m\u001b[0;34m'test'\u001b[0m\u001b[0;34m]\u001b[0m\u001b[0;34m.\u001b[0m\u001b[0mmap\u001b[0m\u001b[0;34m(\u001b[0m\u001b[0mget_one_hot_encoded_column\u001b[0m\u001b[0;34m)\u001b[0m\u001b[0;34m\u001b[0m\u001b[0;34m\u001b[0m\u001b[0m\n\u001b[0m\u001b[1;32m     38\u001b[0m \u001b[0mdf\u001b[0m\u001b[0;34m\u001b[0m\u001b[0;34m\u001b[0m\u001b[0m\n\u001b[1;32m     39\u001b[0m \u001b[0;34m\u001b[0m\u001b[0m\n",
            "\u001b[0;31mNameError\u001b[0m: name 'get_one_hot_encoded_column' is not defined"
          ]
        }
      ]
    },
    {
      "cell_type": "markdown",
      "metadata": {
        "id": "G3rltepOweG5"
      },
      "source": [
        "### <font color=\"green\">1.5 Challenges</font>"
      ]
    },
    {
      "cell_type": "markdown",
      "metadata": {
        "id": "gwWujEm1jqAR"
      },
      "source": [
        "# New section"
      ]
    },
    {
      "cell_type": "code",
      "metadata": {
        "id": "Oz3fFMe8wgav",
        "colab": {
          "base_uri": "https://localhost:8080/",
          "height": 197
        },
        "outputId": "b54b1272-fc1c-417d-bf20-d9bf7432dd6b"
      },
      "source": [
        "# Challenge 1\n",
        "# Split the following dataframe into multiple rows\n",
        "#\n",
        "df = pd.DataFrame({\n",
        "   'EmployeeId': ['123', '124', '125', '126', '126'],\n",
        "   'City': ['Nairobi|Mombasa', 'Nakuru|Nairobi|Kisumu', 'Nairobi|Mombasa', 'Nairobi|Nakuru', 'Mombasa'] \n",
        "})\n",
        "df\n",
        "df['City'].apply(lambda x: pd.Series([i for i in reversed(x.lower().split('|'))]))"
      ],
      "execution_count": null,
      "outputs": [
        {
          "output_type": "execute_result",
          "data": {
            "text/html": [
              "<div>\n",
              "<style scoped>\n",
              "    .dataframe tbody tr th:only-of-type {\n",
              "        vertical-align: middle;\n",
              "    }\n",
              "\n",
              "    .dataframe tbody tr th {\n",
              "        vertical-align: top;\n",
              "    }\n",
              "\n",
              "    .dataframe thead th {\n",
              "        text-align: right;\n",
              "    }\n",
              "</style>\n",
              "<table border=\"1\" class=\"dataframe\">\n",
              "  <thead>\n",
              "    <tr style=\"text-align: right;\">\n",
              "      <th></th>\n",
              "      <th>0</th>\n",
              "      <th>1</th>\n",
              "      <th>2</th>\n",
              "    </tr>\n",
              "  </thead>\n",
              "  <tbody>\n",
              "    <tr>\n",
              "      <th>0</th>\n",
              "      <td>mombasa</td>\n",
              "      <td>nairobi</td>\n",
              "      <td>NaN</td>\n",
              "    </tr>\n",
              "    <tr>\n",
              "      <th>1</th>\n",
              "      <td>kisumu</td>\n",
              "      <td>nairobi</td>\n",
              "      <td>nakuru</td>\n",
              "    </tr>\n",
              "    <tr>\n",
              "      <th>2</th>\n",
              "      <td>mombasa</td>\n",
              "      <td>nairobi</td>\n",
              "      <td>NaN</td>\n",
              "    </tr>\n",
              "    <tr>\n",
              "      <th>3</th>\n",
              "      <td>nakuru</td>\n",
              "      <td>nairobi</td>\n",
              "      <td>NaN</td>\n",
              "    </tr>\n",
              "    <tr>\n",
              "      <th>4</th>\n",
              "      <td>mombasa</td>\n",
              "      <td>NaN</td>\n",
              "      <td>NaN</td>\n",
              "    </tr>\n",
              "  </tbody>\n",
              "</table>\n",
              "</div>"
            ],
            "text/plain": [
              "         0        1       2\n",
              "0  mombasa  nairobi     NaN\n",
              "1   kisumu  nairobi  nakuru\n",
              "2  mombasa  nairobi     NaN\n",
              "3   nakuru  nairobi     NaN\n",
              "4  mombasa      NaN     NaN"
            ]
          },
          "metadata": {
            "tags": []
          },
          "execution_count": 19
        }
      ]
    }
  ]
}